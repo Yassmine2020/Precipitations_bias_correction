{
 "cells": [
  {
   "cell_type": "code",
   "execution_count": 66,
   "metadata": {},
   "outputs": [],
   "source": [
    "import pandas as pd\n",
    "\n",
    "dec_merged = pd.read_csv('../DATASET/obs_est_merged/dec_merged.csv')"
   ]
  },
  {
   "cell_type": "code",
   "execution_count": 67,
   "metadata": {},
   "outputs": [
    {
     "data": {
      "text/html": [
       "<div>\n",
       "<style scoped>\n",
       "    .dataframe tbody tr th:only-of-type {\n",
       "        vertical-align: middle;\n",
       "    }\n",
       "\n",
       "    .dataframe tbody tr th {\n",
       "        vertical-align: top;\n",
       "    }\n",
       "\n",
       "    .dataframe thead th {\n",
       "        text-align: right;\n",
       "    }\n",
       "</style>\n",
       "<table border=\"1\" class=\"dataframe\">\n",
       "  <thead>\n",
       "    <tr style=\"text-align: right;\">\n",
       "      <th></th>\n",
       "      <th>lat</th>\n",
       "      <th>lon</th>\n",
       "      <th>year</th>\n",
       "      <th>month</th>\n",
       "      <th>precip_est</th>\n",
       "      <th>precip_obs</th>\n",
       "      <th>bias_dec</th>\n",
       "    </tr>\n",
       "  </thead>\n",
       "  <tbody>\n",
       "    <tr>\n",
       "      <th>0</th>\n",
       "      <td>45.0</td>\n",
       "      <td>-20.0</td>\n",
       "      <td>1982</td>\n",
       "      <td>1</td>\n",
       "      <td>114.242190</td>\n",
       "      <td>158.107760</td>\n",
       "      <td>-43.865570</td>\n",
       "    </tr>\n",
       "    <tr>\n",
       "      <th>1</th>\n",
       "      <td>45.0</td>\n",
       "      <td>-19.0</td>\n",
       "      <td>1982</td>\n",
       "      <td>1</td>\n",
       "      <td>109.765625</td>\n",
       "      <td>138.565060</td>\n",
       "      <td>-28.799435</td>\n",
       "    </tr>\n",
       "    <tr>\n",
       "      <th>2</th>\n",
       "      <td>45.0</td>\n",
       "      <td>-18.0</td>\n",
       "      <td>1982</td>\n",
       "      <td>1</td>\n",
       "      <td>106.218750</td>\n",
       "      <td>122.867584</td>\n",
       "      <td>-16.648834</td>\n",
       "    </tr>\n",
       "    <tr>\n",
       "      <th>3</th>\n",
       "      <td>45.0</td>\n",
       "      <td>-17.0</td>\n",
       "      <td>1982</td>\n",
       "      <td>1</td>\n",
       "      <td>105.335940</td>\n",
       "      <td>109.741210</td>\n",
       "      <td>-4.405270</td>\n",
       "    </tr>\n",
       "    <tr>\n",
       "      <th>4</th>\n",
       "      <td>45.0</td>\n",
       "      <td>-16.0</td>\n",
       "      <td>1982</td>\n",
       "      <td>1</td>\n",
       "      <td>103.375000</td>\n",
       "      <td>106.399536</td>\n",
       "      <td>-3.024536</td>\n",
       "    </tr>\n",
       "    <tr>\n",
       "      <th>...</th>\n",
       "      <td>...</td>\n",
       "      <td>...</td>\n",
       "      <td>...</td>\n",
       "      <td>...</td>\n",
       "      <td>...</td>\n",
       "      <td>...</td>\n",
       "      <td>...</td>\n",
       "    </tr>\n",
       "    <tr>\n",
       "      <th>230251</th>\n",
       "      <td>20.0</td>\n",
       "      <td>16.0</td>\n",
       "      <td>2017</td>\n",
       "      <td>6</td>\n",
       "      <td>0.351885</td>\n",
       "      <td>3.776550</td>\n",
       "      <td>-3.424665</td>\n",
       "    </tr>\n",
       "    <tr>\n",
       "      <th>230252</th>\n",
       "      <td>20.0</td>\n",
       "      <td>17.0</td>\n",
       "      <td>2017</td>\n",
       "      <td>6</td>\n",
       "      <td>0.426104</td>\n",
       "      <td>3.719330</td>\n",
       "      <td>-3.293226</td>\n",
       "    </tr>\n",
       "    <tr>\n",
       "      <th>230253</th>\n",
       "      <td>20.0</td>\n",
       "      <td>18.0</td>\n",
       "      <td>2017</td>\n",
       "      <td>6</td>\n",
       "      <td>1.090166</td>\n",
       "      <td>3.147125</td>\n",
       "      <td>-2.056959</td>\n",
       "    </tr>\n",
       "    <tr>\n",
       "      <th>230254</th>\n",
       "      <td>20.0</td>\n",
       "      <td>19.0</td>\n",
       "      <td>2017</td>\n",
       "      <td>6</td>\n",
       "      <td>1.437823</td>\n",
       "      <td>0.000000</td>\n",
       "      <td>1.437823</td>\n",
       "    </tr>\n",
       "    <tr>\n",
       "      <th>230255</th>\n",
       "      <td>20.0</td>\n",
       "      <td>20.0</td>\n",
       "      <td>2017</td>\n",
       "      <td>6</td>\n",
       "      <td>0.965166</td>\n",
       "      <td>0.000000</td>\n",
       "      <td>0.965166</td>\n",
       "    </tr>\n",
       "  </tbody>\n",
       "</table>\n",
       "<p>230256 rows × 7 columns</p>\n",
       "</div>"
      ],
      "text/plain": [
       "         lat   lon  year  month  precip_est  precip_obs   bias_dec\n",
       "0       45.0 -20.0  1982      1  114.242190  158.107760 -43.865570\n",
       "1       45.0 -19.0  1982      1  109.765625  138.565060 -28.799435\n",
       "2       45.0 -18.0  1982      1  106.218750  122.867584 -16.648834\n",
       "3       45.0 -17.0  1982      1  105.335940  109.741210  -4.405270\n",
       "4       45.0 -16.0  1982      1  103.375000  106.399536  -3.024536\n",
       "...      ...   ...   ...    ...         ...         ...        ...\n",
       "230251  20.0  16.0  2017      6    0.351885    3.776550  -3.424665\n",
       "230252  20.0  17.0  2017      6    0.426104    3.719330  -3.293226\n",
       "230253  20.0  18.0  2017      6    1.090166    3.147125  -2.056959\n",
       "230254  20.0  19.0  2017      6    1.437823    0.000000   1.437823\n",
       "230255  20.0  20.0  2017      6    0.965166    0.000000   0.965166\n",
       "\n",
       "[230256 rows x 7 columns]"
      ]
     },
     "execution_count": 67,
     "metadata": {},
     "output_type": "execute_result"
    }
   ],
   "source": [
    "dec_merged"
   ]
  },
  {
   "cell_type": "code",
   "execution_count": 68,
   "metadata": {},
   "outputs": [],
   "source": [
    "dec_average= dec_merged\n",
    "dec_average = dec_average.drop(columns=['precip_obs'])\n",
    "dec_average = dec_average[(dec_average['lon'] >= -18) & (dec_average['lon'] <= 0)]\n",
    "dec_average = dec_average[(dec_average['lat'] >= 20) & (dec_average['lat'] <= 38)]"
   ]
  },
  {
   "cell_type": "code",
   "execution_count": 69,
   "metadata": {},
   "outputs": [
    {
     "data": {
      "text/html": [
       "<div>\n",
       "<style scoped>\n",
       "    .dataframe tbody tr th:only-of-type {\n",
       "        vertical-align: middle;\n",
       "    }\n",
       "\n",
       "    .dataframe tbody tr th {\n",
       "        vertical-align: top;\n",
       "    }\n",
       "\n",
       "    .dataframe thead th {\n",
       "        text-align: right;\n",
       "    }\n",
       "</style>\n",
       "<table border=\"1\" class=\"dataframe\">\n",
       "  <thead>\n",
       "    <tr style=\"text-align: right;\">\n",
       "      <th></th>\n",
       "      <th>lat</th>\n",
       "      <th>lon</th>\n",
       "      <th>year</th>\n",
       "      <th>month</th>\n",
       "      <th>precip_est</th>\n",
       "      <th>bias_dec</th>\n",
       "    </tr>\n",
       "  </thead>\n",
       "  <tbody>\n",
       "    <tr>\n",
       "      <th>289</th>\n",
       "      <td>38.0</td>\n",
       "      <td>-18.0</td>\n",
       "      <td>1982</td>\n",
       "      <td>1</td>\n",
       "      <td>76.445310</td>\n",
       "      <td>37.123410</td>\n",
       "    </tr>\n",
       "    <tr>\n",
       "      <th>330</th>\n",
       "      <td>37.0</td>\n",
       "      <td>-18.0</td>\n",
       "      <td>1982</td>\n",
       "      <td>1</td>\n",
       "      <td>69.164060</td>\n",
       "      <td>34.366390</td>\n",
       "    </tr>\n",
       "    <tr>\n",
       "      <th>371</th>\n",
       "      <td>36.0</td>\n",
       "      <td>-18.0</td>\n",
       "      <td>1982</td>\n",
       "      <td>1</td>\n",
       "      <td>65.484375</td>\n",
       "      <td>-3.401425</td>\n",
       "    </tr>\n",
       "    <tr>\n",
       "      <th>412</th>\n",
       "      <td>35.0</td>\n",
       "      <td>-18.0</td>\n",
       "      <td>1982</td>\n",
       "      <td>1</td>\n",
       "      <td>67.460940</td>\n",
       "      <td>0.585480</td>\n",
       "    </tr>\n",
       "    <tr>\n",
       "      <th>453</th>\n",
       "      <td>34.0</td>\n",
       "      <td>-18.0</td>\n",
       "      <td>1982</td>\n",
       "      <td>1</td>\n",
       "      <td>71.710940</td>\n",
       "      <td>-6.635310</td>\n",
       "    </tr>\n",
       "    <tr>\n",
       "      <th>...</th>\n",
       "      <td>...</td>\n",
       "      <td>...</td>\n",
       "      <td>...</td>\n",
       "      <td>...</td>\n",
       "      <td>...</td>\n",
       "      <td>...</td>\n",
       "    </tr>\n",
       "    <tr>\n",
       "      <th>230053</th>\n",
       "      <td>24.0</td>\n",
       "      <td>-18.0</td>\n",
       "      <td>2017</td>\n",
       "      <td>6</td>\n",
       "      <td>1.277666</td>\n",
       "      <td>0.705462</td>\n",
       "    </tr>\n",
       "    <tr>\n",
       "      <th>230094</th>\n",
       "      <td>23.0</td>\n",
       "      <td>-18.0</td>\n",
       "      <td>2017</td>\n",
       "      <td>6</td>\n",
       "      <td>0.711260</td>\n",
       "      <td>0.253497</td>\n",
       "    </tr>\n",
       "    <tr>\n",
       "      <th>230135</th>\n",
       "      <td>22.0</td>\n",
       "      <td>-18.0</td>\n",
       "      <td>2017</td>\n",
       "      <td>6</td>\n",
       "      <td>0.269854</td>\n",
       "      <td>0.040972</td>\n",
       "    </tr>\n",
       "    <tr>\n",
       "      <th>230176</th>\n",
       "      <td>21.0</td>\n",
       "      <td>-18.0</td>\n",
       "      <td>2017</td>\n",
       "      <td>6</td>\n",
       "      <td>0.226885</td>\n",
       "      <td>-0.001997</td>\n",
       "    </tr>\n",
       "    <tr>\n",
       "      <th>230217</th>\n",
       "      <td>20.0</td>\n",
       "      <td>-18.0</td>\n",
       "      <td>2017</td>\n",
       "      <td>6</td>\n",
       "      <td>0.203448</td>\n",
       "      <td>-0.197095</td>\n",
       "    </tr>\n",
       "  </tbody>\n",
       "</table>\n",
       "<p>4104 rows × 6 columns</p>\n",
       "</div>"
      ],
      "text/plain": [
       "         lat   lon  year  month  precip_est   bias_dec\n",
       "289     38.0 -18.0  1982      1   76.445310  37.123410\n",
       "330     37.0 -18.0  1982      1   69.164060  34.366390\n",
       "371     36.0 -18.0  1982      1   65.484375  -3.401425\n",
       "412     35.0 -18.0  1982      1   67.460940   0.585480\n",
       "453     34.0 -18.0  1982      1   71.710940  -6.635310\n",
       "...      ...   ...   ...    ...         ...        ...\n",
       "230053  24.0 -18.0  2017      6    1.277666   0.705462\n",
       "230094  23.0 -18.0  2017      6    0.711260   0.253497\n",
       "230135  22.0 -18.0  2017      6    0.269854   0.040972\n",
       "230176  21.0 -18.0  2017      6    0.226885  -0.001997\n",
       "230217  20.0 -18.0  2017      6    0.203448  -0.197095\n",
       "\n",
       "[4104 rows x 6 columns]"
      ]
     },
     "execution_count": 69,
     "metadata": {},
     "output_type": "execute_result"
    }
   ],
   "source": [
    "dec_average[dec_average['lon'] == -18]"
   ]
  },
  {
   "cell_type": "code",
   "execution_count": 70,
   "metadata": {},
   "outputs": [
    {
     "data": {
      "text/html": [
       "<div>\n",
       "<style scoped>\n",
       "    .dataframe tbody tr th:only-of-type {\n",
       "        vertical-align: middle;\n",
       "    }\n",
       "\n",
       "    .dataframe tbody tr th {\n",
       "        vertical-align: top;\n",
       "    }\n",
       "\n",
       "    .dataframe thead th {\n",
       "        text-align: right;\n",
       "    }\n",
       "</style>\n",
       "<table border=\"1\" class=\"dataframe\">\n",
       "  <thead>\n",
       "    <tr style=\"text-align: right;\">\n",
       "      <th></th>\n",
       "      <th>lat</th>\n",
       "      <th>lon</th>\n",
       "      <th>year</th>\n",
       "      <th>month</th>\n",
       "      <th>precip_est</th>\n",
       "      <th>bias_dec</th>\n",
       "    </tr>\n",
       "  </thead>\n",
       "  <tbody>\n",
       "    <tr>\n",
       "      <th>289</th>\n",
       "      <td>38.0</td>\n",
       "      <td>-18.0</td>\n",
       "      <td>1982</td>\n",
       "      <td>1</td>\n",
       "      <td>76.445310</td>\n",
       "      <td>37.123410</td>\n",
       "    </tr>\n",
       "    <tr>\n",
       "      <th>290</th>\n",
       "      <td>38.0</td>\n",
       "      <td>-17.0</td>\n",
       "      <td>1982</td>\n",
       "      <td>1</td>\n",
       "      <td>74.929690</td>\n",
       "      <td>21.062350</td>\n",
       "    </tr>\n",
       "    <tr>\n",
       "      <th>291</th>\n",
       "      <td>38.0</td>\n",
       "      <td>-16.0</td>\n",
       "      <td>1982</td>\n",
       "      <td>1</td>\n",
       "      <td>72.187500</td>\n",
       "      <td>3.183440</td>\n",
       "    </tr>\n",
       "    <tr>\n",
       "      <th>292</th>\n",
       "      <td>38.0</td>\n",
       "      <td>-15.0</td>\n",
       "      <td>1982</td>\n",
       "      <td>1</td>\n",
       "      <td>71.421875</td>\n",
       "      <td>5.347505</td>\n",
       "    </tr>\n",
       "    <tr>\n",
       "      <th>293</th>\n",
       "      <td>38.0</td>\n",
       "      <td>-14.0</td>\n",
       "      <td>1982</td>\n",
       "      <td>1</td>\n",
       "      <td>70.515625</td>\n",
       "      <td>11.593811</td>\n",
       "    </tr>\n",
       "    <tr>\n",
       "      <th>...</th>\n",
       "      <td>...</td>\n",
       "      <td>...</td>\n",
       "      <td>...</td>\n",
       "      <td>...</td>\n",
       "      <td>...</td>\n",
       "      <td>...</td>\n",
       "    </tr>\n",
       "    <tr>\n",
       "      <th>230231</th>\n",
       "      <td>20.0</td>\n",
       "      <td>-4.0</td>\n",
       "      <td>2017</td>\n",
       "      <td>6</td>\n",
       "      <td>0.629229</td>\n",
       "      <td>-2.861219</td>\n",
       "    </tr>\n",
       "    <tr>\n",
       "      <th>230232</th>\n",
       "      <td>20.0</td>\n",
       "      <td>-3.0</td>\n",
       "      <td>2017</td>\n",
       "      <td>6</td>\n",
       "      <td>0.605791</td>\n",
       "      <td>-0.138075</td>\n",
       "    </tr>\n",
       "    <tr>\n",
       "      <th>230233</th>\n",
       "      <td>20.0</td>\n",
       "      <td>-2.0</td>\n",
       "      <td>2017</td>\n",
       "      <td>6</td>\n",
       "      <td>0.613604</td>\n",
       "      <td>-0.473585</td>\n",
       "    </tr>\n",
       "    <tr>\n",
       "      <th>230234</th>\n",
       "      <td>20.0</td>\n",
       "      <td>-1.0</td>\n",
       "      <td>2017</td>\n",
       "      <td>6</td>\n",
       "      <td>0.898760</td>\n",
       "      <td>-3.907758</td>\n",
       "    </tr>\n",
       "    <tr>\n",
       "      <th>230235</th>\n",
       "      <td>20.0</td>\n",
       "      <td>0.0</td>\n",
       "      <td>2017</td>\n",
       "      <td>6</td>\n",
       "      <td>1.047198</td>\n",
       "      <td>-3.587659</td>\n",
       "    </tr>\n",
       "  </tbody>\n",
       "</table>\n",
       "<p>77976 rows × 6 columns</p>\n",
       "</div>"
      ],
      "text/plain": [
       "         lat   lon  year  month  precip_est   bias_dec\n",
       "289     38.0 -18.0  1982      1   76.445310  37.123410\n",
       "290     38.0 -17.0  1982      1   74.929690  21.062350\n",
       "291     38.0 -16.0  1982      1   72.187500   3.183440\n",
       "292     38.0 -15.0  1982      1   71.421875   5.347505\n",
       "293     38.0 -14.0  1982      1   70.515625  11.593811\n",
       "...      ...   ...   ...    ...         ...        ...\n",
       "230231  20.0  -4.0  2017      6    0.629229  -2.861219\n",
       "230232  20.0  -3.0  2017      6    0.605791  -0.138075\n",
       "230233  20.0  -2.0  2017      6    0.613604  -0.473585\n",
       "230234  20.0  -1.0  2017      6    0.898760  -3.907758\n",
       "230235  20.0   0.0  2017      6    1.047198  -3.587659\n",
       "\n",
       "[77976 rows x 6 columns]"
      ]
     },
     "execution_count": 70,
     "metadata": {},
     "output_type": "execute_result"
    }
   ],
   "source": [
    "dec_average"
   ]
  },
  {
   "cell_type": "code",
   "execution_count": 71,
   "metadata": {},
   "outputs": [
    {
     "data": {
      "text/html": [
       "<div>\n",
       "<style scoped>\n",
       "    .dataframe tbody tr th:only-of-type {\n",
       "        vertical-align: middle;\n",
       "    }\n",
       "\n",
       "    .dataframe tbody tr th {\n",
       "        vertical-align: top;\n",
       "    }\n",
       "\n",
       "    .dataframe thead th {\n",
       "        text-align: right;\n",
       "    }\n",
       "</style>\n",
       "<table border=\"1\" class=\"dataframe\">\n",
       "  <thead>\n",
       "    <tr style=\"text-align: right;\">\n",
       "      <th></th>\n",
       "      <th>lat</th>\n",
       "      <th>lon</th>\n",
       "      <th>year</th>\n",
       "      <th>month</th>\n",
       "      <th>precip_est</th>\n",
       "      <th>bias_dec</th>\n",
       "    </tr>\n",
       "  </thead>\n",
       "  <tbody>\n",
       "    <tr>\n",
       "      <th>count</th>\n",
       "      <td>77976.000000</td>\n",
       "      <td>77976.000000</td>\n",
       "      <td>77976.000000</td>\n",
       "      <td>77976.000000</td>\n",
       "      <td>7.797600e+04</td>\n",
       "      <td>77976.000000</td>\n",
       "    </tr>\n",
       "    <tr>\n",
       "      <th>mean</th>\n",
       "      <td>29.000000</td>\n",
       "      <td>-9.000000</td>\n",
       "      <td>1999.500000</td>\n",
       "      <td>3.500000</td>\n",
       "      <td>1.709062e+01</td>\n",
       "      <td>5.001516</td>\n",
       "    </tr>\n",
       "    <tr>\n",
       "      <th>std</th>\n",
       "      <td>5.477261</td>\n",
       "      <td>5.477261</td>\n",
       "      <td>10.388361</td>\n",
       "      <td>1.707836</td>\n",
       "      <td>2.151938e+01</td>\n",
       "      <td>18.777963</td>\n",
       "    </tr>\n",
       "    <tr>\n",
       "      <th>min</th>\n",
       "      <td>20.000000</td>\n",
       "      <td>-18.000000</td>\n",
       "      <td>1982.000000</td>\n",
       "      <td>1.000000</td>\n",
       "      <td>-3.890422e-19</td>\n",
       "      <td>-350.374760</td>\n",
       "    </tr>\n",
       "    <tr>\n",
       "      <th>25%</th>\n",
       "      <td>24.000000</td>\n",
       "      <td>-14.000000</td>\n",
       "      <td>1990.750000</td>\n",
       "      <td>2.000000</td>\n",
       "      <td>1.071596e+00</td>\n",
       "      <td>0.087105</td>\n",
       "    </tr>\n",
       "    <tr>\n",
       "      <th>50%</th>\n",
       "      <td>29.000000</td>\n",
       "      <td>-9.000000</td>\n",
       "      <td>1999.500000</td>\n",
       "      <td>3.500000</td>\n",
       "      <td>5.938294e+00</td>\n",
       "      <td>1.611873</td>\n",
       "    </tr>\n",
       "    <tr>\n",
       "      <th>75%</th>\n",
       "      <td>34.000000</td>\n",
       "      <td>-4.000000</td>\n",
       "      <td>2008.250000</td>\n",
       "      <td>5.000000</td>\n",
       "      <td>2.896681e+01</td>\n",
       "      <td>10.587353</td>\n",
       "    </tr>\n",
       "    <tr>\n",
       "      <th>max</th>\n",
       "      <td>38.000000</td>\n",
       "      <td>0.000000</td>\n",
       "      <td>2017.000000</td>\n",
       "      <td>6.000000</td>\n",
       "      <td>2.026487e+02</td>\n",
       "      <td>162.948240</td>\n",
       "    </tr>\n",
       "  </tbody>\n",
       "</table>\n",
       "</div>"
      ],
      "text/plain": [
       "                lat           lon          year         month    precip_est  \\\n",
       "count  77976.000000  77976.000000  77976.000000  77976.000000  7.797600e+04   \n",
       "mean      29.000000     -9.000000   1999.500000      3.500000  1.709062e+01   \n",
       "std        5.477261      5.477261     10.388361      1.707836  2.151938e+01   \n",
       "min       20.000000    -18.000000   1982.000000      1.000000 -3.890422e-19   \n",
       "25%       24.000000    -14.000000   1990.750000      2.000000  1.071596e+00   \n",
       "50%       29.000000     -9.000000   1999.500000      3.500000  5.938294e+00   \n",
       "75%       34.000000     -4.000000   2008.250000      5.000000  2.896681e+01   \n",
       "max       38.000000      0.000000   2017.000000      6.000000  2.026487e+02   \n",
       "\n",
       "           bias_dec  \n",
       "count  77976.000000  \n",
       "mean       5.001516  \n",
       "std       18.777963  \n",
       "min     -350.374760  \n",
       "25%        0.087105  \n",
       "50%        1.611873  \n",
       "75%       10.587353  \n",
       "max      162.948240  "
      ]
     },
     "execution_count": 71,
     "metadata": {},
     "output_type": "execute_result"
    }
   ],
   "source": [
    "dec_average.describe()"
   ]
  },
  {
   "cell_type": "code",
   "execution_count": 72,
   "metadata": {},
   "outputs": [],
   "source": [
    "dec_ndup = dec_average.drop_duplicates()"
   ]
  },
  {
   "cell_type": "code",
   "execution_count": 73,
   "metadata": {},
   "outputs": [
    {
     "data": {
      "text/plain": [
       "77976"
      ]
     },
     "execution_count": 73,
     "metadata": {},
     "output_type": "execute_result"
    }
   ],
   "source": [
    "len(dec_average.duplicated())"
   ]
  },
  {
   "cell_type": "code",
   "execution_count": 74,
   "metadata": {},
   "outputs": [],
   "source": [
    "dec_test = dec_average.sort_values(['year', 'month'])\n",
    "dec_test = dec_average.reset_index(drop=True)\n",
    "\n",
    "X, y = dec_test[['lat', 'lon', 'month', 'precip_est', 'year']], dec_test['bias_dec'] \n",
    "# X = X.sort_values('month')"
   ]
  },
  {
   "cell_type": "code",
   "execution_count": 75,
   "metadata": {},
   "outputs": [
    {
     "data": {
      "text/html": [
       "<div>\n",
       "<style scoped>\n",
       "    .dataframe tbody tr th:only-of-type {\n",
       "        vertical-align: middle;\n",
       "    }\n",
       "\n",
       "    .dataframe tbody tr th {\n",
       "        vertical-align: top;\n",
       "    }\n",
       "\n",
       "    .dataframe thead th {\n",
       "        text-align: right;\n",
       "    }\n",
       "</style>\n",
       "<table border=\"1\" class=\"dataframe\">\n",
       "  <thead>\n",
       "    <tr style=\"text-align: right;\">\n",
       "      <th></th>\n",
       "      <th>lat</th>\n",
       "      <th>lon</th>\n",
       "      <th>year</th>\n",
       "      <th>month</th>\n",
       "      <th>precip_est</th>\n",
       "      <th>bias_dec</th>\n",
       "    </tr>\n",
       "  </thead>\n",
       "  <tbody>\n",
       "    <tr>\n",
       "      <th>0</th>\n",
       "      <td>38.0</td>\n",
       "      <td>-18.0</td>\n",
       "      <td>1982</td>\n",
       "      <td>1</td>\n",
       "      <td>76.445310</td>\n",
       "      <td>37.123410</td>\n",
       "    </tr>\n",
       "    <tr>\n",
       "      <th>1</th>\n",
       "      <td>38.0</td>\n",
       "      <td>-17.0</td>\n",
       "      <td>1982</td>\n",
       "      <td>1</td>\n",
       "      <td>74.929690</td>\n",
       "      <td>21.062350</td>\n",
       "    </tr>\n",
       "    <tr>\n",
       "      <th>2</th>\n",
       "      <td>38.0</td>\n",
       "      <td>-16.0</td>\n",
       "      <td>1982</td>\n",
       "      <td>1</td>\n",
       "      <td>72.187500</td>\n",
       "      <td>3.183440</td>\n",
       "    </tr>\n",
       "    <tr>\n",
       "      <th>3</th>\n",
       "      <td>38.0</td>\n",
       "      <td>-15.0</td>\n",
       "      <td>1982</td>\n",
       "      <td>1</td>\n",
       "      <td>71.421875</td>\n",
       "      <td>5.347505</td>\n",
       "    </tr>\n",
       "    <tr>\n",
       "      <th>4</th>\n",
       "      <td>38.0</td>\n",
       "      <td>-14.0</td>\n",
       "      <td>1982</td>\n",
       "      <td>1</td>\n",
       "      <td>70.515625</td>\n",
       "      <td>11.593811</td>\n",
       "    </tr>\n",
       "    <tr>\n",
       "      <th>...</th>\n",
       "      <td>...</td>\n",
       "      <td>...</td>\n",
       "      <td>...</td>\n",
       "      <td>...</td>\n",
       "      <td>...</td>\n",
       "      <td>...</td>\n",
       "    </tr>\n",
       "    <tr>\n",
       "      <th>77971</th>\n",
       "      <td>20.0</td>\n",
       "      <td>-4.0</td>\n",
       "      <td>2017</td>\n",
       "      <td>6</td>\n",
       "      <td>0.629229</td>\n",
       "      <td>-2.861219</td>\n",
       "    </tr>\n",
       "    <tr>\n",
       "      <th>77972</th>\n",
       "      <td>20.0</td>\n",
       "      <td>-3.0</td>\n",
       "      <td>2017</td>\n",
       "      <td>6</td>\n",
       "      <td>0.605791</td>\n",
       "      <td>-0.138075</td>\n",
       "    </tr>\n",
       "    <tr>\n",
       "      <th>77973</th>\n",
       "      <td>20.0</td>\n",
       "      <td>-2.0</td>\n",
       "      <td>2017</td>\n",
       "      <td>6</td>\n",
       "      <td>0.613604</td>\n",
       "      <td>-0.473585</td>\n",
       "    </tr>\n",
       "    <tr>\n",
       "      <th>77974</th>\n",
       "      <td>20.0</td>\n",
       "      <td>-1.0</td>\n",
       "      <td>2017</td>\n",
       "      <td>6</td>\n",
       "      <td>0.898760</td>\n",
       "      <td>-3.907758</td>\n",
       "    </tr>\n",
       "    <tr>\n",
       "      <th>77975</th>\n",
       "      <td>20.0</td>\n",
       "      <td>0.0</td>\n",
       "      <td>2017</td>\n",
       "      <td>6</td>\n",
       "      <td>1.047198</td>\n",
       "      <td>-3.587659</td>\n",
       "    </tr>\n",
       "  </tbody>\n",
       "</table>\n",
       "<p>77976 rows × 6 columns</p>\n",
       "</div>"
      ],
      "text/plain": [
       "        lat   lon  year  month  precip_est   bias_dec\n",
       "0      38.0 -18.0  1982      1   76.445310  37.123410\n",
       "1      38.0 -17.0  1982      1   74.929690  21.062350\n",
       "2      38.0 -16.0  1982      1   72.187500   3.183440\n",
       "3      38.0 -15.0  1982      1   71.421875   5.347505\n",
       "4      38.0 -14.0  1982      1   70.515625  11.593811\n",
       "...     ...   ...   ...    ...         ...        ...\n",
       "77971  20.0  -4.0  2017      6    0.629229  -2.861219\n",
       "77972  20.0  -3.0  2017      6    0.605791  -0.138075\n",
       "77973  20.0  -2.0  2017      6    0.613604  -0.473585\n",
       "77974  20.0  -1.0  2017      6    0.898760  -3.907758\n",
       "77975  20.0   0.0  2017      6    1.047198  -3.587659\n",
       "\n",
       "[77976 rows x 6 columns]"
      ]
     },
     "execution_count": 75,
     "metadata": {},
     "output_type": "execute_result"
    }
   ],
   "source": [
    "dec_test"
   ]
  },
  {
   "cell_type": "code",
   "execution_count": 76,
   "metadata": {},
   "outputs": [
    {
     "data": {
      "image/png": "[encoded data removed]",
      "text/plain": [
       "<Figure size 1000x600 with 1 Axes>"
      ]
     },
     "metadata": {},
     "output_type": "display_data"
    }
   ],
   "source": [
    "import pandas as pd\n",
    "import numpy as np\n",
    "import matplotlib.pyplot as plt\n",
    "from sklearn.linear_model import LinearRegression\n",
    "from sklearn.model_selection import train_test_split\n",
    "\n",
    "# Split data into training and testing sets\n",
    "X_train, X_test, y_train, y_test = train_test_split(X, y, test_size=0.2, random_state=42)\n",
    "\n",
    "# Initialize and train Linear Regression model\n",
    "model = LinearRegression()\n",
    "model.fit(X_train, y_train)\n",
    "\n",
    "# Get coefficients\n",
    "coefficients = model.coef_\n",
    "\n",
    "# Create a DataFrame for easier visualization\n",
    "feature_importance = pd.DataFrame({\n",
    "    'Feature': X.columns,\n",
    "    'Coefficient': coefficients\n",
    "})\n",
    "\n",
    "# Sorting the features by the absolute value of their coefficients\n",
    "feature_importance = feature_importance.sort_values(by='Coefficient', key=abs, ascending=False)\n",
    "\n",
    "# Plotting feature importance\n",
    "plt.figure(figsize=(10, 6))\n",
    "plt.bar(feature_importance['Feature'], feature_importance['Coefficient'], color='b')\n",
    "plt.title('Feature Importance in Linear Regression')\n",
    "plt.xlabel('Features')\n",
    "plt.ylabel('Coefficient Value')\n",
    "plt.grid(True)\n",
    "plt.show()"
   ]
  },
  {
   "cell_type": "markdown",
   "metadata": {},
   "source": [
    "### Model selection"
   ]
  },
  {
   "cell_type": "code",
   "execution_count": 77,
   "metadata": {},
   "outputs": [],
   "source": [
    "from sklearn.linear_model import LinearRegression\n",
    "from xgboost import XGBRegressor\n",
    "from sklearn.metrics import mean_squared_error, r2_score\n",
    "from sklearn.ensemble import RandomForestRegressor, ExtraTreesRegressor\n",
    "from lightgbm import LGBMRegressor\n",
    "from sklearn.model_selection import KFold\n",
    "from sklearn.model_selection import TimeSeriesSplit"
   ]
  },
  {
   "cell_type": "code",
   "execution_count": 78,
   "metadata": {},
   "outputs": [],
   "source": [
    "# # Define the models\n",
    "# models = {\n",
    "#     \"Linear Regression\": LinearRegression(),\n",
    "#     \"XGBoost\": XGBRegressor(random_state=42),\n",
    "#     \"Random Forest\": RandomForestRegressor(random_state=42),\n",
    "#     \"ExtraTrees Regressor\": ExtraTreesRegressor(random_state=42),\n",
    "#     \"LGBM Regressor\": LGBMRegressor(random_state=42)\n",
    "# }\n",
    "# k = 4\n",
    "# kf = KFold(n_splits=k)\n",
    "# results = {}\n",
    "\n",
    "# for model_name, model in models.items():\n",
    "#     train_rmse_scores = []\n",
    "#     test_rmse_scores = []\n",
    "#     train_r2_scores = []\n",
    "#     test_r2_scores = []\n",
    "\n",
    "#     # Note that we pass groups to the split method\n",
    "#     for train_index, test_index in kf.split(X):\n",
    "#         x_train_fold, x_test_fold = X.iloc[train_index].drop('year'), X.iloc[test_index].drop('year')\n",
    "\n",
    "#         print(f'''▶️ X_train{x_train_fold['month'].unique()}\n",
    "# ▶️ X_test{x_test_fold['month'].unique()}''')\n",
    "#         print(\"Train indices:\", train_index, \"Test indices:\", test_index)\n",
    "\n",
    "#         y_train_fold, y_test_fold = y.iloc[train_index], y.iloc[test_index]\n",
    "\n",
    "#         # Train and predict\n",
    "#         model.fit(x_train_fold, y_train_fold)\n",
    "#         y_pred_train = model.predict(x_train_fold)\n",
    "#         y_pred_test = model.predict(x_test_fold)\n",
    "\n",
    "#         # Calculate RMSE\n",
    "#         rmse_train = mean_squared_error(y_train_fold, y_pred_train, squared=False)\n",
    "#         rmse_test = mean_squared_error(y_test_fold, y_pred_test, squared=False)\n",
    "#         r2_train = r2_score(y_train_fold, y_pred_train)\n",
    "#         r2_test = r2_score(y_test_fold, y_pred_test)\n",
    "\n",
    "#         train_rmse_scores.append(rmse_train)\n",
    "#         test_rmse_scores.append(rmse_test)\n",
    "#         train_r2_scores.append(r2_train)\n",
    "#         test_r2_scores.append(r2_test)\n",
    "\n",
    "#     avg_train_rmse = sum(train_rmse_scores) / k\n",
    "#     avg_test_rmse = sum(test_rmse_scores) / k\n",
    "#     avg_train_r2 = sum(train_r2_scores) / k\n",
    "#     avg_test_r2 = sum(test_r2_scores) / k\n",
    "\n",
    "#     results[model_name] = {\n",
    "#         \"train_rmse\": avg_train_rmse,\n",
    "#         \"test_rmse\": avg_test_rmse,\n",
    "#         \"train_r2\": avg_train_r2,\n",
    "#         \"test_r2\": avg_test_r2\n",
    "#     }\n",
    "\n",
    "# # for model_name, metrics in results.items():\n",
    "# #     print(f\"{model_name} - Train RMSE: {metrics['train_rmse']}, Test RMSE: {metrics['test_rmse']}\")"
   ]
  },
  {
   "cell_type": "code",
   "execution_count": 79,
   "metadata": {},
   "outputs": [
    {
     "name": "stdout",
     "output_type": "stream",
     "text": [
      "[LightGBM] [Info] Auto-choosing row-wise multi-threading, the overhead of testing was 0.000116 seconds.\n",
      "You can set `force_row_wise=true` to remove the overhead.\n",
      "And if memory is not enough, you can set `force_col_wise=true`.\n",
      "[LightGBM] [Info] Total Bins 294\n",
      "[LightGBM] [Info] Number of data points in the train set: 12996, number of used features: 3\n",
      "[LightGBM] [Info] Start training from score 4.410261\n",
      "[LightGBM] [Info] Auto-choosing row-wise multi-threading, the overhead of testing was 0.000193 seconds.\n",
      "You can set `force_row_wise=true` to remove the overhead.\n",
      "And if memory is not enough, you can set `force_col_wise=true`.\n",
      "[LightGBM] [Info] Total Bins 294\n",
      "[LightGBM] [Info] Number of data points in the train set: 25992, number of used features: 3\n",
      "[LightGBM] [Info] Start training from score 5.104817\n",
      "[LightGBM] [Info] Auto-choosing row-wise multi-threading, the overhead of testing was 0.000348 seconds.\n",
      "You can set `force_row_wise=true` to remove the overhead.\n",
      "And if memory is not enough, you can set `force_col_wise=true`.\n",
      "[LightGBM] [Info] Total Bins 294\n",
      "[LightGBM] [Info] Number of data points in the train set: 38988, number of used features: 3\n",
      "[LightGBM] [Info] Start training from score 5.659926\n",
      "[LightGBM] [Info] Auto-choosing row-wise multi-threading, the overhead of testing was 0.000502 seconds.\n",
      "You can set `force_row_wise=true` to remove the overhead.\n",
      "And if memory is not enough, you can set `force_col_wise=true`.\n",
      "[LightGBM] [Info] Total Bins 294\n",
      "[LightGBM] [Info] Number of data points in the train set: 51984, number of used features: 3\n",
      "[LightGBM] [Info] Start training from score 5.524289\n",
      "[LightGBM] [Info] Auto-choosing row-wise multi-threading, the overhead of testing was 0.000660 seconds.\n",
      "You can set `force_row_wise=true` to remove the overhead.\n",
      "And if memory is not enough, you can set `force_col_wise=true`.\n",
      "[LightGBM] [Info] Total Bins 294\n",
      "[LightGBM] [Info] Number of data points in the train set: 64980, number of used features: 3\n",
      "[LightGBM] [Info] Start training from score 5.007130\n"
     ]
    }
   ],
   "source": [
    "# Define the models\n",
    "models = {\n",
    "    \"Linear Regression\": LinearRegression(),\n",
    "    \"XGBoost\": XGBRegressor(random_state=42),\n",
    "    \"Random Forest\": RandomForestRegressor(random_state=42),\n",
    "    \"ExtraTrees Regressor\": ExtraTreesRegressor(random_state=42),\n",
    "    \"LGBM Regressor\": LGBMRegressor(random_state=42)\n",
    "}\n",
    "\n",
    "k = 5 # 80% 20%\n",
    "tscv = TimeSeriesSplit(n_splits=5)\n",
    "results = {}\n",
    "\n",
    "for model_name, model in models.items():\n",
    "    train_rmse_scores = []\n",
    "    test_rmse_scores = []\n",
    "    train_r2_scores = []\n",
    "    test_r2_scores = []\n",
    "\n",
    "    # Note that we pass groups to the split method\n",
    "    for train_index, test_index in tscv.split(X):\n",
    "        x_train_fold, x_test_fold = X.iloc[train_index].drop(columns=['year', 'month']), X.iloc[test_index].drop(columns=['year', 'month'])\n",
    "        # x_train_fold, x_test_fold = X.iloc[train_index], X.iloc[test_index]\n",
    "\n",
    "\n",
    "#         print(f'''▶️ X_train{x_train_fold['year'].unique()}\n",
    "# ▶️ X_test{x_test_fold['year'].unique()}''')\n",
    "        # print(\"Train indices:\", train_index, \"Test indices:\", test_index)\n",
    "\n",
    "        y_train_fold, y_test_fold = y.iloc[train_index], y.iloc[test_index]\n",
    "\n",
    "        # Train and predict\n",
    "        model.fit(x_train_fold, y_train_fold)\n",
    "        y_pred_train = model.predict(x_train_fold)\n",
    "        y_pred_test = model.predict(x_test_fold)\n",
    "\n",
    "        # Calculate RMSE\n",
    "        rmse_train = mean_squared_error(y_train_fold, y_pred_train, squared=False)\n",
    "        rmse_test = mean_squared_error(y_test_fold, y_pred_test, squared=False)\n",
    "        r2_train = r2_score(y_train_fold, y_pred_train)\n",
    "        r2_test = r2_score(y_test_fold, y_pred_test)\n",
    "\n",
    "        train_rmse_scores.append(rmse_train)\n",
    "        test_rmse_scores.append(rmse_test)\n",
    "        train_r2_scores.append(r2_train)\n",
    "        test_r2_scores.append(r2_test)\n",
    "\n",
    "    avg_train_rmse = sum(train_rmse_scores) / k\n",
    "    avg_test_rmse = sum(test_rmse_scores) / k\n",
    "    avg_train_r2 = sum(train_r2_scores) / k\n",
    "    avg_test_r2 = sum(test_r2_scores) / k\n",
    "\n",
    "    results[model_name] = {\n",
    "        \"train_rmse\": avg_train_rmse,\n",
    "        \"test_rmse\": avg_test_rmse,\n",
    "        \"train_r2\": avg_train_r2,\n",
    "        \"test_r2\": avg_test_r2\n",
    "    }\n",
    "\n",
    "# for model_name, metrics in results.items():\n",
    "#     print(f\"{model_name} - Train RMSE: {metrics['train_rmse']}, Test RMSE: {metrics['test_rmse']}\")"
   ]
  },
  {
   "cell_type": "code",
   "execution_count": 80,
   "metadata": {},
   "outputs": [],
   "source": [
    "import plotly.graph_objects as go\n",
    "import numpy as np\n",
    "import plotly.io as pio\n",
    "\n",
    "data = results\n",
    "models = list(data.keys())\n",
    "train_rmse = [data[model]['train_rmse'] for model in models]\n",
    "test_rmse = [data[model]['test_rmse'] for model in models]\n",
    "train_r2 = [data[model]['train_r2'] for model in models]\n",
    "test_r2 = [data[model]['test_r2'] for model in models]\n",
    "\n",
    "train_rmse = [round(num, 2) for num in train_rmse]\n",
    "test_rmse = [round(num, 2) for num in test_rmse]\n",
    "train_r2 = [round(num, 2) for num in train_r2]\n",
    "test_r2 = [round(num, 2) for num in test_r2]\n",
    "\n",
    "standard_deviation = np.std(y)  # Calculate standard deviation using numpy\n",
    "sample_size = len(y)  # Calculate sample size\n",
    "\n",
    "standard_error = standard_deviation / np.sqrt(sample_size)"
   ]
  },
  {
   "cell_type": "code",
   "execution_count": 81,
   "metadata": {},
   "outputs": [
    {
     "data": {
      "application/vnd.plotly.v1+json": {
       "config": {
        "plotlyServerURL": "https://plot.ly"
       },
       "data": [
        {
         "marker": {
          "color": "blue"
         },
         "name": "Train R²",
         "text": [
          "0.17",
          "0.44",
          "0.87",
          "1.0",
          "0.33"
         ],
         "textposition": "auto",
         "type": "bar",
         "x": [
          "Linear Regression",
          "XGBoost",
          "Random Forest",
          "ExtraTrees Regressor",
          "LGBM Regressor"
         ],
         "y": [
          0.17,
          0.44,
          0.87,
          1,
          0.33
         ]
        },
        {
         "marker": {
          "color": "red"
         },
         "name": "Test R²",
         "text": [
          "0.13",
          "0.09",
          "-0.05",
          "-0.22",
          "0.15"
         ],
         "textposition": "auto",
         "type": "bar",
         "x": [
          "Linear Regression",
          "XGBoost",
          "Random Forest",
          "ExtraTrees Regressor",
          "LGBM Regressor"
         ],
         "y": [
          0.13,
          0.09,
          -0.05,
          -0.22,
          0.15
         ]
        }
       ],
       "layout": {
        "barmode": "group",
        "legend": {
         "title": {
          "text": "Data"
         }
        },
        "template": {
         "data": {
          "bar": [
           {
            "error_x": {
             "color": "#2a3f5f"
            },
            "error_y": {
             "color": "#2a3f5f"
            },
            "marker": {
             "line": {
              "color": "#E5ECF6",
              "width": 0.5
             },
             "pattern": {
              "fillmode": "overlay",
              "size": 10,
              "solidity": 0.2
             }
            },
            "type": "bar"
           }
          ],
          "barpolar": [
           {
            "marker": {
             "line": {
              "color": "#E5ECF6",
              "width": 0.5
             },
             "pattern": {
              "fillmode": "overlay",
              "size": 10,
              "solidity": 0.2
             }
            },
            "type": "barpolar"
           }
          ],
          "carpet": [
           {
            "aaxis": {
             "endlinecolor": "#2a3f5f",
             "gridcolor": "white",
             "linecolor": "white",
             "minorgridcolor": "white",
             "startlinecolor": "#2a3f5f"
            },
            "baxis": {
             "endlinecolor": "#2a3f5f",
             "gridcolor": "white",
             "linecolor": "white",
             "minorgridcolor": "white",
             "startlinecolor": "#2a3f5f"
            },
            "type": "carpet"
           }
          ],
          "choropleth": [
           {
            "colorbar": {
             "outlinewidth": 0,
             "ticks": ""
            },
            "type": "choropleth"
           }
          ],
          "contour": [
           {
            "colorbar": {
             "outlinewidth": 0,
             "ticks": ""
            },
            "colorscale": [
             [
              0,
              "#0d0887"
             ],
             [
              0.1111111111111111,
              "#46039f"
             ],
             [
              0.2222222222222222,
              "#7201a8"
             ],
             [
              0.3333333333333333,
              "#9c179e"
             ],
             [
              0.4444444444444444,
              "#bd3786"
             ],
             [
              0.5555555555555556,
              "#d8576b"
             ],
             [
              0.6666666666666666,
              "#ed7953"
             ],
             [
              0.7777777777777778,
              "#fb9f3a"
             ],
             [
              0.8888888888888888,
              "#fdca26"
             ],
             [
              1,
              "#f0f921"
             ]
            ],
            "type": "contour"
           }
          ],
          "contourcarpet": [
           {
            "colorbar": {
             "outlinewidth": 0,
             "ticks": ""
            },
            "type": "contourcarpet"
           }
          ],
          "heatmap": [
           {
            "colorbar": {
             "outlinewidth": 0,
             "ticks": ""
            },
            "colorscale": [
             [
              0,
              "#0d0887"
             ],
             [
              0.1111111111111111,
              "#46039f"
             ],
             [
              0.2222222222222222,
              "#7201a8"
             ],
             [
              0.3333333333333333,
              "#9c179e"
             ],
             [
              0.4444444444444444,
              "#bd3786"
             ],
             [
              0.5555555555555556,
              "#d8576b"
             ],
             [
              0.6666666666666666,
              "#ed7953"
             ],
             [
              0.7777777777777778,
              "#fb9f3a"
             ],
             [
              0.8888888888888888,
              "#fdca26"
             ],
             [
              1,
              "#f0f921"
             ]
            ],
            "type": "heatmap"
           }
          ],
          "heatmapgl": [
           {
            "colorbar": {
             "outlinewidth": 0,
             "ticks": ""
            },
            "colorscale": [
             [
              0,
              "#0d0887"
             ],
             [
              0.1111111111111111,
              "#46039f"
             ],
             [
              0.2222222222222222,
              "#7201a8"
             ],
             [
              0.3333333333333333,
              "#9c179e"
             ],
             [
              0.4444444444444444,
              "#bd3786"
             ],
             [
              0.5555555555555556,
              "#d8576b"
             ],
             [
              0.6666666666666666,
              "#ed7953"
             ],
             [
              0.7777777777777778,
              "#fb9f3a"
             ],
             [
              0.8888888888888888,
              "#fdca26"
             ],
             [
              1,
              "#f0f921"
             ]
            ],
            "type": "heatmapgl"
           }
          ],
          "histogram": [
           {
            "marker": {
             "pattern": {
              "fillmode": "overlay",
              "size": 10,
              "solidity": 0.2
             }
            },
            "type": "histogram"
           }
          ],
          "histogram2d": [
           {
            "colorbar": {
             "outlinewidth": 0,
             "ticks": ""
            },
            "colorscale": [
             [
              0,
              "#0d0887"
             ],
             [
              0.1111111111111111,
              "#46039f"
             ],
             [
              0.2222222222222222,
              "#7201a8"
             ],
             [
              0.3333333333333333,
              "#9c179e"
             ],
             [
              0.4444444444444444,
              "#bd3786"
             ],
             [
              0.5555555555555556,
              "#d8576b"
             ],
             [
              0.6666666666666666,
              "#ed7953"
             ],
             [
              0.7777777777777778,
              "#fb9f3a"
             ],
             [
              0.8888888888888888,
              "#fdca26"
             ],
             [
              1,
              "#f0f921"
             ]
            ],
            "type": "histogram2d"
           }
          ],
          "histogram2dcontour": [
           {
            "colorbar": {
             "outlinewidth": 0,
             "ticks": ""
            },
            "colorscale": [
             [
              0,
              "#0d0887"
             ],
             [
              0.1111111111111111,
              "#46039f"
             ],
             [
              0.2222222222222222,
              "#7201a8"
             ],
             [
              0.3333333333333333,
              "#9c179e"
             ],
             [
              0.4444444444444444,
              "#bd3786"
             ],
             [
              0.5555555555555556,
              "#d8576b"
             ],
             [
              0.6666666666666666,
              "#ed7953"
             ],
             [
              0.7777777777777778,
              "#fb9f3a"
             ],
             [
              0.8888888888888888,
              "#fdca26"
             ],
             [
              1,
              "#f0f921"
             ]
            ],
            "type": "histogram2dcontour"
           }
          ],
          "mesh3d": [
           {
            "colorbar": {
             "outlinewidth": 0,
             "ticks": ""
            },
            "type": "mesh3d"
           }
          ],
          "parcoords": [
           {
            "line": {
             "colorbar": {
              "outlinewidth": 0,
              "ticks": ""
             }
            },
            "type": "parcoords"
           }
          ],
          "pie": [
           {
            "automargin": true,
            "type": "pie"
           }
          ],
          "scatter": [
           {
            "fillpattern": {
             "fillmode": "overlay",
             "size": 10,
             "solidity": 0.2
            },
            "type": "scatter"
           }
          ],
          "scatter3d": [
           {
            "line": {
             "colorbar": {
              "outlinewidth": 0,
              "ticks": ""
             }
            },
            "marker": {
             "colorbar": {
              "outlinewidth": 0,
              "ticks": ""
             }
            },
            "type": "scatter3d"
           }
          ],
          "scattercarpet": [
           {
            "marker": {
             "colorbar": {
              "outlinewidth": 0,
              "ticks": ""
             }
            },
            "type": "scattercarpet"
           }
          ],
          "scattergeo": [
           {
            "marker": {
             "colorbar": {
              "outlinewidth": 0,
              "ticks": ""
             }
            },
            "type": "scattergeo"
           }
          ],
          "scattergl": [
           {
            "marker": {
             "colorbar": {
              "outlinewidth": 0,
              "ticks": ""
             }
            },
            "type": "scattergl"
           }
          ],
          "scattermapbox": [
           {
            "marker": {
             "colorbar": {
              "outlinewidth": 0,
              "ticks": ""
             }
            },
            "type": "scattermapbox"
           }
          ],
          "scatterpolar": [
           {
            "marker": {
             "colorbar": {
              "outlinewidth": 0,
              "ticks": ""
             }
            },
            "type": "scatterpolar"
           }
          ],
          "scatterpolargl": [
           {
            "marker": {
             "colorbar": {
              "outlinewidth": 0,
              "ticks": ""
             }
            },
            "type": "scatterpolargl"
           }
          ],
          "scatterternary": [
           {
            "marker": {
             "colorbar": {
              "outlinewidth": 0,
              "ticks": ""
             }
            },
            "type": "scatterternary"
           }
          ],
          "surface": [
           {
            "colorbar": {
             "outlinewidth": 0,
             "ticks": ""
            },
            "colorscale": [
             [
              0,
              "#0d0887"
             ],
             [
              0.1111111111111111,
              "#46039f"
             ],
             [
              0.2222222222222222,
              "#7201a8"
             ],
             [
              0.3333333333333333,
              "#9c179e"
             ],
             [
              0.4444444444444444,
              "#bd3786"
             ],
             [
              0.5555555555555556,
              "#d8576b"
             ],
             [
              0.6666666666666666,
              "#ed7953"
             ],
             [
              0.7777777777777778,
              "#fb9f3a"
             ],
             [
              0.8888888888888888,
              "#fdca26"
             ],
             [
              1,
              "#f0f921"
             ]
            ],
            "type": "surface"
           }
          ],
          "table": [
           {
            "cells": {
             "fill": {
              "color": "#EBF0F8"
             },
             "line": {
              "color": "white"
             }
            },
            "header": {
             "fill": {
              "color": "#C8D4E3"
             },
             "line": {
              "color": "white"
             }
            },
            "type": "table"
           }
          ]
         },
         "layout": {
          "annotationdefaults": {
           "arrowcolor": "#2a3f5f",
           "arrowhead": 0,
           "arrowwidth": 1
          },
          "autotypenumbers": "strict",
          "coloraxis": {
           "colorbar": {
            "outlinewidth": 0,
            "ticks": ""
           }
          },
          "colorscale": {
           "diverging": [
            [
             0,
             "#8e0152"
            ],
            [
             0.1,
             "#c51b7d"
            ],
            [
             0.2,
             "#de77ae"
            ],
            [
             0.3,
             "#f1b6da"
            ],
            [
             0.4,
             "#fde0ef"
            ],
            [
             0.5,
             "#f7f7f7"
            ],
            [
             0.6,
             "#e6f5d0"
            ],
            [
             0.7,
             "#b8e186"
            ],
            [
             0.8,
             "#7fbc41"
            ],
            [
             0.9,
             "#4d9221"
            ],
            [
             1,
             "#276419"
            ]
           ],
           "sequential": [
            [
             0,
             "#0d0887"
            ],
            [
             0.1111111111111111,
             "#46039f"
            ],
            [
             0.2222222222222222,
             "#7201a8"
            ],
            [
             0.3333333333333333,
             "#9c179e"
            ],
            [
             0.4444444444444444,
             "#bd3786"
            ],
            [
             0.5555555555555556,
             "#d8576b"
            ],
            [
             0.6666666666666666,
             "#ed7953"
            ],
            [
             0.7777777777777778,
             "#fb9f3a"
            ],
            [
             0.8888888888888888,
             "#fdca26"
            ],
            [
             1,
             "#f0f921"
            ]
           ],
           "sequentialminus": [
            [
             0,
             "#0d0887"
            ],
            [
             0.1111111111111111,
             "#46039f"
            ],
            [
             0.2222222222222222,
             "#7201a8"
            ],
            [
             0.3333333333333333,
             "#9c179e"
            ],
            [
             0.4444444444444444,
             "#bd3786"
            ],
            [
             0.5555555555555556,
             "#d8576b"
            ],
            [
             0.6666666666666666,
             "#ed7953"
            ],
            [
             0.7777777777777778,
             "#fb9f3a"
            ],
            [
             0.8888888888888888,
             "#fdca26"
            ],
            [
             1,
             "#f0f921"
            ]
           ]
          },
          "colorway": [
           "#636efa",
           "#EF553B",
           "#00cc96",
           "#ab63fa",
           "#FFA15A",
           "#19d3f3",
           "#FF6692",
           "#B6E880",
           "#FF97FF",
           "#FECB52"
          ],
          "font": {
           "color": "#2a3f5f"
          },
          "geo": {
           "bgcolor": "white",
           "lakecolor": "white",
           "landcolor": "#E5ECF6",
           "showlakes": true,
           "showland": true,
           "subunitcolor": "white"
          },
          "hoverlabel": {
           "align": "left"
          },
          "hovermode": "closest",
          "mapbox": {
           "style": "light"
          },
          "paper_bgcolor": "white",
          "plot_bgcolor": "#E5ECF6",
          "polar": {
           "angularaxis": {
            "gridcolor": "white",
            "linecolor": "white",
            "ticks": ""
           },
           "bgcolor": "#E5ECF6",
           "radialaxis": {
            "gridcolor": "white",
            "linecolor": "white",
            "ticks": ""
           }
          },
          "scene": {
           "xaxis": {
            "backgroundcolor": "#E5ECF6",
            "gridcolor": "white",
            "gridwidth": 2,
            "linecolor": "white",
            "showbackground": true,
            "ticks": "",
            "zerolinecolor": "white"
           },
           "yaxis": {
            "backgroundcolor": "#E5ECF6",
            "gridcolor": "white",
            "gridwidth": 2,
            "linecolor": "white",
            "showbackground": true,
            "ticks": "",
            "zerolinecolor": "white"
           },
           "zaxis": {
            "backgroundcolor": "#E5ECF6",
            "gridcolor": "white",
            "gridwidth": 2,
            "linecolor": "white",
            "showbackground": true,
            "ticks": "",
            "zerolinecolor": "white"
           }
          },
          "shapedefaults": {
           "line": {
            "color": "#2a3f5f"
           }
          },
          "ternary": {
           "aaxis": {
            "gridcolor": "white",
            "linecolor": "white",
            "ticks": ""
           },
           "baxis": {
            "gridcolor": "white",
            "linecolor": "white",
            "ticks": ""
           },
           "bgcolor": "#E5ECF6",
           "caxis": {
            "gridcolor": "white",
            "linecolor": "white",
            "ticks": ""
           }
          },
          "title": {
           "x": 0.05
          },
          "xaxis": {
           "automargin": true,
           "gridcolor": "white",
           "linecolor": "white",
           "ticks": "",
           "title": {
            "standoff": 15
           },
           "zerolinecolor": "white",
           "zerolinewidth": 2
          },
          "yaxis": {
           "automargin": true,
           "gridcolor": "white",
           "linecolor": "white",
           "ticks": "",
           "title": {
            "standoff": 15
           },
           "zerolinecolor": "white",
           "zerolinewidth": 2
          }
         }
        },
        "title": {
         "text": "R²"
        },
        "width": 600,
        "xaxis": {
         "title": {
          "text": "Models"
         }
        },
        "yaxis": {
         "title": {
          "text": "Value"
         }
        }
       }
      }
     },
     "metadata": {},
     "output_type": "display_data"
    }
   ],
   "source": [
    "fig = go.Figure()\n",
    "\n",
    "# Bar chart for R²\n",
    "fig.add_trace(go.Bar(\n",
    "    x=models,\n",
    "    y=train_r2,\n",
    "    name='Train R²',\n",
    "    marker_color='blue',\n",
    "    text=train_r2,  # Add this line to specify the text for each bar\n",
    "    # 'auto' places the text inside the bars; you can also use 'outside' or 'inside'\n",
    "    textposition='auto'\n",
    "))\n",
    "\n",
    "fig.add_trace(go.Bar(\n",
    "    x=models,\n",
    "    y=test_r2,\n",
    "    name='Test R²',\n",
    "    marker_color='red',\n",
    "    text=test_r2,  # Add this line to specify the text for each bar\n",
    "    # 'auto' places the text inside the bars; you can also use 'outside' or 'inside'\n",
    "    textposition='auto'\n",
    "))\n",
    "\n",
    "# Update the layout\n",
    "fig.update_layout(\n",
    "    barmode='group',\n",
    "    title='R²',\n",
    "    xaxis_title='Models',\n",
    "    yaxis_title='Value',\n",
    "    legend_title='Data',\n",
    "    width=600,\n",
    "    # plot_bgcolor='rgba(0,0,0,0)',  # Set plot background color to transparent\n",
    "    # paper_bgcolor='rgba(0,0,0,0)'\n",
    ")\n",
    "\n",
    "# Show the plot\n",
    "fig.show()"
   ]
  },
  {
   "cell_type": "code",
   "execution_count": 82,
   "metadata": {},
   "outputs": [
    {
     "data": {
      "application/vnd.plotly.v1+json": {
       "config": {
        "plotlyServerURL": "https://plot.ly"
       },
       "data": [
        {
         "marker": {
          "color": "blue"
         },
         "name": "Train RMSE",
         "text": [
          "17.44",
          "14.36",
          "6.85",
          "0.08",
          "15.66"
         ],
         "textposition": "auto",
         "type": "bar",
         "x": [
          "Linear Regression",
          "XGBoost",
          "Random Forest",
          "ExtraTrees Regressor",
          "LGBM Regressor"
         ],
         "y": [
          17.44,
          14.36,
          6.85,
          0.08,
          15.66
         ]
        },
        {
         "marker": {
          "color": "red"
         },
         "name": "Test RMSE",
         "text": [
          "17.43",
          "17.91",
          "19.23",
          "20.71",
          "17.28"
         ],
         "textposition": "auto",
         "type": "bar",
         "x": [
          "Linear Regression",
          "XGBoost",
          "Random Forest",
          "ExtraTrees Regressor",
          "LGBM Regressor"
         ],
         "y": [
          17.43,
          17.91,
          19.23,
          20.71,
          17.28
         ]
        },
        {
         "line": {
          "color": "orange",
          "width": 2
         },
         "mode": "lines+markers",
         "name": "Std",
         "type": "scatter",
         "x": [
          "Linear Regression",
          "XGBoost",
          "Random Forest",
          "ExtraTrees Regressor",
          "LGBM Regressor"
         ],
         "y": [
          18.777842627017403,
          18.777842627017403,
          18.777842627017403,
          18.777842627017403,
          18.777842627017403
         ]
        }
       ],
       "layout": {
        "barmode": "group",
        "legend": {
         "title": {
          "text": "Data"
         }
        },
        "template": {
         "data": {
          "bar": [
           {
            "error_x": {
             "color": "#2a3f5f"
            },
            "error_y": {
             "color": "#2a3f5f"
            },
            "marker": {
             "line": {
              "color": "#E5ECF6",
              "width": 0.5
             },
             "pattern": {
              "fillmode": "overlay",
              "size": 10,
              "solidity": 0.2
             }
            },
            "type": "bar"
           }
          ],
          "barpolar": [
           {
            "marker": {
             "line": {
              "color": "#E5ECF6",
              "width": 0.5
             },
             "pattern": {
              "fillmode": "overlay",
              "size": 10,
              "solidity": 0.2
             }
            },
            "type": "barpolar"
           }
          ],
          "carpet": [
           {
            "aaxis": {
             "endlinecolor": "#2a3f5f",
             "gridcolor": "white",
             "linecolor": "white",
             "minorgridcolor": "white",
             "startlinecolor": "#2a3f5f"
            },
            "baxis": {
             "endlinecolor": "#2a3f5f",
             "gridcolor": "white",
             "linecolor": "white",
             "minorgridcolor": "white",
             "startlinecolor": "#2a3f5f"
            },
            "type": "carpet"
           }
          ],
          "choropleth": [
           {
            "colorbar": {
             "outlinewidth": 0,
             "ticks": ""
            },
            "type": "choropleth"
           }
          ],
          "contour": [
           {
            "colorbar": {
             "outlinewidth": 0,
             "ticks": ""
            },
            "colorscale": [
             [
              0,
              "#0d0887"
             ],
             [
              0.1111111111111111,
              "#46039f"
             ],
             [
              0.2222222222222222,
              "#7201a8"
             ],
             [
              0.3333333333333333,
              "#9c179e"
             ],
             [
              0.4444444444444444,
              "#bd3786"
             ],
             [
              0.5555555555555556,
              "#d8576b"
             ],
             [
              0.6666666666666666,
              "#ed7953"
             ],
             [
              0.7777777777777778,
              "#fb9f3a"
             ],
             [
              0.8888888888888888,
              "#fdca26"
             ],
             [
              1,
              "#f0f921"
             ]
            ],
            "type": "contour"
           }
          ],
          "contourcarpet": [
           {
            "colorbar": {
             "outlinewidth": 0,
             "ticks": ""
            },
            "type": "contourcarpet"
           }
          ],
          "heatmap": [
           {
            "colorbar": {
             "outlinewidth": 0,
             "ticks": ""
            },
            "colorscale": [
             [
              0,
              "#0d0887"
             ],
             [
              0.1111111111111111,
              "#46039f"
             ],
             [
              0.2222222222222222,
              "#7201a8"
             ],
             [
              0.3333333333333333,
              "#9c179e"
             ],
             [
              0.4444444444444444,
              "#bd3786"
             ],
             [
              0.5555555555555556,
              "#d8576b"
             ],
             [
              0.6666666666666666,
              "#ed7953"
             ],
             [
              0.7777777777777778,
              "#fb9f3a"
             ],
             [
              0.8888888888888888,
              "#fdca26"
             ],
             [
              1,
              "#f0f921"
             ]
            ],
            "type": "heatmap"
           }
          ],
          "heatmapgl": [
           {
            "colorbar": {
             "outlinewidth": 0,
             "ticks": ""
            },
            "colorscale": [
             [
              0,
              "#0d0887"
             ],
             [
              0.1111111111111111,
              "#46039f"
             ],
             [
              0.2222222222222222,
              "#7201a8"
             ],
             [
              0.3333333333333333,
              "#9c179e"
             ],
             [
              0.4444444444444444,
              "#bd3786"
             ],
             [
              0.5555555555555556,
              "#d8576b"
             ],
             [
              0.6666666666666666,
              "#ed7953"
             ],
             [
              0.7777777777777778,
              "#fb9f3a"
             ],
             [
              0.8888888888888888,
              "#fdca26"
             ],
             [
              1,
              "#f0f921"
             ]
            ],
            "type": "heatmapgl"
           }
          ],
          "histogram": [
           {
            "marker": {
             "pattern": {
              "fillmode": "overlay",
              "size": 10,
              "solidity": 0.2
             }
            },
            "type": "histogram"
           }
          ],
          "histogram2d": [
           {
            "colorbar": {
             "outlinewidth": 0,
             "ticks": ""
            },
            "colorscale": [
             [
              0,
              "#0d0887"
             ],
             [
              0.1111111111111111,
              "#46039f"
             ],
             [
              0.2222222222222222,
              "#7201a8"
             ],
             [
              0.3333333333333333,
              "#9c179e"
             ],
             [
              0.4444444444444444,
              "#bd3786"
             ],
             [
              0.5555555555555556,
              "#d8576b"
             ],
             [
              0.6666666666666666,
              "#ed7953"
             ],
             [
              0.7777777777777778,
              "#fb9f3a"
             ],
             [
              0.8888888888888888,
              "#fdca26"
             ],
             [
              1,
              "#f0f921"
             ]
            ],
            "type": "histogram2d"
           }
          ],
          "histogram2dcontour": [
           {
            "colorbar": {
             "outlinewidth": 0,
             "ticks": ""
            },
            "colorscale": [
             [
              0,
              "#0d0887"
             ],
             [
              0.1111111111111111,
              "#46039f"
             ],
             [
              0.2222222222222222,
              "#7201a8"
             ],
             [
              0.3333333333333333,
              "#9c179e"
             ],
             [
              0.4444444444444444,
              "#bd3786"
             ],
             [
              0.5555555555555556,
              "#d8576b"
             ],
             [
              0.6666666666666666,
              "#ed7953"
             ],
             [
              0.7777777777777778,
              "#fb9f3a"
             ],
             [
              0.8888888888888888,
              "#fdca26"
             ],
             [
              1,
              "#f0f921"
             ]
            ],
            "type": "histogram2dcontour"
           }
          ],
          "mesh3d": [
           {
            "colorbar": {
             "outlinewidth": 0,
             "ticks": ""
            },
            "type": "mesh3d"
           }
          ],
          "parcoords": [
           {
            "line": {
             "colorbar": {
              "outlinewidth": 0,
              "ticks": ""
             }
            },
            "type": "parcoords"
           }
          ],
          "pie": [
           {
            "automargin": true,
            "type": "pie"
           }
          ],
          "scatter": [
           {
            "fillpattern": {
             "fillmode": "overlay",
             "size": 10,
             "solidity": 0.2
            },
            "type": "scatter"
           }
          ],
          "scatter3d": [
           {
            "line": {
             "colorbar": {
              "outlinewidth": 0,
              "ticks": ""
             }
            },
            "marker": {
             "colorbar": {
              "outlinewidth": 0,
              "ticks": ""
             }
            },
            "type": "scatter3d"
           }
          ],
          "scattercarpet": [
           {
            "marker": {
             "colorbar": {
              "outlinewidth": 0,
              "ticks": ""
             }
            },
            "type": "scattercarpet"
           }
          ],
          "scattergeo": [
           {
            "marker": {
             "colorbar": {
              "outlinewidth": 0,
              "ticks": ""
             }
            },
            "type": "scattergeo"
           }
          ],
          "scattergl": [
           {
            "marker": {
             "colorbar": {
              "outlinewidth": 0,
              "ticks": ""
             }
            },
            "type": "scattergl"
           }
          ],
          "scattermapbox": [
           {
            "marker": {
             "colorbar": {
              "outlinewidth": 0,
              "ticks": ""
             }
            },
            "type": "scattermapbox"
           }
          ],
          "scatterpolar": [
           {
            "marker": {
             "colorbar": {
              "outlinewidth": 0,
              "ticks": ""
             }
            },
            "type": "scatterpolar"
           }
          ],
          "scatterpolargl": [
           {
            "marker": {
             "colorbar": {
              "outlinewidth": 0,
              "ticks": ""
             }
            },
            "type": "scatterpolargl"
           }
          ],
          "scatterternary": [
           {
            "marker": {
             "colorbar": {
              "outlinewidth": 0,
              "ticks": ""
             }
            },
            "type": "scatterternary"
           }
          ],
          "surface": [
           {
            "colorbar": {
             "outlinewidth": 0,
             "ticks": ""
            },
            "colorscale": [
             [
              0,
              "#0d0887"
             ],
             [
              0.1111111111111111,
              "#46039f"
             ],
             [
              0.2222222222222222,
              "#7201a8"
             ],
             [
              0.3333333333333333,
              "#9c179e"
             ],
             [
              0.4444444444444444,
              "#bd3786"
             ],
             [
              0.5555555555555556,
              "#d8576b"
             ],
             [
              0.6666666666666666,
              "#ed7953"
             ],
             [
              0.7777777777777778,
              "#fb9f3a"
             ],
             [
              0.8888888888888888,
              "#fdca26"
             ],
             [
              1,
              "#f0f921"
             ]
            ],
            "type": "surface"
           }
          ],
          "table": [
           {
            "cells": {
             "fill": {
              "color": "#EBF0F8"
             },
             "line": {
              "color": "white"
             }
            },
            "header": {
             "fill": {
              "color": "#C8D4E3"
             },
             "line": {
              "color": "white"
             }
            },
            "type": "table"
           }
          ]
         },
         "layout": {
          "annotationdefaults": {
           "arrowcolor": "#2a3f5f",
           "arrowhead": 0,
           "arrowwidth": 1
          },
          "autotypenumbers": "strict",
          "coloraxis": {
           "colorbar": {
            "outlinewidth": 0,
            "ticks": ""
           }
          },
          "colorscale": {
           "diverging": [
            [
             0,
             "#8e0152"
            ],
            [
             0.1,
             "#c51b7d"
            ],
            [
             0.2,
             "#de77ae"
            ],
            [
             0.3,
             "#f1b6da"
            ],
            [
             0.4,
             "#fde0ef"
            ],
            [
             0.5,
             "#f7f7f7"
            ],
            [
             0.6,
             "#e6f5d0"
            ],
            [
             0.7,
             "#b8e186"
            ],
            [
             0.8,
             "#7fbc41"
            ],
            [
             0.9,
             "#4d9221"
            ],
            [
             1,
             "#276419"
            ]
           ],
           "sequential": [
            [
             0,
             "#0d0887"
            ],
            [
             0.1111111111111111,
             "#46039f"
            ],
            [
             0.2222222222222222,
             "#7201a8"
            ],
            [
             0.3333333333333333,
             "#9c179e"
            ],
            [
             0.4444444444444444,
             "#bd3786"
            ],
            [
             0.5555555555555556,
             "#d8576b"
            ],
            [
             0.6666666666666666,
             "#ed7953"
            ],
            [
             0.7777777777777778,
             "#fb9f3a"
            ],
            [
             0.8888888888888888,
             "#fdca26"
            ],
            [
             1,
             "#f0f921"
            ]
           ],
           "sequentialminus": [
            [
             0,
             "#0d0887"
            ],
            [
             0.1111111111111111,
             "#46039f"
            ],
            [
             0.2222222222222222,
             "#7201a8"
            ],
            [
             0.3333333333333333,
             "#9c179e"
            ],
            [
             0.4444444444444444,
             "#bd3786"
            ],
            [
             0.5555555555555556,
             "#d8576b"
            ],
            [
             0.6666666666666666,
             "#ed7953"
            ],
            [
             0.7777777777777778,
             "#fb9f3a"
            ],
            [
             0.8888888888888888,
             "#fdca26"
            ],
            [
             1,
             "#f0f921"
            ]
           ]
          },
          "colorway": [
           "#636efa",
           "#EF553B",
           "#00cc96",
           "#ab63fa",
           "#FFA15A",
           "#19d3f3",
           "#FF6692",
           "#B6E880",
           "#FF97FF",
           "#FECB52"
          ],
          "font": {
           "color": "#2a3f5f"
          },
          "geo": {
           "bgcolor": "white",
           "lakecolor": "white",
           "landcolor": "#E5ECF6",
           "showlakes": true,
           "showland": true,
           "subunitcolor": "white"
          },
          "hoverlabel": {
           "align": "left"
          },
          "hovermode": "closest",
          "mapbox": {
           "style": "light"
          },
          "paper_bgcolor": "white",
          "plot_bgcolor": "#E5ECF6",
          "polar": {
           "angularaxis": {
            "gridcolor": "white",
            "linecolor": "white",
            "ticks": ""
           },
           "bgcolor": "#E5ECF6",
           "radialaxis": {
            "gridcolor": "white",
            "linecolor": "white",
            "ticks": ""
           }
          },
          "scene": {
           "xaxis": {
            "backgroundcolor": "#E5ECF6",
            "gridcolor": "white",
            "gridwidth": 2,
            "linecolor": "white",
            "showbackground": true,
            "ticks": "",
            "zerolinecolor": "white"
           },
           "yaxis": {
            "backgroundcolor": "#E5ECF6",
            "gridcolor": "white",
            "gridwidth": 2,
            "linecolor": "white",
            "showbackground": true,
            "ticks": "",
            "zerolinecolor": "white"
           },
           "zaxis": {
            "backgroundcolor": "#E5ECF6",
            "gridcolor": "white",
            "gridwidth": 2,
            "linecolor": "white",
            "showbackground": true,
            "ticks": "",
            "zerolinecolor": "white"
           }
          },
          "shapedefaults": {
           "line": {
            "color": "#2a3f5f"
           }
          },
          "ternary": {
           "aaxis": {
            "gridcolor": "white",
            "linecolor": "white",
            "ticks": ""
           },
           "baxis": {
            "gridcolor": "white",
            "linecolor": "white",
            "ticks": ""
           },
           "bgcolor": "#E5ECF6",
           "caxis": {
            "gridcolor": "white",
            "linecolor": "white",
            "ticks": ""
           }
          },
          "title": {
           "x": 0.05
          },
          "xaxis": {
           "automargin": true,
           "gridcolor": "white",
           "linecolor": "white",
           "ticks": "",
           "title": {
            "standoff": 15
           },
           "zerolinecolor": "white",
           "zerolinewidth": 2
          },
          "yaxis": {
           "automargin": true,
           "gridcolor": "white",
           "linecolor": "white",
           "ticks": "",
           "title": {
            "standoff": 15
           },
           "zerolinecolor": "white",
           "zerolinewidth": 2
          }
         }
        },
        "title": {
         "text": "RMSE"
        },
        "width": 600,
        "xaxis": {
         "title": {
          "text": "Models"
         }
        },
        "yaxis": {
         "title": {
          "text": "Value"
         }
        }
       }
      }
     },
     "metadata": {},
     "output_type": "display_data"
    }
   ],
   "source": [
    "fig = go.Figure()\n",
    "\n",
    "# Bar chart for RMSE\n",
    "fig.add_trace(go.Bar(\n",
    "    x=models,\n",
    "    y=train_rmse,\n",
    "    name='Train RMSE',\n",
    "    marker_color='blue',\n",
    "    text=train_rmse,  # Add this line to specify the text for each bar\n",
    "    # 'auto' places the text inside the bars; you can also use 'outside' or 'inside'\n",
    "    textposition='auto'\n",
    "))\n",
    "\n",
    "fig.add_trace(go.Bar(\n",
    "    x=models,\n",
    "    y=test_rmse,\n",
    "    name='Test RMSE',\n",
    "    marker_color='red',\n",
    "    text=test_rmse,  # Add this line to specify the text for each bar\n",
    "    # 'auto' places the text inside the bars; you can also use 'outside' or 'inside'\n",
    "    textposition='auto'\n",
    "))\n",
    "# Update the layout\n",
    "fig.update_layout(\n",
    "    barmode='group',\n",
    "    title='RMSE',\n",
    "    xaxis_title='Models',\n",
    "    yaxis_title='Value',\n",
    "    legend_title='Data',\n",
    "    width=600,\n",
    "    # plot_bgcolor='rgba(0,0,0,0)',  # Set plot background color to transparent\n",
    "    # paper_bgcolor='rgba(0,0,0,0)'\n",
    ")\n",
    "\n",
    "# # Line chart for std\n",
    "# fig.add_trace(go.Scatter(\n",
    "#     x=models,\n",
    "#     y=[stdev for model in models],\n",
    "#     mode='lines+markers',\n",
    "#     name='Std',\n",
    "#     line=dict(color='green', width=2)\n",
    "# ))\n",
    "\n",
    "# Line chart for std\n",
    "fig.add_trace(go.Scatter(\n",
    "    x=models,\n",
    "    y=[standard_deviation for i in range(len(models))],\n",
    "    mode='lines+markers',\n",
    "    name='Std',\n",
    "    line=dict(color='orange', width=2)\n",
    "))\n",
    "fig.show()"
   ]
  },
  {
   "cell_type": "markdown",
   "metadata": {},
   "source": [
    "### Hyperparams tuning"
   ]
  },
  {
   "cell_type": "code",
   "execution_count": 83,
   "metadata": {},
   "outputs": [],
   "source": [
    "# from xgboost import XGBRegressor\n",
    "# from sklearn.model_selection import GridSearchCV, TimeSeriesSplit\n",
    "# from sklearn.metrics import make_scorer, mean_squared_error\n",
    "\n",
    "# # Define your model\n",
    "# xgb = LGBMRegressor(random_state=42)\n",
    "\n",
    "# # Define the parameter grid\n",
    "# param_grid = {\n",
    "#     'num_leaves': [31, 41, 51],  # Increase in steps to see the effect\n",
    "#     'max_depth': [5, 10, 15],  # Adjust based on the complexity of the problem\n",
    "#     'learning_rate': [0.01, 0.05],  # Small steps to see incremental benefits\n",
    "#     'n_estimators': [100, 200],  # More trees can be better, but watch for overfitting\n",
    "#     'subsample': [0.8, 0.9, 1.0],  # Typical subsampling rates\n",
    "#     'min_child_samples': [20, 30, 40]  # Increasing it can combat overfitting\n",
    "# }\n",
    "\n",
    "# # Setup the scoring function\n",
    "# scorer = make_scorer(mean_squared_error, greater_is_better=False, squared=False)\n",
    "\n",
    "# #Setup the GroupKFold\n",
    "# tscv = TimeSeriesSplit(n_splits=3)  # Adjust the number of splits as necessary\n",
    "\n",
    "# # Setup GridSearchCV with GroupKFold\n",
    "# grid_search = GridSearchCV(estimator=xgb, param_grid=param_grid, scoring=scorer, cv=tscv, verbose=2)\n",
    "\n",
    "# # Fit the model using groups\n",
    "# grid_search.fit(X.drop(columns=['month']), y)\n",
    "\n",
    "# # Get the best estimator and its parameters\n",
    "# best_xgb = grid_search.best_estimator_\n",
    "# best_params = grid_search.best_params_\n",
    "\n",
    "# print(\"Best parameters:\", best_params)\n",
    "# print(\"Best RMSE:\", -grid_search.best_score_)  # Note: 'best_score_' is negative, so take the negative of it\n",
    "\n",
    "# # Optionally, use the best model to make predictions or further analysis\n",
    "# # predictions = best_xgb.predict(X_test)\n",
    "# # rmse = np.sqrt(mean_squared_error(y_test, predictions))\n",
    "# # print(\"Test RMSE:\", rmse)"
   ]
  },
  {
   "cell_type": "code",
   "execution_count": 84,
   "metadata": {},
   "outputs": [],
   "source": [
    "# from bayes_opt import BayesianOptimization\n",
    "# from lightgbm import LGBMRegressor\n",
    "# from sklearn.model_selection import TimeSeriesSplit, cross_val_score\n",
    "# import numpy as np\n",
    "\n",
    "# # Assume 'X' and 'y' are your feature matrix and target variable\n",
    "# kf = KFold(n_splits=4)\n",
    "\n",
    "# # Define your LGBM training function\n",
    "# def LGBM_evaluate(max_depth, n_estimators, learning_rate, colsample_bytree, subsample):\n",
    "#     params = {\n",
    "#         'max_depth': int(max_depth),\n",
    "#         'n_estimators': int(n_estimators),\n",
    "#         'learning_rate': learning_rate,\n",
    "#         'colsample_bytree': colsample_bytree,\n",
    "#         'subsample': subsample,\n",
    "#         'random_state': 42\n",
    "#     }\n",
    "#     lgbm = LGBMRegressor(**params)\n",
    "#     # Ensure that X is prepared without needing to drop columns as in your example\n",
    "#     cv_scores = cross_val_score(lgbm, X, y, cv=kf, scoring='neg_root_mean_squared_error')\n",
    "#     return np.mean(cv_scores)\n",
    "\n",
    "# # Set up Bayesian Optimization\n",
    "# optimizer = BayesianOptimization(\n",
    "#     f=LGBM_evaluate,\n",
    "#     pbounds={\n",
    "#         'max_depth': (1, 15),\n",
    "#         'n_estimators': (50, 150),\n",
    "#         'learning_rate': (0.01, 0.2),\n",
    "#         'colsample_bytree': (0.5, 1.0),\n",
    "#         'subsample': (0.5, 1.0)\n",
    "#     },\n",
    "#     random_state=42\n",
    "# )\n",
    "\n",
    "# # Run optimization\n",
    "# optimizer.maximize(init_points=10, n_iter=70)\n",
    "\n",
    "# # Print best parameters\n",
    "# print(\"Best parameters:\", optimizer.max['params'])"
   ]
  },
  {
   "cell_type": "code",
   "execution_count": 85,
   "metadata": {},
   "outputs": [],
   "source": [
    "# from bayes_opt import BayesianOptimization\n",
    "# from sklearn.ensemble import RandomForestRegressor\n",
    "# from sklearn.model_selection import TimeSeriesSplit, cross_val_score\n",
    "# import numpy as np\n",
    "\n",
    "# # Assume 'y' is your target variable\n",
    "# tscv = TimeSeriesSplit(n_splits=3) \n",
    "# # Define your RandomForest training function\n",
    "# def RF_evaluate(max_depth, n_estimators, min_samples_split, min_samples_leaf):\n",
    "#     params = {\n",
    "#         'max_depth': int(max_depth),\n",
    "#         'n_estimators': int(n_estimators),\n",
    "#         'min_samples_split': int(min_samples_split),\n",
    "#         'min_samples_leaf': int(min_samples_leaf),\n",
    "#         'random_state': 42\n",
    "#     }\n",
    "#     rf = RandomForestRegressor(**params)\n",
    "#     cv_scores = cross_val_score(rf, X.drop(columns=['month']), y, cv=tscv, scoring='neg_root_mean_squared_error')\n",
    "#     return np.mean(cv_scores)\n",
    "\n",
    "# # Set up Bayesian Optimization\n",
    "# optimizer = BayesianOptimization(\n",
    "#     f=RF_evaluate,\n",
    "#     pbounds={\n",
    "#         'max_depth': (1, 15),\n",
    "#         'n_estimators': (50, 150),\n",
    "#         'min_samples_split': (2, 10),\n",
    "#         'min_samples_leaf': (1, 4)\n",
    "#     },\n",
    "#     random_state=42\n",
    "# )\n",
    "\n",
    "# # Run optimization\n",
    "# optimizer.maximize(init_points=10, n_iter=70)\n",
    "\n",
    "# # Print best parameters\n",
    "# print(\"Best parameters:\", optimizer.max['params'])"
   ]
  },
  {
   "cell_type": "code",
   "execution_count": 86,
   "metadata": {},
   "outputs": [],
   "source": [
    "best_params_xgb = {'colsample_bytree': 0.8, 'learning_rate': 0.2, 'max_depth': 7, 'n_estimators': 300, 'subsample': 0.8}\n",
    "best_params_rf = {'max_depth': 10, 'min_samples_leaf': 1, 'min_samples_split': 2, 'n_estimators': 150}\n",
    "# Create Extra Trees model using the best parameters\n",
    "# best_model = XGBRegressor(**best_params_xgb, random_state=42)\n",
    "# best_model = RandomForestRegressor(**best_params_rf, random_state=42)\n",
    "best_model = LGBMRegressor(random_state=42)"
   ]
  },
  {
   "cell_type": "code",
   "execution_count": 87,
   "metadata": {},
   "outputs": [
    {
     "data": {
      "text/html": [
       "<div>\n",
       "<style scoped>\n",
       "    .dataframe tbody tr th:only-of-type {\n",
       "        vertical-align: middle;\n",
       "    }\n",
       "\n",
       "    .dataframe tbody tr th {\n",
       "        vertical-align: top;\n",
       "    }\n",
       "\n",
       "    .dataframe thead th {\n",
       "        text-align: right;\n",
       "    }\n",
       "</style>\n",
       "<table border=\"1\" class=\"dataframe\">\n",
       "  <thead>\n",
       "    <tr style=\"text-align: right;\">\n",
       "      <th></th>\n",
       "      <th>lat</th>\n",
       "      <th>lon</th>\n",
       "      <th>year</th>\n",
       "      <th>month</th>\n",
       "      <th>precip_est</th>\n",
       "      <th>bias_dec</th>\n",
       "    </tr>\n",
       "  </thead>\n",
       "  <tbody>\n",
       "    <tr>\n",
       "      <th>289</th>\n",
       "      <td>38.0</td>\n",
       "      <td>-18.0</td>\n",
       "      <td>1982</td>\n",
       "      <td>1</td>\n",
       "      <td>76.445310</td>\n",
       "      <td>37.123410</td>\n",
       "    </tr>\n",
       "    <tr>\n",
       "      <th>290</th>\n",
       "      <td>38.0</td>\n",
       "      <td>-17.0</td>\n",
       "      <td>1982</td>\n",
       "      <td>1</td>\n",
       "      <td>74.929690</td>\n",
       "      <td>21.062350</td>\n",
       "    </tr>\n",
       "    <tr>\n",
       "      <th>291</th>\n",
       "      <td>38.0</td>\n",
       "      <td>-16.0</td>\n",
       "      <td>1982</td>\n",
       "      <td>1</td>\n",
       "      <td>72.187500</td>\n",
       "      <td>3.183440</td>\n",
       "    </tr>\n",
       "    <tr>\n",
       "      <th>292</th>\n",
       "      <td>38.0</td>\n",
       "      <td>-15.0</td>\n",
       "      <td>1982</td>\n",
       "      <td>1</td>\n",
       "      <td>71.421875</td>\n",
       "      <td>5.347505</td>\n",
       "    </tr>\n",
       "    <tr>\n",
       "      <th>293</th>\n",
       "      <td>38.0</td>\n",
       "      <td>-14.0</td>\n",
       "      <td>1982</td>\n",
       "      <td>1</td>\n",
       "      <td>70.515625</td>\n",
       "      <td>11.593811</td>\n",
       "    </tr>\n",
       "    <tr>\n",
       "      <th>...</th>\n",
       "      <td>...</td>\n",
       "      <td>...</td>\n",
       "      <td>...</td>\n",
       "      <td>...</td>\n",
       "      <td>...</td>\n",
       "      <td>...</td>\n",
       "    </tr>\n",
       "    <tr>\n",
       "      <th>230231</th>\n",
       "      <td>20.0</td>\n",
       "      <td>-4.0</td>\n",
       "      <td>2017</td>\n",
       "      <td>6</td>\n",
       "      <td>0.629229</td>\n",
       "      <td>-2.861219</td>\n",
       "    </tr>\n",
       "    <tr>\n",
       "      <th>230232</th>\n",
       "      <td>20.0</td>\n",
       "      <td>-3.0</td>\n",
       "      <td>2017</td>\n",
       "      <td>6</td>\n",
       "      <td>0.605791</td>\n",
       "      <td>-0.138075</td>\n",
       "    </tr>\n",
       "    <tr>\n",
       "      <th>230233</th>\n",
       "      <td>20.0</td>\n",
       "      <td>-2.0</td>\n",
       "      <td>2017</td>\n",
       "      <td>6</td>\n",
       "      <td>0.613604</td>\n",
       "      <td>-0.473585</td>\n",
       "    </tr>\n",
       "    <tr>\n",
       "      <th>230234</th>\n",
       "      <td>20.0</td>\n",
       "      <td>-1.0</td>\n",
       "      <td>2017</td>\n",
       "      <td>6</td>\n",
       "      <td>0.898760</td>\n",
       "      <td>-3.907758</td>\n",
       "    </tr>\n",
       "    <tr>\n",
       "      <th>230235</th>\n",
       "      <td>20.0</td>\n",
       "      <td>0.0</td>\n",
       "      <td>2017</td>\n",
       "      <td>6</td>\n",
       "      <td>1.047198</td>\n",
       "      <td>-3.587659</td>\n",
       "    </tr>\n",
       "  </tbody>\n",
       "</table>\n",
       "<p>77976 rows × 6 columns</p>\n",
       "</div>"
      ],
      "text/plain": [
       "         lat   lon  year  month  precip_est   bias_dec\n",
       "289     38.0 -18.0  1982      1   76.445310  37.123410\n",
       "290     38.0 -17.0  1982      1   74.929690  21.062350\n",
       "291     38.0 -16.0  1982      1   72.187500   3.183440\n",
       "292     38.0 -15.0  1982      1   71.421875   5.347505\n",
       "293     38.0 -14.0  1982      1   70.515625  11.593811\n",
       "...      ...   ...   ...    ...         ...        ...\n",
       "230231  20.0  -4.0  2017      6    0.629229  -2.861219\n",
       "230232  20.0  -3.0  2017      6    0.605791  -0.138075\n",
       "230233  20.0  -2.0  2017      6    0.613604  -0.473585\n",
       "230234  20.0  -1.0  2017      6    0.898760  -3.907758\n",
       "230235  20.0   0.0  2017      6    1.047198  -3.587659\n",
       "\n",
       "[77976 rows x 6 columns]"
      ]
     },
     "execution_count": 87,
     "metadata": {},
     "output_type": "execute_result"
    }
   ],
   "source": [
    "dec_average"
   ]
  },
  {
   "cell_type": "code",
   "execution_count": 88,
   "metadata": {},
   "outputs": [
    {
     "name": "stdout",
     "output_type": "stream",
     "text": [
      "[LightGBM] [Info] Auto-choosing row-wise multi-threading, the overhead of testing was 0.000582 seconds.\n",
      "You can set `force_row_wise=true` to remove the overhead.\n",
      "And if memory is not enough, you can set `force_col_wise=true`.\n",
      "[LightGBM] [Info] Total Bins 294\n",
      "[LightGBM] [Info] Number of data points in the train set: 62380, number of used features: 3\n",
      "[LightGBM] [Info] Start training from score 5.049383\n"
     ]
    }
   ],
   "source": [
    "from sklearn.model_selection import train_test_split\n",
    "\n",
    "X_train, X_test, y_train, y_test = train_test_split(X.drop(columns=['year', 'month']), y, test_size=0.2, random_state=42)\n",
    "\n",
    "best_model.fit(X_train, y_train)\n",
    "\n",
    "y_pred = best_model.predict(X_test)"
   ]
  },
  {
   "cell_type": "code",
   "execution_count": 89,
   "metadata": {},
   "outputs": [
    {
     "data": {
      "text/plain": [
       "Index(['lat', 'lon', 'year', 'month', 'precip_est', 'bias_dec'], dtype='object')"
      ]
     },
     "execution_count": 89,
     "metadata": {},
     "output_type": "execute_result"
    }
   ],
   "source": [
    "dec_test.columns"
   ]
  },
  {
   "cell_type": "code",
   "execution_count": 90,
   "metadata": {},
   "outputs": [],
   "source": [
    "dec_final = pd.DataFrame({\n",
    "    'bias_test': y_test,\n",
    "    'bias_pred': y_pred,\n",
    "    'lat': X_test['lat'],\n",
    "    'lon': X_test['lon'],\n",
    "    'month': dec_test.loc[X_test.index, 'month'],  # Extract 'month' from the original DataFrame using the indices of X_test\n",
    "    'prec_est': X_test['precip_est'],\n",
    "    'corrected_prec': X_test['precip_est'] - y_pred\n",
    "})\n",
    "\n",
    "# Reset index of the dec_final DataFrame if needed for clean output\n",
    "dec_final.reset_index(drop=True, inplace=True)"
   ]
  },
  {
   "cell_type": "code",
   "execution_count": 91,
   "metadata": {},
   "outputs": [
    {
     "data": {
      "text/html": [
       "<div>\n",
       "<style scoped>\n",
       "    .dataframe tbody tr th:only-of-type {\n",
       "        vertical-align: middle;\n",
       "    }\n",
       "\n",
       "    .dataframe tbody tr th {\n",
       "        vertical-align: top;\n",
       "    }\n",
       "\n",
       "    .dataframe thead th {\n",
       "        text-align: right;\n",
       "    }\n",
       "</style>\n",
       "<table border=\"1\" class=\"dataframe\">\n",
       "  <thead>\n",
       "    <tr style=\"text-align: right;\">\n",
       "      <th></th>\n",
       "      <th>bias_test</th>\n",
       "      <th>bias_pred</th>\n",
       "      <th>lat</th>\n",
       "      <th>lon</th>\n",
       "      <th>month</th>\n",
       "      <th>prec_est</th>\n",
       "      <th>corrected_prec</th>\n",
       "    </tr>\n",
       "  </thead>\n",
       "  <tbody>\n",
       "    <tr>\n",
       "      <th>0</th>\n",
       "      <td>0.448022</td>\n",
       "      <td>-0.179958</td>\n",
       "      <td>26.0</td>\n",
       "      <td>-1.0</td>\n",
       "      <td>3</td>\n",
       "      <td>0.448022</td>\n",
       "      <td>0.627980</td>\n",
       "    </tr>\n",
       "    <tr>\n",
       "      <th>1</th>\n",
       "      <td>1.816179</td>\n",
       "      <td>0.313432</td>\n",
       "      <td>26.0</td>\n",
       "      <td>-7.0</td>\n",
       "      <td>3</td>\n",
       "      <td>1.816179</td>\n",
       "      <td>1.502748</td>\n",
       "    </tr>\n",
       "    <tr>\n",
       "      <th>2</th>\n",
       "      <td>42.455055</td>\n",
       "      <td>12.467465</td>\n",
       "      <td>37.0</td>\n",
       "      <td>-7.0</td>\n",
       "      <td>4</td>\n",
       "      <td>55.901863</td>\n",
       "      <td>43.434398</td>\n",
       "    </tr>\n",
       "    <tr>\n",
       "      <th>3</th>\n",
       "      <td>-3.230735</td>\n",
       "      <td>-19.744034</td>\n",
       "      <td>34.0</td>\n",
       "      <td>-4.0</td>\n",
       "      <td>1</td>\n",
       "      <td>17.467812</td>\n",
       "      <td>37.211846</td>\n",
       "    </tr>\n",
       "    <tr>\n",
       "      <th>4</th>\n",
       "      <td>0.688457</td>\n",
       "      <td>1.477858</td>\n",
       "      <td>28.0</td>\n",
       "      <td>-10.0</td>\n",
       "      <td>2</td>\n",
       "      <td>3.251934</td>\n",
       "      <td>1.774076</td>\n",
       "    </tr>\n",
       "    <tr>\n",
       "      <th>...</th>\n",
       "      <td>...</td>\n",
       "      <td>...</td>\n",
       "      <td>...</td>\n",
       "      <td>...</td>\n",
       "      <td>...</td>\n",
       "      <td>...</td>\n",
       "      <td>...</td>\n",
       "    </tr>\n",
       "    <tr>\n",
       "      <th>15591</th>\n",
       "      <td>-210.526890</td>\n",
       "      <td>7.338862</td>\n",
       "      <td>36.0</td>\n",
       "      <td>-6.0</td>\n",
       "      <td>2</td>\n",
       "      <td>80.061490</td>\n",
       "      <td>72.722628</td>\n",
       "    </tr>\n",
       "    <tr>\n",
       "      <th>15592</th>\n",
       "      <td>28.842064</td>\n",
       "      <td>-12.782883</td>\n",
       "      <td>34.0</td>\n",
       "      <td>-4.0</td>\n",
       "      <td>5</td>\n",
       "      <td>39.191338</td>\n",
       "      <td>51.974221</td>\n",
       "    </tr>\n",
       "    <tr>\n",
       "      <th>15593</th>\n",
       "      <td>22.695145</td>\n",
       "      <td>9.494750</td>\n",
       "      <td>30.0</td>\n",
       "      <td>-15.0</td>\n",
       "      <td>2</td>\n",
       "      <td>33.830246</td>\n",
       "      <td>24.335496</td>\n",
       "    </tr>\n",
       "    <tr>\n",
       "      <th>15594</th>\n",
       "      <td>18.043667</td>\n",
       "      <td>21.612262</td>\n",
       "      <td>37.0</td>\n",
       "      <td>-7.0</td>\n",
       "      <td>2</td>\n",
       "      <td>31.822353</td>\n",
       "      <td>10.210091</td>\n",
       "    </tr>\n",
       "    <tr>\n",
       "      <th>15595</th>\n",
       "      <td>1.943454</td>\n",
       "      <td>0.176203</td>\n",
       "      <td>24.0</td>\n",
       "      <td>-14.0</td>\n",
       "      <td>5</td>\n",
       "      <td>1.943454</td>\n",
       "      <td>1.767251</td>\n",
       "    </tr>\n",
       "  </tbody>\n",
       "</table>\n",
       "<p>15596 rows × 7 columns</p>\n",
       "</div>"
      ],
      "text/plain": [
       "        bias_test  bias_pred   lat   lon  month   prec_est  corrected_prec\n",
       "0        0.448022  -0.179958  26.0  -1.0      3   0.448022        0.627980\n",
       "1        1.816179   0.313432  26.0  -7.0      3   1.816179        1.502748\n",
       "2       42.455055  12.467465  37.0  -7.0      4  55.901863       43.434398\n",
       "3       -3.230735 -19.744034  34.0  -4.0      1  17.467812       37.211846\n",
       "4        0.688457   1.477858  28.0 -10.0      2   3.251934        1.774076\n",
       "...           ...        ...   ...   ...    ...        ...             ...\n",
       "15591 -210.526890   7.338862  36.0  -6.0      2  80.061490       72.722628\n",
       "15592   28.842064 -12.782883  34.0  -4.0      5  39.191338       51.974221\n",
       "15593   22.695145   9.494750  30.0 -15.0      2  33.830246       24.335496\n",
       "15594   18.043667  21.612262  37.0  -7.0      2  31.822353       10.210091\n",
       "15595    1.943454   0.176203  24.0 -14.0      5   1.943454        1.767251\n",
       "\n",
       "[15596 rows x 7 columns]"
      ]
     },
     "execution_count": 91,
     "metadata": {},
     "output_type": "execute_result"
    }
   ],
   "source": [
    "dec_final"
   ]
  },
  {
   "cell_type": "code",
   "execution_count": 92,
   "metadata": {},
   "outputs": [
    {
     "name": "stderr",
     "output_type": "stream",
     "text": [
      "C:\\Users\\DataScience\\AppData\\Local\\Temp\\ipykernel_31736\\1466980080.py:6: DeprecationWarning:\n",
      "\n",
      "DataFrameGroupBy.apply operated on the grouping columns. This behavior is deprecated, and in a future version of pandas the grouping columns will be excluded from the operation. Either pass `include_groups=False` to exclude the groupings or explicitly select the grouping columns after groupby to silence this warning.\n",
      "\n"
     ]
    }
   ],
   "source": [
    "import numpy as np\n",
    "\n",
    "def calculate_rmse(group):\n",
    "    return np.sqrt(mean_squared_error(group['bias_test'], group['bias_pred']))\n",
    "\n",
    "dec_rmse_ml = dec_final.groupby('month').apply(calculate_rmse).reset_index(name='RMSE')"
   ]
  },
  {
   "cell_type": "code",
   "execution_count": 93,
   "metadata": {},
   "outputs": [
    {
     "data": {
      "text/html": [
       "<div>\n",
       "<style scoped>\n",
       "    .dataframe tbody tr th:only-of-type {\n",
       "        vertical-align: middle;\n",
       "    }\n",
       "\n",
       "    .dataframe tbody tr th {\n",
       "        vertical-align: top;\n",
       "    }\n",
       "\n",
       "    .dataframe thead th {\n",
       "        text-align: right;\n",
       "    }\n",
       "</style>\n",
       "<table border=\"1\" class=\"dataframe\">\n",
       "  <thead>\n",
       "    <tr style=\"text-align: right;\">\n",
       "      <th></th>\n",
       "      <th>month</th>\n",
       "      <th>RMSE</th>\n",
       "    </tr>\n",
       "  </thead>\n",
       "  <tbody>\n",
       "    <tr>\n",
       "      <th>0</th>\n",
       "      <td>1</td>\n",
       "      <td>25.744671</td>\n",
       "    </tr>\n",
       "    <tr>\n",
       "      <th>1</th>\n",
       "      <td>2</td>\n",
       "      <td>18.320962</td>\n",
       "    </tr>\n",
       "    <tr>\n",
       "      <th>2</th>\n",
       "      <td>3</td>\n",
       "      <td>16.287114</td>\n",
       "    </tr>\n",
       "    <tr>\n",
       "      <th>3</th>\n",
       "      <td>4</td>\n",
       "      <td>14.075563</td>\n",
       "    </tr>\n",
       "    <tr>\n",
       "      <th>4</th>\n",
       "      <td>5</td>\n",
       "      <td>11.027068</td>\n",
       "    </tr>\n",
       "    <tr>\n",
       "      <th>5</th>\n",
       "      <td>6</td>\n",
       "      <td>6.447491</td>\n",
       "    </tr>\n",
       "  </tbody>\n",
       "</table>\n",
       "</div>"
      ],
      "text/plain": [
       "   month       RMSE\n",
       "0      1  25.744671\n",
       "1      2  18.320962\n",
       "2      3  16.287114\n",
       "3      4  14.075563\n",
       "4      5  11.027068\n",
       "5      6   6.447491"
      ]
     },
     "execution_count": 93,
     "metadata": {},
     "output_type": "execute_result"
    }
   ],
   "source": [
    "dec_rmse_ml"
   ]
  },
  {
   "cell_type": "code",
   "execution_count": 94,
   "metadata": {},
   "outputs": [],
   "source": [
    "dec_rmse_ml.to_csv('../DATASET/dataset_test2023/dec_rmse_ml.csv')"
   ]
  },
  {
   "cell_type": "code",
   "execution_count": 95,
   "metadata": {},
   "outputs": [],
   "source": [
    "## testing set\n",
    "dec_sub = pd.read_csv ('../DATASET/dataset_test2023/dec23.csv')\n",
    "X_sub = dec_sub[['lat', 'lon', 'prec_est']]\n",
    "\n",
    "y_sub = best_model.predict(X_sub)\n",
    "# dec_sub"
   ]
  },
  {
   "cell_type": "code",
   "execution_count": 96,
   "metadata": {},
   "outputs": [],
   "source": [
    "submission_dec = pd.DataFrame({ # Example: creating a sequence of IDs from 1 to 781\n",
    "    'bias': y_sub,\n",
    "    'lat': dec_sub['lat'],\n",
    "    'lon': dec_sub['lon'],\n",
    "    'month': dec_sub['month'],\n",
    "    'prec_est': dec_sub['prec_est'],\n",
    "    'corrected_prec': dec_sub['prec_est'] - y_sub\n",
    "})"
   ]
  },
  {
   "cell_type": "code",
   "execution_count": 97,
   "metadata": {},
   "outputs": [
    {
     "data": {
      "text/plain": [
       "bias              1081\n",
       "lat               1081\n",
       "lon               1081\n",
       "month             1081\n",
       "prec_est          1081\n",
       "corrected_prec    1081\n",
       "dtype: int64"
      ]
     },
     "execution_count": 97,
     "metadata": {},
     "output_type": "execute_result"
    }
   ],
   "source": [
    "submission_dec[submission_dec['corrected_prec'] < 0].count()"
   ]
  },
  {
   "cell_type": "code",
   "execution_count": 98,
   "metadata": {},
   "outputs": [],
   "source": [
    "submission_dec.loc[submission_dec['corrected_prec'] < 0, 'corrected_prec'] = 0"
   ]
  },
  {
   "cell_type": "code",
   "execution_count": 99,
   "metadata": {},
   "outputs": [
    {
     "data": {
      "text/plain": [
       "bias              0\n",
       "lat               0\n",
       "lon               0\n",
       "month             0\n",
       "prec_est          0\n",
       "corrected_prec    0\n",
       "dtype: int64"
      ]
     },
     "execution_count": 99,
     "metadata": {},
     "output_type": "execute_result"
    }
   ],
   "source": [
    "submission_dec[submission_dec['corrected_prec'] < 0].count()"
   ]
  },
  {
   "cell_type": "code",
   "execution_count": 100,
   "metadata": {},
   "outputs": [],
   "source": [
    "# from sklearn.model_selection import TimeSeriesSplit\n",
    "# from sklearn.metrics import mean_squared_error\n",
    "# import numpy as np\n",
    "\n",
    "# final_results = {}\n",
    "\n",
    "# # Define the number of splits\n",
    "# tscv = TimeSeriesSplit(n_splits=5)\n",
    "\n",
    "# # You can iterate over the splits\n",
    "# for train_index, test_index in tscv.split(X):\n",
    "#     # Use .iloc for positional indexing\n",
    "#     x_train_fold, x_test_fold = X.iloc[train_index].drop(columns=['month']), X.iloc[test_index].drop(columns=['month'])\n",
    "#     y_train_fold, y_test_fold = y.iloc[train_index], y.iloc[test_index]\n",
    "\n",
    "#     best_model.fit(x_train_fold, y_train_fold)\n",
    "#     y_pred_train = best_model.predict(x_train_fold)\n",
    "#     y_pred_test = best_model.predict(x_test_fold)\n",
    "\n",
    "#     rmse_train = mean_squared_error(\n",
    "#         y_train_fold, y_pred_train, squared=False)\n",
    "#     rmse_test = mean_squared_error(y_test_fold, y_pred_test, squared=False)\n",
    "\n",
    "#     train_rmse_scores.append(rmse_train)\n",
    "#     test_rmse_scores.append(rmse_test)\n",
    "\n",
    "# avg_train_rmse = sum(train_rmse_scores) / k\n",
    "# avg_test_rmse = sum(test_rmse_scores) / k\n",
    "\n",
    "# final_results[\"metrics\"] = {\n",
    "#     \"RMSE train\": avg_train_rmse,\n",
    "#     \"RMSE test\": avg_test_rmse,\n",
    "# }\n",
    "# print(final_results)"
   ]
  },
  {
   "cell_type": "code",
   "execution_count": 101,
   "metadata": {},
   "outputs": [],
   "source": [
    "# rmse = np.sqrt(mean_squared_error(test['bias_dec'], y_sub))"
   ]
  }
 ],
 "metadata": {
  "kernelspec": {
   "display_name": "Python 3",
   "language": "python",
   "name": "python3"
  },
  "language_info": {
   "codemirror_mode": {
    "name": "ipython",
    "version": 3
   },
   "file_extension": ".py",
   "mimetype": "text/x-python",
   "name": "python",
   "nbconvert_exporter": "python",
   "pygments_lexer": "ipython3",
   "version": "3.10.0"
  }
 },
 "nbformat": 4,
 "nbformat_minor": 2
}
