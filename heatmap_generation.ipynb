{
 "cells": [
  {
   "cell_type": "code",
   "execution_count": 31,
   "metadata": {},
   "outputs": [],
   "source": [
    "import pandas as pd"
   ]
  },
  {
   "cell_type": "markdown",
   "metadata": {},
   "source": [
    "## Row data"
   ]
  },
  {
   "cell_type": "code",
   "execution_count": 32,
   "metadata": {},
   "outputs": [],
   "source": [
    "RMSE_row = pd.read_csv('../Precipitations_bias_correction/DATASET/RMSE_bias/RMSE_bias.csv')"
   ]
  },
  {
   "cell_type": "code",
   "execution_count": 33,
   "metadata": {},
   "outputs": [],
   "source": [
    "RMSE_row['month'] = [1, 2, 3, 4, 5, 6]"
   ]
  },
  {
   "cell_type": "code",
   "execution_count": 34,
   "metadata": {},
   "outputs": [
    {
     "data": {
      "text/html": [
       "<div>\n",
       "<style scoped>\n",
       "    .dataframe tbody tr th:only-of-type {\n",
       "        vertical-align: middle;\n",
       "    }\n",
       "\n",
       "    .dataframe tbody tr th {\n",
       "        vertical-align: top;\n",
       "    }\n",
       "\n",
       "    .dataframe thead th {\n",
       "        text-align: right;\n",
       "    }\n",
       "</style>\n",
       "<table border=\"1\" class=\"dataframe\">\n",
       "  <thead>\n",
       "    <tr style=\"text-align: right;\">\n",
       "      <th></th>\n",
       "      <th>RMSE_dec</th>\n",
       "      <th>RMSE_nov</th>\n",
       "      <th>RMSE_oct</th>\n",
       "      <th>month</th>\n",
       "    </tr>\n",
       "  </thead>\n",
       "  <tbody>\n",
       "    <tr>\n",
       "      <th>0</th>\n",
       "      <td>36.831786</td>\n",
       "      <td>39.586934</td>\n",
       "      <td>43.385900</td>\n",
       "      <td>1</td>\n",
       "    </tr>\n",
       "    <tr>\n",
       "      <th>1</th>\n",
       "      <td>31.407774</td>\n",
       "      <td>34.189656</td>\n",
       "      <td>36.161627</td>\n",
       "      <td>2</td>\n",
       "    </tr>\n",
       "    <tr>\n",
       "      <th>2</th>\n",
       "      <td>28.715006</td>\n",
       "      <td>31.543403</td>\n",
       "      <td>34.059735</td>\n",
       "      <td>3</td>\n",
       "    </tr>\n",
       "    <tr>\n",
       "      <th>3</th>\n",
       "      <td>25.965685</td>\n",
       "      <td>29.215875</td>\n",
       "      <td>32.503606</td>\n",
       "      <td>4</td>\n",
       "    </tr>\n",
       "    <tr>\n",
       "      <th>4</th>\n",
       "      <td>23.597865</td>\n",
       "      <td>26.768828</td>\n",
       "      <td>29.698488</td>\n",
       "      <td>5</td>\n",
       "    </tr>\n",
       "    <tr>\n",
       "      <th>5</th>\n",
       "      <td>19.564068</td>\n",
       "      <td>23.777098</td>\n",
       "      <td>26.693787</td>\n",
       "      <td>6</td>\n",
       "    </tr>\n",
       "  </tbody>\n",
       "</table>\n",
       "</div>"
      ],
      "text/plain": [
       "    RMSE_dec   RMSE_nov   RMSE_oct  month\n",
       "0  36.831786  39.586934  43.385900      1\n",
       "1  31.407774  34.189656  36.161627      2\n",
       "2  28.715006  31.543403  34.059735      3\n",
       "3  25.965685  29.215875  32.503606      4\n",
       "4  23.597865  26.768828  29.698488      5\n",
       "5  19.564068  23.777098  26.693787      6"
      ]
     },
     "execution_count": 34,
     "metadata": {},
     "output_type": "execute_result"
    }
   ],
   "source": [
    "RMSE_row"
   ]
  },
  {
   "cell_type": "code",
   "execution_count": 35,
   "metadata": {},
   "outputs": [
    {
     "data": {
      "image/png": "[encoded data removed]",
      "text/plain": [
       "<Figure size 500x400 with 2 Axes>"
      ]
     },
     "metadata": {},
     "output_type": "display_data"
    }
   ],
   "source": [
    "import pandas as pd\n",
    "import seaborn as sns\n",
    "import matplotlib.pyplot as plt\n",
    "\n",
    "# Assuming 'df' is your DataFrame\n",
    "# Your actual DataFrame loading or preparation code here\n",
    "df = RMSE_row\n",
    "\n",
    "df.set_index('month', inplace=True)\n",
    "\n",
    "# Creating the heatmap\n",
    "plt.figure(figsize=(5, 4)) # Adjust the figure size as necessary\n",
    "# sns.heatmap(df, annot=True, fmt=\".2f\", cmap='viridis', linewidths=.5)\n",
    "sns.heatmap(df, cmap='coolwarm', linewidths=.5)\n",
    "\n",
    "plt.title('RMSE Measurements Over Months row data')\n",
    "plt.xlabel('Measurement Type')\n",
    "plt.ylabel('Month')\n",
    "plt.tight_layout()"
   ]
  },
  {
   "cell_type": "markdown",
   "metadata": {},
   "source": [
    "## eqm sans coef"
   ]
  },
  {
   "cell_type": "code",
   "execution_count": 36,
   "metadata": {},
   "outputs": [],
   "source": [
    "\n",
    "dec_scoef_rmse = pd.read_csv('../Precipitations_bias_correction/DATASET/for_heatmap/dec_scoef_rmse.csv')\n",
    "nov_scoef_rmse = pd.read_csv('../Precipitations_bias_correction/DATASET/for_heatmap/nov_scoef_rmse.csv')\n",
    "oct_scoef_rmse = pd.read_csv('../Precipitations_bias_correction/DATASET/for_heatmap/oct_scoef_rmse.csv')"
   ]
  },
  {
   "cell_type": "code",
   "execution_count": 37,
   "metadata": {},
   "outputs": [],
   "source": [
    "nov_scoef_rmse = nov_scoef_rmse.drop(columns='month')\n",
    "oct_scoef_rmse = oct_scoef_rmse.drop(columns='month')"
   ]
  },
  {
   "cell_type": "code",
   "execution_count": 38,
   "metadata": {},
   "outputs": [],
   "source": [
    "dec_scoef_rmse['RMSE_dec'] = dec_scoef_rmse['RMSE']\n",
    "dec_scoef_rmse = dec_scoef_rmse.drop(columns='RMSE', axis=1)\n",
    "\n",
    "nov_scoef_rmse['RMSE_nov'] = nov_scoef_rmse['RMSE']\n",
    "nov_scoef_rmse = nov_scoef_rmse.drop(columns='RMSE', axis=1)\n",
    "\n",
    "oct_scoef_rmse['RMSE_oct'] = oct_scoef_rmse['RMSE']\n",
    "oct_scoef_rmse = oct_scoef_rmse.drop(columns='RMSE', axis=1)"
   ]
  },
  {
   "cell_type": "code",
   "execution_count": 39,
   "metadata": {},
   "outputs": [
    {
     "data": {
      "text/html": [
       "<div>\n",
       "<style scoped>\n",
       "    .dataframe tbody tr th:only-of-type {\n",
       "        vertical-align: middle;\n",
       "    }\n",
       "\n",
       "    .dataframe tbody tr th {\n",
       "        vertical-align: top;\n",
       "    }\n",
       "\n",
       "    .dataframe thead th {\n",
       "        text-align: right;\n",
       "    }\n",
       "</style>\n",
       "<table border=\"1\" class=\"dataframe\">\n",
       "  <thead>\n",
       "    <tr style=\"text-align: right;\">\n",
       "      <th></th>\n",
       "      <th>month</th>\n",
       "      <th>RMSE_dec</th>\n",
       "    </tr>\n",
       "  </thead>\n",
       "  <tbody>\n",
       "    <tr>\n",
       "      <th>0</th>\n",
       "      <td>4</td>\n",
       "      <td>8.665117</td>\n",
       "    </tr>\n",
       "    <tr>\n",
       "      <th>1</th>\n",
       "      <td>5</td>\n",
       "      <td>8.606558</td>\n",
       "    </tr>\n",
       "    <tr>\n",
       "      <th>2</th>\n",
       "      <td>6</td>\n",
       "      <td>6.865344</td>\n",
       "    </tr>\n",
       "  </tbody>\n",
       "</table>\n",
       "</div>"
      ],
      "text/plain": [
       "   month  RMSE_dec\n",
       "0      4  8.665117\n",
       "1      5  8.606558\n",
       "2      6  6.865344"
      ]
     },
     "execution_count": 39,
     "metadata": {},
     "output_type": "execute_result"
    }
   ],
   "source": [
    "dec_scoef_rmse"
   ]
  },
  {
   "cell_type": "code",
   "execution_count": 40,
   "metadata": {},
   "outputs": [
    {
     "data": {
      "text/html": [
       "<div>\n",
       "<style scoped>\n",
       "    .dataframe tbody tr th:only-of-type {\n",
       "        vertical-align: middle;\n",
       "    }\n",
       "\n",
       "    .dataframe tbody tr th {\n",
       "        vertical-align: top;\n",
       "    }\n",
       "\n",
       "    .dataframe thead th {\n",
       "        text-align: right;\n",
       "    }\n",
       "</style>\n",
       "<table border=\"1\" class=\"dataframe\">\n",
       "  <thead>\n",
       "    <tr style=\"text-align: right;\">\n",
       "      <th></th>\n",
       "      <th>RMSE_nov</th>\n",
       "    </tr>\n",
       "  </thead>\n",
       "  <tbody>\n",
       "    <tr>\n",
       "      <th>0</th>\n",
       "      <td>8.985786</td>\n",
       "    </tr>\n",
       "    <tr>\n",
       "      <th>1</th>\n",
       "      <td>8.597622</td>\n",
       "    </tr>\n",
       "    <tr>\n",
       "      <th>2</th>\n",
       "      <td>6.819515</td>\n",
       "    </tr>\n",
       "  </tbody>\n",
       "</table>\n",
       "</div>"
      ],
      "text/plain": [
       "   RMSE_nov\n",
       "0  8.985786\n",
       "1  8.597622\n",
       "2  6.819515"
      ]
     },
     "execution_count": 40,
     "metadata": {},
     "output_type": "execute_result"
    }
   ],
   "source": [
    "nov_scoef_rmse"
   ]
  },
  {
   "cell_type": "code",
   "execution_count": 41,
   "metadata": {},
   "outputs": [
    {
     "data": {
      "text/html": [
       "<div>\n",
       "<style scoped>\n",
       "    .dataframe tbody tr th:only-of-type {\n",
       "        vertical-align: middle;\n",
       "    }\n",
       "\n",
       "    .dataframe tbody tr th {\n",
       "        vertical-align: top;\n",
       "    }\n",
       "\n",
       "    .dataframe thead th {\n",
       "        text-align: right;\n",
       "    }\n",
       "</style>\n",
       "<table border=\"1\" class=\"dataframe\">\n",
       "  <thead>\n",
       "    <tr style=\"text-align: right;\">\n",
       "      <th></th>\n",
       "      <th>RMSE_oct</th>\n",
       "    </tr>\n",
       "  </thead>\n",
       "  <tbody>\n",
       "    <tr>\n",
       "      <th>0</th>\n",
       "      <td>8.885920</td>\n",
       "    </tr>\n",
       "    <tr>\n",
       "      <th>1</th>\n",
       "      <td>14.302093</td>\n",
       "    </tr>\n",
       "    <tr>\n",
       "      <th>2</th>\n",
       "      <td>7.134158</td>\n",
       "    </tr>\n",
       "  </tbody>\n",
       "</table>\n",
       "</div>"
      ],
      "text/plain": [
       "    RMSE_oct\n",
       "0   8.885920\n",
       "1  14.302093\n",
       "2   7.134158"
      ]
     },
     "execution_count": 41,
     "metadata": {},
     "output_type": "execute_result"
    }
   ],
   "source": [
    "oct_scoef_rmse"
   ]
  },
  {
   "cell_type": "code",
   "execution_count": 42,
   "metadata": {},
   "outputs": [],
   "source": [
    "merged_scoef_df = pd.concat([dec_scoef_rmse, nov_scoef_rmse, oct_scoef_rmse], axis=1)"
   ]
  },
  {
   "cell_type": "code",
   "execution_count": 43,
   "metadata": {},
   "outputs": [
    {
     "data": {
      "text/html": [
       "<div>\n",
       "<style scoped>\n",
       "    .dataframe tbody tr th:only-of-type {\n",
       "        vertical-align: middle;\n",
       "    }\n",
       "\n",
       "    .dataframe tbody tr th {\n",
       "        vertical-align: top;\n",
       "    }\n",
       "\n",
       "    .dataframe thead th {\n",
       "        text-align: right;\n",
       "    }\n",
       "</style>\n",
       "<table border=\"1\" class=\"dataframe\">\n",
       "  <thead>\n",
       "    <tr style=\"text-align: right;\">\n",
       "      <th></th>\n",
       "      <th>month</th>\n",
       "      <th>RMSE_dec</th>\n",
       "      <th>RMSE_nov</th>\n",
       "      <th>RMSE_oct</th>\n",
       "    </tr>\n",
       "  </thead>\n",
       "  <tbody>\n",
       "    <tr>\n",
       "      <th>0</th>\n",
       "      <td>4</td>\n",
       "      <td>8.665117</td>\n",
       "      <td>8.985786</td>\n",
       "      <td>8.885920</td>\n",
       "    </tr>\n",
       "    <tr>\n",
       "      <th>1</th>\n",
       "      <td>5</td>\n",
       "      <td>8.606558</td>\n",
       "      <td>8.597622</td>\n",
       "      <td>14.302093</td>\n",
       "    </tr>\n",
       "    <tr>\n",
       "      <th>2</th>\n",
       "      <td>6</td>\n",
       "      <td>6.865344</td>\n",
       "      <td>6.819515</td>\n",
       "      <td>7.134158</td>\n",
       "    </tr>\n",
       "  </tbody>\n",
       "</table>\n",
       "</div>"
      ],
      "text/plain": [
       "   month  RMSE_dec  RMSE_nov   RMSE_oct\n",
       "0      4  8.665117  8.985786   8.885920\n",
       "1      5  8.606558  8.597622  14.302093\n",
       "2      6  6.865344  6.819515   7.134158"
      ]
     },
     "execution_count": 43,
     "metadata": {},
     "output_type": "execute_result"
    }
   ],
   "source": [
    "merged_scoef_df"
   ]
  },
  {
   "cell_type": "code",
   "execution_count": 44,
   "metadata": {},
   "outputs": [
    {
     "data": {
      "image/png": "[encoded data removed]",
      "text/plain": [
       "<Figure size 500x400 with 2 Axes>"
      ]
     },
     "metadata": {},
     "output_type": "display_data"
    }
   ],
   "source": [
    "import pandas as pd\n",
    "import seaborn as sns\n",
    "import matplotlib.pyplot as plt\n",
    "\n",
    "# Assuming 'df' is your DataFrame\n",
    "# Your actual DataFrame loading or preparation code here\n",
    "df = merged_scoef_df\n",
    "\n",
    "df = df.set_index('month')\n",
    "\n",
    "# Creating the heatmap with adjusted aesthetics\n",
    "plt.figure(figsize=(5, 4))  # Adjusted to a smaller size for a compact look\n",
    "sns.heatmap(df, cmap='coolwarm', linewidths=.5, cbar_kws={'label': 'RMSE Value'}, vmax=14)\n",
    "\n",
    "plt.title('RMSE Measurements Over Months scoef')\n",
    "plt.xlabel('Measurement Type')\n",
    "plt.ylabel('Month')\n",
    "plt.tight_layout()  # Ensures everything fits without overlapping\n",
    "plt.show()"
   ]
  },
  {
   "cell_type": "markdown",
   "metadata": {},
   "source": [
    "## eqm avec coef"
   ]
  },
  {
   "cell_type": "code",
   "execution_count": 45,
   "metadata": {},
   "outputs": [],
   "source": [
    "import pandas as pd\n",
    "\n",
    "dec_avecoef_rmse = pd.read_csv('../Precipitations_bias_correction/DATASET/for_heatmap/dec_avecoef_rmse.csv')\n",
    "nov_avecoef_rmse = pd.read_csv('../Precipitations_bias_correction/DATASET/for_heatmap/nov_avecoef_rmse.csv')\n",
    "oct_avecoef_rmse = pd.read_csv('../Precipitations_bias_correction/DATASET/for_heatmap/oct_avecoef_rmse.csv')"
   ]
  },
  {
   "cell_type": "code",
   "execution_count": 46,
   "metadata": {},
   "outputs": [],
   "source": [
    "nov_avecoef_rmse = nov_avecoef_rmse.drop(columns='month')\n",
    "oct_avecoef_rmse = oct_avecoef_rmse.drop(columns='month')"
   ]
  },
  {
   "cell_type": "code",
   "execution_count": 47,
   "metadata": {},
   "outputs": [],
   "source": [
    "dec_avecoef_rmse['RMSE_dec'] = dec_avecoef_rmse['RMSE']\n",
    "dec_avecoef_rmse = dec_avecoef_rmse.drop(columns='RMSE', axis=1)\n",
    "\n",
    "nov_avecoef_rmse['RMSE_nov'] = nov_avecoef_rmse['RMSE']\n",
    "nov_avecoef_rmse = nov_avecoef_rmse.drop(columns='RMSE', axis=1)\n",
    "\n",
    "oct_avecoef_rmse['RMSE_oct'] = oct_avecoef_rmse['RMSE']\n",
    "oct_avecoef_rmse = oct_avecoef_rmse.drop(columns='RMSE', axis=1)"
   ]
  },
  {
   "cell_type": "code",
   "execution_count": 48,
   "metadata": {},
   "outputs": [],
   "source": [
    "merged_avecoef_df = pd.concat([dec_avecoef_rmse, nov_avecoef_rmse, oct_avecoef_rmse], axis=1)"
   ]
  },
  {
   "cell_type": "code",
   "execution_count": 49,
   "metadata": {},
   "outputs": [
    {
     "data": {
      "text/html": [
       "<div>\n",
       "<style scoped>\n",
       "    .dataframe tbody tr th:only-of-type {\n",
       "        vertical-align: middle;\n",
       "    }\n",
       "\n",
       "    .dataframe tbody tr th {\n",
       "        vertical-align: top;\n",
       "    }\n",
       "\n",
       "    .dataframe thead th {\n",
       "        text-align: right;\n",
       "    }\n",
       "</style>\n",
       "<table border=\"1\" class=\"dataframe\">\n",
       "  <thead>\n",
       "    <tr style=\"text-align: right;\">\n",
       "      <th></th>\n",
       "      <th>month</th>\n",
       "      <th>RMSE_dec</th>\n",
       "      <th>RMSE_nov</th>\n",
       "      <th>RMSE_oct</th>\n",
       "    </tr>\n",
       "  </thead>\n",
       "  <tbody>\n",
       "    <tr>\n",
       "      <th>0</th>\n",
       "      <td>4</td>\n",
       "      <td>8.075096</td>\n",
       "      <td>8.933813</td>\n",
       "      <td>8.394660</td>\n",
       "    </tr>\n",
       "    <tr>\n",
       "      <th>1</th>\n",
       "      <td>5</td>\n",
       "      <td>7.322591</td>\n",
       "      <td>8.373562</td>\n",
       "      <td>8.964752</td>\n",
       "    </tr>\n",
       "    <tr>\n",
       "      <th>2</th>\n",
       "      <td>6</td>\n",
       "      <td>5.565634</td>\n",
       "      <td>8.432417</td>\n",
       "      <td>8.758858</td>\n",
       "    </tr>\n",
       "  </tbody>\n",
       "</table>\n",
       "</div>"
      ],
      "text/plain": [
       "   month  RMSE_dec  RMSE_nov  RMSE_oct\n",
       "0      4  8.075096  8.933813  8.394660\n",
       "1      5  7.322591  8.373562  8.964752\n",
       "2      6  5.565634  8.432417  8.758858"
      ]
     },
     "execution_count": 49,
     "metadata": {},
     "output_type": "execute_result"
    }
   ],
   "source": [
    "merged_avecoef_df"
   ]
  },
  {
   "cell_type": "code",
   "execution_count": 50,
   "metadata": {},
   "outputs": [
    {
     "data": {
      "image/png": "[encoded data removed]",
      "text/plain": [
       "<Figure size 500x400 with 2 Axes>"
      ]
     },
     "metadata": {},
     "output_type": "display_data"
    }
   ],
   "source": [
    "import pandas as pd\n",
    "import seaborn as sns\n",
    "import matplotlib.pyplot as plt\n",
    "\n",
    "# Assuming 'df' is your DataFrame\n",
    "# Your actual DataFrame loading or preparation code here\n",
    "df = merged_avecoef_df\n",
    "\n",
    "df = df.set_index('month')\n",
    "\n",
    "# Creating the heatmap with adjusted aesthetics\n",
    "plt.figure(figsize=(5, 4))  # Adjusted to a smaller size for a compact look\n",
    "sns.heatmap(df, cmap='coolwarm', linewidths=.5, cbar_kws={'label': 'RMSE Value'}, vmax=14)\n",
    "\n",
    "plt.title('RMSE Measurements Over Months avecoef')\n",
    "plt.xlabel('Measurement Type')\n",
    "plt.ylabel('Month')\n",
    "plt.tight_layout()  # Ensures everything fits without overlapping\n",
    "plt.show()"
   ]
  },
  {
   "cell_type": "markdown",
   "metadata": {},
   "source": [
    "### LGBM"
   ]
  },
  {
   "cell_type": "code",
   "execution_count": 51,
   "metadata": {},
   "outputs": [],
   "source": [
    "import pandas as pd\n",
    "\n",
    "dec_rmse_ml = pd.read_csv('../Precipitations_bias_correction/DATASET/for_heatmap/dec_rmse_ml.csv')\n",
    "nov_rmse_ml = pd.read_csv('../Precipitations_bias_correction/DATASET/for_heatmap/nov_rmse_ml.csv')\n",
    "oct_rmse_ml = pd.read_csv('../Precipitations_bias_correction/DATASET/for_heatmap/oct_rmse_ml.csv')"
   ]
  },
  {
   "cell_type": "code",
   "execution_count": 52,
   "metadata": {},
   "outputs": [
    {
     "data": {
      "text/plain": [
       "Index(['Unnamed: 0', 'month', 'RMSE'], dtype='object')"
      ]
     },
     "execution_count": 52,
     "metadata": {},
     "output_type": "execute_result"
    }
   ],
   "source": [
    "nov_rmse_ml.columns"
   ]
  },
  {
   "cell_type": "code",
   "execution_count": 53,
   "metadata": {},
   "outputs": [
    {
     "data": {
      "text/html": [
       "<div>\n",
       "<style scoped>\n",
       "    .dataframe tbody tr th:only-of-type {\n",
       "        vertical-align: middle;\n",
       "    }\n",
       "\n",
       "    .dataframe tbody tr th {\n",
       "        vertical-align: top;\n",
       "    }\n",
       "\n",
       "    .dataframe thead th {\n",
       "        text-align: right;\n",
       "    }\n",
       "</style>\n",
       "<table border=\"1\" class=\"dataframe\">\n",
       "  <thead>\n",
       "    <tr style=\"text-align: right;\">\n",
       "      <th></th>\n",
       "      <th>Unnamed: 0</th>\n",
       "      <th>month</th>\n",
       "      <th>RMSE</th>\n",
       "    </tr>\n",
       "  </thead>\n",
       "  <tbody>\n",
       "    <tr>\n",
       "      <th>0</th>\n",
       "      <td>0</td>\n",
       "      <td>1</td>\n",
       "      <td>25.744671</td>\n",
       "    </tr>\n",
       "    <tr>\n",
       "      <th>1</th>\n",
       "      <td>1</td>\n",
       "      <td>2</td>\n",
       "      <td>18.320962</td>\n",
       "    </tr>\n",
       "    <tr>\n",
       "      <th>2</th>\n",
       "      <td>2</td>\n",
       "      <td>3</td>\n",
       "      <td>16.287114</td>\n",
       "    </tr>\n",
       "    <tr>\n",
       "      <th>3</th>\n",
       "      <td>3</td>\n",
       "      <td>4</td>\n",
       "      <td>14.075563</td>\n",
       "    </tr>\n",
       "    <tr>\n",
       "      <th>4</th>\n",
       "      <td>4</td>\n",
       "      <td>5</td>\n",
       "      <td>11.027068</td>\n",
       "    </tr>\n",
       "    <tr>\n",
       "      <th>5</th>\n",
       "      <td>5</td>\n",
       "      <td>6</td>\n",
       "      <td>6.447491</td>\n",
       "    </tr>\n",
       "  </tbody>\n",
       "</table>\n",
       "</div>"
      ],
      "text/plain": [
       "   Unnamed: 0  month       RMSE\n",
       "0           0      1  25.744671\n",
       "1           1      2  18.320962\n",
       "2           2      3  16.287114\n",
       "3           3      4  14.075563\n",
       "4           4      5  11.027068\n",
       "5           5      6   6.447491"
      ]
     },
     "execution_count": 53,
     "metadata": {},
     "output_type": "execute_result"
    }
   ],
   "source": [
    "dec_rmse_ml"
   ]
  },
  {
   "cell_type": "code",
   "execution_count": 54,
   "metadata": {},
   "outputs": [
    {
     "data": {
      "text/html": [
       "<div>\n",
       "<style scoped>\n",
       "    .dataframe tbody tr th:only-of-type {\n",
       "        vertical-align: middle;\n",
       "    }\n",
       "\n",
       "    .dataframe tbody tr th {\n",
       "        vertical-align: top;\n",
       "    }\n",
       "\n",
       "    .dataframe thead th {\n",
       "        text-align: right;\n",
       "    }\n",
       "</style>\n",
       "<table border=\"1\" class=\"dataframe\">\n",
       "  <thead>\n",
       "    <tr style=\"text-align: right;\">\n",
       "      <th></th>\n",
       "      <th>Unnamed: 0</th>\n",
       "      <th>month</th>\n",
       "      <th>RMSE</th>\n",
       "    </tr>\n",
       "  </thead>\n",
       "  <tbody>\n",
       "    <tr>\n",
       "      <th>0</th>\n",
       "      <td>0</td>\n",
       "      <td>1</td>\n",
       "      <td>24.722029</td>\n",
       "    </tr>\n",
       "    <tr>\n",
       "      <th>1</th>\n",
       "      <td>1</td>\n",
       "      <td>2</td>\n",
       "      <td>18.438658</td>\n",
       "    </tr>\n",
       "    <tr>\n",
       "      <th>2</th>\n",
       "      <td>2</td>\n",
       "      <td>3</td>\n",
       "      <td>17.543664</td>\n",
       "    </tr>\n",
       "    <tr>\n",
       "      <th>3</th>\n",
       "      <td>3</td>\n",
       "      <td>4</td>\n",
       "      <td>14.372246</td>\n",
       "    </tr>\n",
       "    <tr>\n",
       "      <th>4</th>\n",
       "      <td>4</td>\n",
       "      <td>5</td>\n",
       "      <td>11.990063</td>\n",
       "    </tr>\n",
       "    <tr>\n",
       "      <th>5</th>\n",
       "      <td>5</td>\n",
       "      <td>12</td>\n",
       "      <td>27.308187</td>\n",
       "    </tr>\n",
       "  </tbody>\n",
       "</table>\n",
       "</div>"
      ],
      "text/plain": [
       "   Unnamed: 0  month       RMSE\n",
       "0           0      1  24.722029\n",
       "1           1      2  18.438658\n",
       "2           2      3  17.543664\n",
       "3           3      4  14.372246\n",
       "4           4      5  11.990063\n",
       "5           5     12  27.308187"
      ]
     },
     "execution_count": 54,
     "metadata": {},
     "output_type": "execute_result"
    }
   ],
   "source": [
    "nov_rmse_ml"
   ]
  },
  {
   "cell_type": "code",
   "execution_count": 55,
   "metadata": {},
   "outputs": [
    {
     "data": {
      "text/html": [
       "<div>\n",
       "<style scoped>\n",
       "    .dataframe tbody tr th:only-of-type {\n",
       "        vertical-align: middle;\n",
       "    }\n",
       "\n",
       "    .dataframe tbody tr th {\n",
       "        vertical-align: top;\n",
       "    }\n",
       "\n",
       "    .dataframe thead th {\n",
       "        text-align: right;\n",
       "    }\n",
       "</style>\n",
       "<table border=\"1\" class=\"dataframe\">\n",
       "  <thead>\n",
       "    <tr style=\"text-align: right;\">\n",
       "      <th></th>\n",
       "      <th>Unnamed: 0</th>\n",
       "      <th>month</th>\n",
       "      <th>RMSE</th>\n",
       "    </tr>\n",
       "  </thead>\n",
       "  <tbody>\n",
       "    <tr>\n",
       "      <th>0</th>\n",
       "      <td>0</td>\n",
       "      <td>1</td>\n",
       "      <td>24.690320</td>\n",
       "    </tr>\n",
       "    <tr>\n",
       "      <th>1</th>\n",
       "      <td>1</td>\n",
       "      <td>2</td>\n",
       "      <td>18.647848</td>\n",
       "    </tr>\n",
       "    <tr>\n",
       "      <th>2</th>\n",
       "      <td>2</td>\n",
       "      <td>3</td>\n",
       "      <td>16.647167</td>\n",
       "    </tr>\n",
       "    <tr>\n",
       "      <th>3</th>\n",
       "      <td>3</td>\n",
       "      <td>4</td>\n",
       "      <td>16.447901</td>\n",
       "    </tr>\n",
       "    <tr>\n",
       "      <th>4</th>\n",
       "      <td>4</td>\n",
       "      <td>11</td>\n",
       "      <td>33.587588</td>\n",
       "    </tr>\n",
       "    <tr>\n",
       "      <th>5</th>\n",
       "      <td>5</td>\n",
       "      <td>12</td>\n",
       "      <td>25.822493</td>\n",
       "    </tr>\n",
       "  </tbody>\n",
       "</table>\n",
       "</div>"
      ],
      "text/plain": [
       "   Unnamed: 0  month       RMSE\n",
       "0           0      1  24.690320\n",
       "1           1      2  18.647848\n",
       "2           2      3  16.647167\n",
       "3           3      4  16.447901\n",
       "4           4     11  33.587588\n",
       "5           5     12  25.822493"
      ]
     },
     "execution_count": 55,
     "metadata": {},
     "output_type": "execute_result"
    }
   ],
   "source": [
    "oct_rmse_ml"
   ]
  },
  {
   "cell_type": "code",
   "execution_count": 56,
   "metadata": {},
   "outputs": [],
   "source": [
    "nov_rmse_ml = pd.concat([nov_rmse_ml.loc[nov_rmse_ml[nov_rmse_ml['month'] == 12].index], nov_rmse_ml.drop(nov_rmse_ml[nov_rmse_ml['month'] == 12].index)])\n",
    "\n",
    "# Reset index if needed\n",
    "nov_rmse_ml.reset_index(drop=True, inplace=True)\n",
    "\n",
    "last_two_rows = oct_rmse_ml.iloc[-2:]\n",
    "\n",
    "# Extract everything except the last two rows\n",
    "remaining_rows = oct_rmse_ml.iloc[:-2]\n",
    "\n",
    "# Concatenate the last two rows to the top of the DataFrame\n",
    "oct_rmse_ml = pd.concat([last_two_rows, remaining_rows])\n",
    "\n",
    "# Reset index if needed\n",
    "oct_rmse_ml.reset_index(drop=True, inplace=True)"
   ]
  },
  {
   "cell_type": "code",
   "execution_count": 57,
   "metadata": {},
   "outputs": [],
   "source": [
    "dec_rmse_ml = dec_rmse_ml.drop(columns='Unnamed: 0', axis=1)\n",
    "nov_rmse_ml = nov_rmse_ml.drop(columns=['Unnamed: 0', 'month'], axis=1)\n",
    "oct_rmse_ml = oct_rmse_ml.drop(columns=['Unnamed: 0', 'month'], axis=1)"
   ]
  },
  {
   "cell_type": "code",
   "execution_count": 58,
   "metadata": {},
   "outputs": [],
   "source": [
    "dec_rmse_ml['RMSE_dec'] = dec_rmse_ml['RMSE']\n",
    "dec_rmse_ml = dec_rmse_ml.drop(columns='RMSE', axis=1)\n",
    "\n",
    "nov_rmse_ml['RMSE_nov'] = nov_rmse_ml['RMSE']\n",
    "nov_rmse_ml = nov_rmse_ml.drop(columns='RMSE', axis=1)\n",
    "\n",
    "oct_rmse_ml['RMSE_oct'] = oct_rmse_ml['RMSE']\n",
    "oct_rmse_ml = oct_rmse_ml.drop(columns='RMSE', axis=1)"
   ]
  },
  {
   "cell_type": "code",
   "execution_count": 59,
   "metadata": {},
   "outputs": [
    {
     "data": {
      "text/html": [
       "<div>\n",
       "<style scoped>\n",
       "    .dataframe tbody tr th:only-of-type {\n",
       "        vertical-align: middle;\n",
       "    }\n",
       "\n",
       "    .dataframe tbody tr th {\n",
       "        vertical-align: top;\n",
       "    }\n",
       "\n",
       "    .dataframe thead th {\n",
       "        text-align: right;\n",
       "    }\n",
       "</style>\n",
       "<table border=\"1\" class=\"dataframe\">\n",
       "  <thead>\n",
       "    <tr style=\"text-align: right;\">\n",
       "      <th></th>\n",
       "      <th>RMSE_oct</th>\n",
       "    </tr>\n",
       "  </thead>\n",
       "  <tbody>\n",
       "    <tr>\n",
       "      <th>0</th>\n",
       "      <td>33.587588</td>\n",
       "    </tr>\n",
       "    <tr>\n",
       "      <th>1</th>\n",
       "      <td>25.822493</td>\n",
       "    </tr>\n",
       "    <tr>\n",
       "      <th>2</th>\n",
       "      <td>24.690320</td>\n",
       "    </tr>\n",
       "    <tr>\n",
       "      <th>3</th>\n",
       "      <td>18.647848</td>\n",
       "    </tr>\n",
       "    <tr>\n",
       "      <th>4</th>\n",
       "      <td>16.647167</td>\n",
       "    </tr>\n",
       "    <tr>\n",
       "      <th>5</th>\n",
       "      <td>16.447901</td>\n",
       "    </tr>\n",
       "  </tbody>\n",
       "</table>\n",
       "</div>"
      ],
      "text/plain": [
       "    RMSE_oct\n",
       "0  33.587588\n",
       "1  25.822493\n",
       "2  24.690320\n",
       "3  18.647848\n",
       "4  16.647167\n",
       "5  16.447901"
      ]
     },
     "execution_count": 59,
     "metadata": {},
     "output_type": "execute_result"
    }
   ],
   "source": [
    "oct_rmse_ml"
   ]
  },
  {
   "cell_type": "code",
   "execution_count": 60,
   "metadata": {},
   "outputs": [],
   "source": [
    "merged_ml_df = pd.concat([dec_rmse_ml, nov_rmse_ml, oct_rmse_ml], axis=1)"
   ]
  },
  {
   "cell_type": "code",
   "execution_count": 61,
   "metadata": {},
   "outputs": [
    {
     "data": {
      "text/html": [
       "<div>\n",
       "<style scoped>\n",
       "    .dataframe tbody tr th:only-of-type {\n",
       "        vertical-align: middle;\n",
       "    }\n",
       "\n",
       "    .dataframe tbody tr th {\n",
       "        vertical-align: top;\n",
       "    }\n",
       "\n",
       "    .dataframe thead th {\n",
       "        text-align: right;\n",
       "    }\n",
       "</style>\n",
       "<table border=\"1\" class=\"dataframe\">\n",
       "  <thead>\n",
       "    <tr style=\"text-align: right;\">\n",
       "      <th></th>\n",
       "      <th>month</th>\n",
       "      <th>RMSE_dec</th>\n",
       "      <th>RMSE_nov</th>\n",
       "      <th>RMSE_oct</th>\n",
       "    </tr>\n",
       "  </thead>\n",
       "  <tbody>\n",
       "    <tr>\n",
       "      <th>0</th>\n",
       "      <td>1</td>\n",
       "      <td>25.744671</td>\n",
       "      <td>27.308187</td>\n",
       "      <td>33.587588</td>\n",
       "    </tr>\n",
       "    <tr>\n",
       "      <th>1</th>\n",
       "      <td>2</td>\n",
       "      <td>18.320962</td>\n",
       "      <td>24.722029</td>\n",
       "      <td>25.822493</td>\n",
       "    </tr>\n",
       "    <tr>\n",
       "      <th>2</th>\n",
       "      <td>3</td>\n",
       "      <td>16.287114</td>\n",
       "      <td>18.438658</td>\n",
       "      <td>24.690320</td>\n",
       "    </tr>\n",
       "    <tr>\n",
       "      <th>3</th>\n",
       "      <td>4</td>\n",
       "      <td>14.075563</td>\n",
       "      <td>17.543664</td>\n",
       "      <td>18.647848</td>\n",
       "    </tr>\n",
       "    <tr>\n",
       "      <th>4</th>\n",
       "      <td>5</td>\n",
       "      <td>11.027068</td>\n",
       "      <td>14.372246</td>\n",
       "      <td>16.647167</td>\n",
       "    </tr>\n",
       "    <tr>\n",
       "      <th>5</th>\n",
       "      <td>6</td>\n",
       "      <td>6.447491</td>\n",
       "      <td>11.990063</td>\n",
       "      <td>16.447901</td>\n",
       "    </tr>\n",
       "  </tbody>\n",
       "</table>\n",
       "</div>"
      ],
      "text/plain": [
       "   month   RMSE_dec   RMSE_nov   RMSE_oct\n",
       "0      1  25.744671  27.308187  33.587588\n",
       "1      2  18.320962  24.722029  25.822493\n",
       "2      3  16.287114  18.438658  24.690320\n",
       "3      4  14.075563  17.543664  18.647848\n",
       "4      5  11.027068  14.372246  16.647167\n",
       "5      6   6.447491  11.990063  16.447901"
      ]
     },
     "execution_count": 61,
     "metadata": {},
     "output_type": "execute_result"
    }
   ],
   "source": [
    "merged_ml_df"
   ]
  },
  {
   "cell_type": "code",
   "execution_count": 63,
   "metadata": {},
   "outputs": [
    {
     "data": {
      "image/png": "[encoded data removed]",
      "text/plain": [
       "<Figure size 500x400 with 2 Axes>"
      ]
     },
     "metadata": {},
     "output_type": "display_data"
    }
   ],
   "source": [
    "import pandas as pd\n",
    "import seaborn as sns\n",
    "import matplotlib.pyplot as plt\n",
    "\n",
    "# Assuming 'df' is your DataFrame\n",
    "# Your actual DataFrame loading or preparation code here\n",
    "df = merged_ml_df\n",
    "\n",
    "df = df.set_index('month')\n",
    "\n",
    "# Creating the heatmap with adjusted aesthetics\n",
    "plt.figure(figsize=(5, 4))  # Adjusted to a smaller size for a compact look\n",
    "sns.heatmap(df, cmap='coolwarm', linewidths=.5, cbar_kws={'label': 'RMSE Value'}, vmax= 30)\n",
    "\n",
    "plt.title('RMSE Measurements Over Months lightgmb')\n",
    "plt.xlabel('Measurement Type')\n",
    "plt.ylabel('Month')\n",
    "plt.tight_layout()  # Ensures everything fits without overlapping\n",
    "plt.show()"
   ]
  }
 ],
 "metadata": {
  "kernelspec": {
   "display_name": "Python 3",
   "language": "python",
   "name": "python3"
  },
  "language_info": {
   "codemirror_mode": {
    "name": "ipython",
    "version": 3
   },
   "file_extension": ".py",
   "mimetype": "text/x-python",
   "name": "python",
   "nbconvert_exporter": "python",
   "pygments_lexer": "ipython3",
   "version": "3.10.0"
  }
 },
 "nbformat": 4,
 "nbformat_minor": 2
}
