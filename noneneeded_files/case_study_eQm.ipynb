{
 "cells": [
  {
   "cell_type": "markdown",
   "metadata": {},
   "source": [
    "https://medium.com/@juanmi.gutierrez/quantile-mapping-bias-correction-63ed01d5a618"
   ]
  },
  {
   "cell_type": "code",
   "execution_count": 9,
   "metadata": {},
   "outputs": [],
   "source": [
    "import numpy as np\n",
    "from scipy.stats import norm, gamma, erlang, expon, percentileofscore"
   ]
  },
  {
   "cell_type": "code",
   "execution_count": 10,
   "metadata": {},
   "outputs": [],
   "source": [
    "# Data\n",
    "u1, s1 = 100,20\n",
    "bias = 20\n",
    "bias_d = 2\n",
    "n = 100\n",
    "q_ = 20\n",
    "dist1 = norm(loc=u1, scale=s1)\n",
    "dist2 = norm(loc=u1+bias_d, scale=s1)\n",
    "\n",
    "quantiles = [round(x*0.05,2) for x in range(1,q_)]   # calculates quantiles ranging from 0.05 to 0.95 (inclusive) in increments of 0.05. These quantiles are used to compare distribution characteristics at various points.\n",
    "\n",
    "q_dist1 = [dist1.ppf(x*0.05) for x in range(1,q_)] # lists of quantile values for dist1 \n",
    "q_dist2 = [dist2.ppf(x*0.05) for x in range(1,q_)]\n",
    "\n",
    "# Distribution real sample\n",
    "ref_dataset = np.random.normal(u1,s1,n).round(2)\n",
    "# Sub-estimated\n",
    "model_present = (q_dist1 - np.random.normal(bias,2,q_-1)).round(2) # This represents a scenario where the model systematically underestimates or overestimates the true quantile values due to a bias.\n",
    "# Future model with the same bias\n",
    "model_future = (q_dist2 - np.random.normal(bias,2,q_-1)).round(2)"
   ]
  },
  {
   "cell_type": "markdown",
   "metadata": {},
   "source": [
    "The eQM Delta-proportion method assumes that the proportional difference between the downscaled and observed value during the period of observed data applies as a systematic bias to the future period as well."
   ]
  },
  {
   "cell_type": "code",
   "execution_count": 11,
   "metadata": {},
   "outputs": [],
   "source": [
    "def eQM_porcentual_delta(ref_dataset, model_present, model_future):\n",
    "        \"\"\"\n",
    "        Remove the biases for each quantile value taking the difference between \n",
    "        ref_dataset and model_present at each percentile as a kind of systematic bias (delta)\n",
    "        and add them to model_future at the same percentile.\n",
    "\n",
    "        returns: downscaled model_present and model_future        \n",
    "        \"\"\"\n",
    "   \n",
    "        model_present_corrected = np.zeros(model_present.size)  \n",
    "        model_future_corrected = np.zeros(model_future.size)\n",
    "\n",
    "        for ival, model_value in enumerate(model_present):  #index and the value of each item in mdel_present\n",
    "            percentile = percentileofscore(model_present, model_value)  # Returns the percentile (0-100) where the model_value falls within model_present\n",
    "            percentile_ref = np.percentile(ref_dataset, percentile) # search for the corresponding val in the ref_dataset\n",
    "            dif = (percentile_ref - model_value)/model_value   #represents the percentage error or bias at this percentile.\n",
    "            model_present_corrected[ival] = model_value*(1+dif)\n",
    "            model_future_corrected[ival] = model_future[ival]*(1+dif)   # adjust the value si dif<0 the scale the val down, sinn scale it up\n",
    "            \n",
    "        return model_present_corrected, model_future_corrected"
   ]
  },
  {
   "cell_type": "code",
   "execution_count": 12,
   "metadata": {},
   "outputs": [],
   "source": [
    "model_present_corrected, model_future_corrected = eQM_porcentual_delta(ref_dataset, model_present, model_future)"
   ]
  },
  {
   "cell_type": "markdown",
   "metadata": {},
   "source": [
    "To understand the effectiveness of the `eQM_porcentual_delta` function (which stands for \"Empirical Quantile Matching with percentage delta correction\") and the subsequent analysis better, let's delve into the details of what the function aims to achieve and how the effectiveness of this bias correction is evaluated:\n",
    "\n",
    "### Objective of eQM_porcentual_delta\n",
    "\n",
    "The primary goal of `eQM_porcentual_delta` is to correct biases in predictive models by aligning their predictions closer to the actual observed data. It does this by:\n",
    "- Identifying the systematic bias at each quantile between the model predictions and the actual data.\n",
    "- Correcting this bias for each quantile prediction in both the present and future model predictions.\n",
    "\n",
    "### How Bias Correction is Performed\n",
    "\n",
    "For each quantile in the `model_present`, the function calculates the percentage difference between the model's prediction and the actual value at the same quantile in the `ref_dataset`. This difference is considered a systematic bias. The function then corrects both the present and future model predictions by adjusting them based on this calculated bias.\n",
    "\n",
    "### Evaluation of Effectiveness\n",
    "\n",
    "The effectiveness of this correction is evaluated by comparing the empirical quantiles of the `ref_dataset` with the theoretical quantiles (expected from the model predictions) both before and after correction. The steps include:\n",
    "\n",
    "1. **Calculating Empirical Quantiles:**\n",
    "   - For each predicted quantile in the model (both original and corrected), count how many values in the `ref_dataset` are less than or equal to this predicted value.\n",
    "   - The empirical quantile is the proportion of the reference dataset that falls below the predicted quantile value.\n",
    "\n",
    "2. **Comparing Empirical and Theoretical Quantiles:**\n",
    "   - Theoretical quantiles are the expected positions of each quantile based on the model. For example, if the model predicts the 20th percentile, the theoretical quantile is 0.2.\n",
    "   - The empirical quantile is derived from the actual data (how data aligns with the model's prediction).\n",
    "   - Differences between theoretical and empirical quantiles are calculated to assess how well the model predictions align with the actual data.\n",
    "\n",
    "3. **Analyzing the Differences:**\n",
    "   - These differences are analyzed before and after correction to see if the bias correction method effectively reduces the discrepancy between the model's predictions and the actual data.\n",
    "   - The differences are split into those that are less than 0 (underestimations) and those greater than 0 (overestimations) to separately assess the correction's impact on both under and over-predictions.\n",
    "   - The mean of these differences indicates the average bias in predictions; a smaller absolute value post-correction suggests improved alignment with the actual data.\n",
    "\n",
    "### Conclusion\n",
    "\n",
    "The effectiveness of the `eQM_porcentual_delta` method is thus determined by its ability to minimize these differences, indicating a closer match between the model's predictions and the actual observed quantiles. If after applying the correction, the differences between the theoretical and empirical quantiles are reduced, it suggests that the model's systematic bias at each quantile has been effectively corrected, leading to more accurate predictions. This method is particularly useful for predictive models where accurate quantile estimations are crucial, such as in financial risk models or in forecasting weather-related events."
   ]
  },
  {
   "cell_type": "code",
   "execution_count": 15,
   "metadata": {},
   "outputs": [
    {
     "name": "stdout",
     "output_type": "stream",
     "text": [
      "EQM Delta proportion\n",
      "Previous Difference (nan, 0.2905263157894737)\n",
      "Before     [0.0, 0.0, 0.02, 0.03, 0.06, 0.1, 0.07, 0.1, 0.12, 0.17, 0.15, 0.17, 0.29, 0.23, 0.35, 0.39, 0.51, 0.57, 0.65]\n",
      "Theorical Quantile   [0.05, 0.1, 0.15, 0.2, 0.25, 0.3, 0.35, 0.4, 0.45, 0.5, 0.55, 0.6, 0.65, 0.7, 0.75, 0.8, 0.85, 0.9, 0.95]\n",
      "Corrected [0.06, 0.11, 0.16, 0.21, 0.27, 0.42, 0.32, 0.37, 0.47, 0.58, 0.53, 0.63, 0.73, 0.68, 0.79, 0.84, 0.89, 0.94, 1.0]\n",
      "Difference with correction (-0.039999999999999994, 0.02499999999999998)\n"
     ]
    }
   ],
   "source": [
    "list_qp = []\n",
    "list_qp_corrected = []\n",
    "\n",
    "for i, q in enumerate(model_present):\n",
    "    count = 0\n",
    "    count_corrected = 0\n",
    "    for j in ref_dataset:\n",
    "        q_p = model_present[i]\n",
    "        q_p_corrected = model_present_corrected[i]\n",
    "        if j<=q_p:\n",
    "            count +=1\n",
    "        if j<=q_p_corrected:\n",
    "            count_corrected +=1\n",
    "    perc_qp = count/n\n",
    "    list_qp.append(perc_qp)\n",
    "\n",
    "    perc_qp_corrected = count_corrected/n\n",
    "    list_qp_corrected.append(perc_qp_corrected)\n",
    "\n",
    "dif = np.array(quantiles)-(list_qp)\n",
    "dif = np.mean(dif[dif<=0]), np.mean(dif[dif>0])\n",
    "dif_a = np.mean(np.array(quantiles)-(list_qp))\n",
    "dif_a = np.mean(dif_a[dif_a<=0]), np.mean(dif_a[dif_a>0])\n",
    "\n",
    "dif = np.array(quantiles)-(list_qp_corrected)\n",
    "dif = np.mean(dif[dif<=0]), np.mean(dif[dif>0])\n",
    "dif_corrected = np.mean(np.array(quantiles)-(list_qp_corrected))\n",
    "dif_corrected = np.mean(dif_corrected[dif_corrected<=0]), np.mean(dif_corrected[dif_corrected>0])\n",
    "\n",
    "print(\"EQM Delta proportion\")\n",
    "print(\"Previous Difference\", dif_a)\n",
    "print(\"Before    \", list_qp)\n",
    "print(\"Theorical Quantile  \", quantiles)\n",
    "print(\"Corrected\",list_qp_corrected)\n",
    "print(\"Difference with correction\",dif)"
   ]
  },
  {
   "cell_type": "code",
   "execution_count": 16,
   "metadata": {},
   "outputs": [
    {
     "name": "stdout",
     "output_type": "stream",
     "text": [
      "EQM Delta proportion in FUTURE DATA\n",
      "Previous Difference (nan, 0.25789473684210523)\n",
      "Before     [0.0, 0.0, 0.02, 0.03, 0.06, 0.1, 0.07, 0.1, 0.12, 0.17, 0.15, 0.17, 0.29, 0.23, 0.35, 0.39, 0.51, 0.57, 0.65]\n",
      "Theorical Quantile   [0.05, 0.1, 0.15, 0.2, 0.25, 0.3, 0.35, 0.4, 0.45, 0.5, 0.55, 0.6, 0.65, 0.7, 0.75, 0.8, 0.85, 0.9, 0.95]\n",
      "Corrected [0.06, 0.11, 0.16, 0.21, 0.27, 0.42, 0.32, 0.37, 0.47, 0.58, 0.53, 0.63, 0.73, 0.68, 0.79, 0.84, 0.89, 0.94, 1.0]\n",
      "Difference with correction (-0.07578947368421053, nan)\n"
     ]
    }
   ],
   "source": [
    "list_qpf = []\n",
    "list_qpf_corrected = []\n",
    "\n",
    "for i, q in enumerate(model_future):\n",
    "    count = 0\n",
    "    count_corrected = 0\n",
    "    for j in ref_dataset:\n",
    "        q_f = model_future[i]\n",
    "        q_f2 = model_future_corrected[i]\n",
    "        if j<=q_f:\n",
    "            count +=1\n",
    "        if j<=q_f2:\n",
    "            count_corrected +=1\n",
    "            \n",
    "    perc_qpf = count/n\n",
    "    list_qpf.append(perc_qpf)\n",
    "    \n",
    "    perc_qpf_corrected = count_corrected/n\n",
    "    list_qpf_corrected.append(perc_qpf_corrected)\n",
    "\n",
    "dif = np.array(quantiles)-(list_qpf)\n",
    "dif = np.mean(dif[dif<=0]), np.mean(dif[dif>0])\n",
    "dif_a = np.mean(np.array(quantiles)-(list_qpf))\n",
    "dif_a = np.mean(dif_a[dif_a<=0]), np.mean(dif_a[dif_a>0])\n",
    "\n",
    "dif = np.array(quantiles)-(list_qpf_corrected)\n",
    "dif = np.mean(dif[dif<=0]), np.mean(dif[dif>0])\n",
    "dif_corrected = np.mean(np.array(quantiles)-(list_qpf_corrected))\n",
    "dif_corrected = np.mean(dif_corrected[dif_corrected<=0]), np.mean(dif_corrected[dif_corrected>0])\n",
    "\n",
    "print(\"EQM Delta proportion in FUTURE DATA\")\n",
    "print(\"Previous Difference\", dif_a)\n",
    "print(\"Before    \", list_qp)\n",
    "print(\"Theorical Quantile  \", quantiles)\n",
    "print(\"Corrected\",list_qp_corrected)\n",
    "print(\"Difference with correction\",dif)"
   ]
  }
 ],
 "metadata": {
  "kernelspec": {
   "display_name": "Python 3",
   "language": "python",
   "name": "python3"
  },
  "language_info": {
   "codemirror_mode": {
    "name": "ipython",
    "version": 3
   },
   "file_extension": ".py",
   "mimetype": "text/x-python",
   "name": "python",
   "nbconvert_exporter": "python",
   "pygments_lexer": "ipython3",
   "version": "3.10.0"
  }
 },
 "nbformat": 4,
 "nbformat_minor": 2
}
