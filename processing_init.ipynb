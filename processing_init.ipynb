{
 "cells": [
  {
   "cell_type": "markdown",
   "metadata": {},
   "source": [
    "### Data description\n",
    "\n",
    "- **Dimensions:** The data has three dimensions: longitude (**`lon`**) with 41 points, latitude (**`lat`**) with 26 points, and time (**`time`**) with 216 points. The longitude ranges from 20 degrees west to 20 degrees east, and the latitude ranges from 45 degrees to 20 degrees north. The time covers monthly intervals from January 1982 to June 2017.\n",
    "- **Coordinates:**\n",
    "    - **`lon`**: Longitude, with values from 20 degrees west to 20 degrees east.\n",
    "    - **`lat`**: Latitude, with values from 45 degrees to 20 degrees north.\n",
    "    - **`time`**: Time, covering monthly intervals from January 1982 to June 2017.\n",
    "- **Data Variables:**\n",
    "    - **`var228`**: A float32 variable over time, latitude, and longitude dimensions.\n",
    "- **Attributes:** The dataset includes metadata attributes such as the Climate Data Interface (CDI) version, CF (Climate and Forecast) conventions version, a history log, the institution that generated the file (European Centre for Medium-Range Weather Forecasts), and the version of the Climate Data Operators (CDO) used.\n",
    "\n",
    "This dataset appears to be related to climate data, likely representing some climate variable (indicated as **`var228`**, but the specific nature of this variable is not described ‘precipitation variable’) across a specified geographic area (Morocco) over a 35-year period on a monthly basis."
   ]
  },
  {
   "cell_type": "code",
   "execution_count": 1,
   "metadata": {},
   "outputs": [],
   "source": [
    "# import xarray as xr\n",
    "\n",
    "# # Load the NetCDF file to inspect its contents\n",
    "# data = xr.open_dataset('C:/Users/DataScience/Desktop/precipitations_forcasting/dataset/obs_oct.nc')\n",
    "\n",
    "# # Display the contents (variables, dimensions, etc.)\n",
    "# data"
   ]
  },
  {
   "cell_type": "markdown",
   "metadata": {},
   "source": [
    "### Manipulation"
   ]
  },
  {
   "cell_type": "code",
   "execution_count": 2,
   "metadata": {},
   "outputs": [
    {
     "name": "stderr",
     "output_type": "stream",
     "text": [
      "C:\\Users\\DataScience\\AppData\\Local\\Temp\\ipykernel_64768\\4080736814.py:1: DeprecationWarning: \n",
      "Pyarrow will become a required dependency of pandas in the next major release of pandas (pandas 3.0),\n",
      "(to allow more performant data types, such as the Arrow string type, and better interoperability with other libraries)\n",
      "but was not found to be installed on your system.\n",
      "If this would cause problems for you,\n",
      "please provide us feedback at https://github.com/pandas-dev/pandas/issues/54466\n",
      "        \n",
      "  import pandas as pd\n"
     ]
    }
   ],
   "source": [
    "import pandas as pd"
   ]
  },
  {
   "cell_type": "code",
   "execution_count": 3,
   "metadata": {},
   "outputs": [],
   "source": [
    "# # Converting the NetCDF data variable 'var228' to a Pandas DataFrame\n",
    "# df = data['var228'].to_dataframe().reset_index()\n",
    "\n",
    "# df.shape"
   ]
  },
  {
   "cell_type": "code",
   "execution_count": 4,
   "metadata": {},
   "outputs": [],
   "source": [
    "# df.to_csv('obs_oct.csv', index=False)"
   ]
  },
  {
   "cell_type": "code",
   "execution_count": 5,
   "metadata": {},
   "outputs": [],
   "source": [
    "# df.head()"
   ]
  },
  {
   "cell_type": "code",
   "execution_count": 6,
   "metadata": {},
   "outputs": [],
   "source": [
    "obs_dec = pd.read_csv('../Precipitations_bias_correction/DATASET/dataset_csv/obs_dec.csv')\n",
    "obs_oct = pd.read_csv('../Precipitations_bias_correction/DATASET/dataset_csv/obs_oct.csv')\n",
    "obs_nov = pd.read_csv('../Precipitations_bias_correction/DATASET/dataset_csv/obs_nov.csv')"
   ]
  },
  {
   "cell_type": "code",
   "execution_count": 7,
   "metadata": {},
   "outputs": [],
   "source": [
    "obs_dec['time'] = pd.to_datetime(obs_dec['time'])\n",
    "\n",
    "# Extract year and month from 'time' column\n",
    "obs_dec['year'] = obs_dec['time'].dt.year\n",
    "obs_dec['month'] = obs_dec['time'].dt.month\n",
    "\n",
    "obs_oct['time'] = pd.to_datetime(obs_oct['time'])\n",
    "\n",
    "# Extract year and month from 'time' column\n",
    "obs_oct['year'] = obs_oct['time'].dt.year\n",
    "obs_oct['month'] = obs_oct['time'].dt.month\n",
    "\n",
    "obs_nov['time'] = pd.to_datetime(obs_nov['time'])\n",
    "\n",
    "# Extract year and month from 'time' column\n",
    "obs_nov['year'] = obs_nov['time'].dt.year\n",
    "obs_nov['month'] = obs_nov['time'].dt.month"
   ]
  },
  {
   "cell_type": "code",
   "execution_count": 8,
   "metadata": {},
   "outputs": [],
   "source": [
    "# obs_dec.describe()\n",
    "# obs_nov.describe()\n",
    "# obs_oct.describe()"
   ]
  },
  {
   "cell_type": "code",
   "execution_count": 9,
   "metadata": {},
   "outputs": [],
   "source": [
    "obs = pd.concat([obs_oct, obs_nov, obs_dec], ignore_index=True)"
   ]
  },
  {
   "cell_type": "code",
   "execution_count": 10,
   "metadata": {},
   "outputs": [],
   "source": [
    "obs = obs.drop_duplicates()"
   ]
  },
  {
   "cell_type": "code",
   "execution_count": 11,
   "metadata": {},
   "outputs": [],
   "source": [
    "obs['time'] = pd.to_datetime(obs['time'])\n",
    "\n",
    "# Extract year and month from 'time' column\n",
    "obs['year'] = obs['time'].dt.year\n",
    "obs['month'] = obs['time'].dt.month"
   ]
  },
  {
   "cell_type": "code",
   "execution_count": 12,
   "metadata": {},
   "outputs": [],
   "source": [
    "obs['precip_obs'] = 1000 * obs['var228']\n",
    "obs = obs.drop(['time', 'var228'], axis=1)"
   ]
  },
  {
   "cell_type": "code",
   "execution_count": 13,
   "metadata": {},
   "outputs": [
    {
     "data": {
      "text/html": [
       "<div>\n",
       "<style scoped>\n",
       "    .dataframe tbody tr th:only-of-type {\n",
       "        vertical-align: middle;\n",
       "    }\n",
       "\n",
       "    .dataframe tbody tr th {\n",
       "        vertical-align: top;\n",
       "    }\n",
       "\n",
       "    .dataframe thead th {\n",
       "        text-align: right;\n",
       "    }\n",
       "</style>\n",
       "<table border=\"1\" class=\"dataframe\">\n",
       "  <thead>\n",
       "    <tr style=\"text-align: right;\">\n",
       "      <th></th>\n",
       "      <th>lat</th>\n",
       "      <th>lon</th>\n",
       "      <th>year</th>\n",
       "      <th>month</th>\n",
       "      <th>precip_obs</th>\n",
       "    </tr>\n",
       "  </thead>\n",
       "  <tbody>\n",
       "    <tr>\n",
       "      <th>0</th>\n",
       "      <td>45.0</td>\n",
       "      <td>-20.0</td>\n",
       "      <td>1980</td>\n",
       "      <td>12</td>\n",
       "      <td>22.766113</td>\n",
       "    </tr>\n",
       "    <tr>\n",
       "      <th>1</th>\n",
       "      <td>45.0</td>\n",
       "      <td>-19.0</td>\n",
       "      <td>1980</td>\n",
       "      <td>12</td>\n",
       "      <td>22.293090</td>\n",
       "    </tr>\n",
       "    <tr>\n",
       "      <th>2</th>\n",
       "      <td>45.0</td>\n",
       "      <td>-18.0</td>\n",
       "      <td>1980</td>\n",
       "      <td>12</td>\n",
       "      <td>18.623352</td>\n",
       "    </tr>\n",
       "    <tr>\n",
       "      <th>3</th>\n",
       "      <td>45.0</td>\n",
       "      <td>-17.0</td>\n",
       "      <td>1980</td>\n",
       "      <td>12</td>\n",
       "      <td>16.082764</td>\n",
       "    </tr>\n",
       "    <tr>\n",
       "      <th>4</th>\n",
       "      <td>45.0</td>\n",
       "      <td>-16.0</td>\n",
       "      <td>1980</td>\n",
       "      <td>12</td>\n",
       "      <td>11.947632</td>\n",
       "    </tr>\n",
       "    <tr>\n",
       "      <th>...</th>\n",
       "      <td>...</td>\n",
       "      <td>...</td>\n",
       "      <td>...</td>\n",
       "      <td>...</td>\n",
       "      <td>...</td>\n",
       "    </tr>\n",
       "    <tr>\n",
       "      <th>473299</th>\n",
       "      <td>20.0</td>\n",
       "      <td>16.0</td>\n",
       "      <td>2017</td>\n",
       "      <td>11</td>\n",
       "      <td>0.000000</td>\n",
       "    </tr>\n",
       "    <tr>\n",
       "      <th>473300</th>\n",
       "      <td>20.0</td>\n",
       "      <td>17.0</td>\n",
       "      <td>2017</td>\n",
       "      <td>11</td>\n",
       "      <td>0.000000</td>\n",
       "    </tr>\n",
       "    <tr>\n",
       "      <th>473301</th>\n",
       "      <td>20.0</td>\n",
       "      <td>18.0</td>\n",
       "      <td>2017</td>\n",
       "      <td>11</td>\n",
       "      <td>0.000000</td>\n",
       "    </tr>\n",
       "    <tr>\n",
       "      <th>473302</th>\n",
       "      <td>20.0</td>\n",
       "      <td>19.0</td>\n",
       "      <td>2017</td>\n",
       "      <td>11</td>\n",
       "      <td>0.000000</td>\n",
       "    </tr>\n",
       "    <tr>\n",
       "      <th>473303</th>\n",
       "      <td>20.0</td>\n",
       "      <td>20.0</td>\n",
       "      <td>2017</td>\n",
       "      <td>11</td>\n",
       "      <td>0.000000</td>\n",
       "    </tr>\n",
       "  </tbody>\n",
       "</table>\n",
       "<p>473304 rows × 5 columns</p>\n",
       "</div>"
      ],
      "text/plain": [
       "         lat   lon  year  month  precip_obs\n",
       "0       45.0 -20.0  1980     12   22.766113\n",
       "1       45.0 -19.0  1980     12   22.293090\n",
       "2       45.0 -18.0  1980     12   18.623352\n",
       "3       45.0 -17.0  1980     12   16.082764\n",
       "4       45.0 -16.0  1980     12   11.947632\n",
       "...      ...   ...   ...    ...         ...\n",
       "473299  20.0  16.0  2017     11    0.000000\n",
       "473300  20.0  17.0  2017     11    0.000000\n",
       "473301  20.0  18.0  2017     11    0.000000\n",
       "473302  20.0  19.0  2017     11    0.000000\n",
       "473303  20.0  20.0  2017     11    0.000000\n",
       "\n",
       "[473304 rows x 5 columns]"
      ]
     },
     "execution_count": 13,
     "metadata": {},
     "output_type": "execute_result"
    }
   ],
   "source": [
    "obs"
   ]
  },
  {
   "cell_type": "code",
   "execution_count": 14,
   "metadata": {},
   "outputs": [],
   "source": [
    "est_dec = pd.read_csv('../Precipitations_bias_correction/DATASET/dataset_csv/est_dec.csv')\n",
    "est_oct = pd.read_csv('../Precipitations_bias_correction/DATASET/dataset_csv/est_oct.csv')\n",
    "est_nov = pd.read_csv('../Precipitations_bias_correction/DATASET/dataset_csv/est_nov.csv')"
   ]
  },
  {
   "cell_type": "code",
   "execution_count": 15,
   "metadata": {},
   "outputs": [
    {
     "data": {
      "text/html": [
       "<div>\n",
       "<style scoped>\n",
       "    .dataframe tbody tr th:only-of-type {\n",
       "        vertical-align: middle;\n",
       "    }\n",
       "\n",
       "    .dataframe tbody tr th {\n",
       "        vertical-align: top;\n",
       "    }\n",
       "\n",
       "    .dataframe thead th {\n",
       "        text-align: right;\n",
       "    }\n",
       "</style>\n",
       "<table border=\"1\" class=\"dataframe\">\n",
       "  <thead>\n",
       "    <tr style=\"text-align: right;\">\n",
       "      <th></th>\n",
       "      <th>time</th>\n",
       "      <th>lat</th>\n",
       "      <th>lon</th>\n",
       "      <th>var228</th>\n",
       "    </tr>\n",
       "  </thead>\n",
       "  <tbody>\n",
       "    <tr>\n",
       "      <th>0</th>\n",
       "      <td>1982-01-01</td>\n",
       "      <td>45.0</td>\n",
       "      <td>-20.0</td>\n",
       "      <td>114.242190</td>\n",
       "    </tr>\n",
       "    <tr>\n",
       "      <th>1</th>\n",
       "      <td>1982-01-01</td>\n",
       "      <td>45.0</td>\n",
       "      <td>-19.0</td>\n",
       "      <td>109.765625</td>\n",
       "    </tr>\n",
       "    <tr>\n",
       "      <th>2</th>\n",
       "      <td>1982-01-01</td>\n",
       "      <td>45.0</td>\n",
       "      <td>-18.0</td>\n",
       "      <td>106.218750</td>\n",
       "    </tr>\n",
       "    <tr>\n",
       "      <th>3</th>\n",
       "      <td>1982-01-01</td>\n",
       "      <td>45.0</td>\n",
       "      <td>-17.0</td>\n",
       "      <td>105.335940</td>\n",
       "    </tr>\n",
       "    <tr>\n",
       "      <th>4</th>\n",
       "      <td>1982-01-01</td>\n",
       "      <td>45.0</td>\n",
       "      <td>-16.0</td>\n",
       "      <td>103.375000</td>\n",
       "    </tr>\n",
       "    <tr>\n",
       "      <th>...</th>\n",
       "      <td>...</td>\n",
       "      <td>...</td>\n",
       "      <td>...</td>\n",
       "      <td>...</td>\n",
       "    </tr>\n",
       "    <tr>\n",
       "      <th>230251</th>\n",
       "      <td>2017-06-01</td>\n",
       "      <td>20.0</td>\n",
       "      <td>16.0</td>\n",
       "      <td>0.351885</td>\n",
       "    </tr>\n",
       "    <tr>\n",
       "      <th>230252</th>\n",
       "      <td>2017-06-01</td>\n",
       "      <td>20.0</td>\n",
       "      <td>17.0</td>\n",
       "      <td>0.426104</td>\n",
       "    </tr>\n",
       "    <tr>\n",
       "      <th>230253</th>\n",
       "      <td>2017-06-01</td>\n",
       "      <td>20.0</td>\n",
       "      <td>18.0</td>\n",
       "      <td>1.090166</td>\n",
       "    </tr>\n",
       "    <tr>\n",
       "      <th>230254</th>\n",
       "      <td>2017-06-01</td>\n",
       "      <td>20.0</td>\n",
       "      <td>19.0</td>\n",
       "      <td>1.437823</td>\n",
       "    </tr>\n",
       "    <tr>\n",
       "      <th>230255</th>\n",
       "      <td>2017-06-01</td>\n",
       "      <td>20.0</td>\n",
       "      <td>20.0</td>\n",
       "      <td>0.965166</td>\n",
       "    </tr>\n",
       "  </tbody>\n",
       "</table>\n",
       "<p>230256 rows × 4 columns</p>\n",
       "</div>"
      ],
      "text/plain": [
       "              time   lat   lon      var228\n",
       "0       1982-01-01  45.0 -20.0  114.242190\n",
       "1       1982-01-01  45.0 -19.0  109.765625\n",
       "2       1982-01-01  45.0 -18.0  106.218750\n",
       "3       1982-01-01  45.0 -17.0  105.335940\n",
       "4       1982-01-01  45.0 -16.0  103.375000\n",
       "...            ...   ...   ...         ...\n",
       "230251  2017-06-01  20.0  16.0    0.351885\n",
       "230252  2017-06-01  20.0  17.0    0.426104\n",
       "230253  2017-06-01  20.0  18.0    1.090166\n",
       "230254  2017-06-01  20.0  19.0    1.437823\n",
       "230255  2017-06-01  20.0  20.0    0.965166\n",
       "\n",
       "[230256 rows x 4 columns]"
      ]
     },
     "execution_count": 15,
     "metadata": {},
     "output_type": "execute_result"
    }
   ],
   "source": [
    "est_dec"
   ]
  },
  {
   "cell_type": "code",
   "execution_count": 16,
   "metadata": {},
   "outputs": [],
   "source": [
    "est_dec['time'] = pd.to_datetime(est_dec['time'])\n",
    "\n",
    "# Extract year and month from 'time' column\n",
    "est_dec['year'] = est_dec['time'].dt.year\n",
    "est_dec['month'] = est_dec['time'].dt.month\n",
    "\n",
    "est_dec['precip_est'] = est_dec['var228']\n",
    "est_dec = est_dec.drop(['time', 'var228'], axis=1)\n",
    "\n",
    "\n",
    "#oct\n",
    "est_oct['time'] = pd.to_datetime(est_oct['time'])\n",
    "\n",
    "# Extract year and month from 'time' column\n",
    "est_oct['year'] = est_oct['time'].dt.year\n",
    "est_oct['month'] = est_oct['time'].dt.month\n",
    "\n",
    "est_oct['precip_est'] = est_oct['var228']\n",
    "est_oct = est_oct.drop(['time', 'var228'], axis=1)\n",
    "\n",
    "#nov\n",
    "est_nov['time'] = pd.to_datetime(est_nov['time'])\n",
    "\n",
    "# Extract year and month from 'time' column\n",
    "est_nov['year'] = est_nov['time'].dt.year\n",
    "est_nov['month'] = est_nov['time'].dt.month\n",
    "\n",
    "est_nov['precip_est'] = est_nov['var228']\n",
    "est_nov = est_nov.drop(['time', 'var228'], axis=1)"
   ]
  },
  {
   "cell_type": "code",
   "execution_count": 17,
   "metadata": {},
   "outputs": [
    {
     "data": {
      "text/html": [
       "<div>\n",
       "<style scoped>\n",
       "    .dataframe tbody tr th:only-of-type {\n",
       "        vertical-align: middle;\n",
       "    }\n",
       "\n",
       "    .dataframe tbody tr th {\n",
       "        vertical-align: top;\n",
       "    }\n",
       "\n",
       "    .dataframe thead th {\n",
       "        text-align: right;\n",
       "    }\n",
       "</style>\n",
       "<table border=\"1\" class=\"dataframe\">\n",
       "  <thead>\n",
       "    <tr style=\"text-align: right;\">\n",
       "      <th></th>\n",
       "      <th>lat</th>\n",
       "      <th>lon</th>\n",
       "      <th>year</th>\n",
       "      <th>month</th>\n",
       "      <th>precip_est</th>\n",
       "    </tr>\n",
       "  </thead>\n",
       "  <tbody>\n",
       "    <tr>\n",
       "      <th>0</th>\n",
       "      <td>45.0</td>\n",
       "      <td>-20.0</td>\n",
       "      <td>1982</td>\n",
       "      <td>1</td>\n",
       "      <td>114.242190</td>\n",
       "    </tr>\n",
       "    <tr>\n",
       "      <th>1</th>\n",
       "      <td>45.0</td>\n",
       "      <td>-19.0</td>\n",
       "      <td>1982</td>\n",
       "      <td>1</td>\n",
       "      <td>109.765625</td>\n",
       "    </tr>\n",
       "    <tr>\n",
       "      <th>2</th>\n",
       "      <td>45.0</td>\n",
       "      <td>-18.0</td>\n",
       "      <td>1982</td>\n",
       "      <td>1</td>\n",
       "      <td>106.218750</td>\n",
       "    </tr>\n",
       "    <tr>\n",
       "      <th>3</th>\n",
       "      <td>45.0</td>\n",
       "      <td>-17.0</td>\n",
       "      <td>1982</td>\n",
       "      <td>1</td>\n",
       "      <td>105.335940</td>\n",
       "    </tr>\n",
       "    <tr>\n",
       "      <th>4</th>\n",
       "      <td>45.0</td>\n",
       "      <td>-16.0</td>\n",
       "      <td>1982</td>\n",
       "      <td>1</td>\n",
       "      <td>103.375000</td>\n",
       "    </tr>\n",
       "    <tr>\n",
       "      <th>...</th>\n",
       "      <td>...</td>\n",
       "      <td>...</td>\n",
       "      <td>...</td>\n",
       "      <td>...</td>\n",
       "      <td>...</td>\n",
       "    </tr>\n",
       "    <tr>\n",
       "      <th>230251</th>\n",
       "      <td>20.0</td>\n",
       "      <td>16.0</td>\n",
       "      <td>2017</td>\n",
       "      <td>6</td>\n",
       "      <td>0.351885</td>\n",
       "    </tr>\n",
       "    <tr>\n",
       "      <th>230252</th>\n",
       "      <td>20.0</td>\n",
       "      <td>17.0</td>\n",
       "      <td>2017</td>\n",
       "      <td>6</td>\n",
       "      <td>0.426104</td>\n",
       "    </tr>\n",
       "    <tr>\n",
       "      <th>230253</th>\n",
       "      <td>20.0</td>\n",
       "      <td>18.0</td>\n",
       "      <td>2017</td>\n",
       "      <td>6</td>\n",
       "      <td>1.090166</td>\n",
       "    </tr>\n",
       "    <tr>\n",
       "      <th>230254</th>\n",
       "      <td>20.0</td>\n",
       "      <td>19.0</td>\n",
       "      <td>2017</td>\n",
       "      <td>6</td>\n",
       "      <td>1.437823</td>\n",
       "    </tr>\n",
       "    <tr>\n",
       "      <th>230255</th>\n",
       "      <td>20.0</td>\n",
       "      <td>20.0</td>\n",
       "      <td>2017</td>\n",
       "      <td>6</td>\n",
       "      <td>0.965166</td>\n",
       "    </tr>\n",
       "  </tbody>\n",
       "</table>\n",
       "<p>230256 rows × 5 columns</p>\n",
       "</div>"
      ],
      "text/plain": [
       "         lat   lon  year  month  precip_est\n",
       "0       45.0 -20.0  1982      1  114.242190\n",
       "1       45.0 -19.0  1982      1  109.765625\n",
       "2       45.0 -18.0  1982      1  106.218750\n",
       "3       45.0 -17.0  1982      1  105.335940\n",
       "4       45.0 -16.0  1982      1  103.375000\n",
       "...      ...   ...   ...    ...         ...\n",
       "230251  20.0  16.0  2017      6    0.351885\n",
       "230252  20.0  17.0  2017      6    0.426104\n",
       "230253  20.0  18.0  2017      6    1.090166\n",
       "230254  20.0  19.0  2017      6    1.437823\n",
       "230255  20.0  20.0  2017      6    0.965166\n",
       "\n",
       "[230256 rows x 5 columns]"
      ]
     },
     "execution_count": 17,
     "metadata": {},
     "output_type": "execute_result"
    }
   ],
   "source": [
    "est_dec"
   ]
  },
  {
   "cell_type": "code",
   "execution_count": 18,
   "metadata": {},
   "outputs": [],
   "source": [
    "# est_dec.describe()\n",
    "# est_nov.describe()\n",
    "# est_oct.describe()"
   ]
  },
  {
   "cell_type": "code",
   "execution_count": 19,
   "metadata": {},
   "outputs": [],
   "source": [
    "# obs.describe()"
   ]
  },
  {
   "cell_type": "code",
   "execution_count": 20,
   "metadata": {},
   "outputs": [
    {
     "data": {
      "text/plain": [
       "((230256, 5), (473304, 5))"
      ]
     },
     "execution_count": 20,
     "metadata": {},
     "output_type": "execute_result"
    }
   ],
   "source": [
    "est_dec.shape, obs.shape"
   ]
  },
  {
   "cell_type": "code",
   "execution_count": 21,
   "metadata": {},
   "outputs": [],
   "source": [
    "dec_merged = pd.merge(est_dec, obs, how='left')\n",
    "nov_merged = pd.merge(est_nov, obs, how='left')\n",
    "oct_merged = pd.merge(est_oct, obs, how='left')"
   ]
  },
  {
   "cell_type": "code",
   "execution_count": 22,
   "metadata": {},
   "outputs": [
    {
     "data": {
      "text/plain": [
       "(230256, 6)"
      ]
     },
     "execution_count": 22,
     "metadata": {},
     "output_type": "execute_result"
    }
   ],
   "source": [
    "dec_merged.shape"
   ]
  },
  {
   "cell_type": "code",
   "execution_count": 23,
   "metadata": {},
   "outputs": [],
   "source": [
    "dec_merged = dec_merged.drop_duplicates()\n",
    "nov_merged = nov_merged.drop_duplicates()\n",
    "oct_merged = oct_merged.drop_duplicates()"
   ]
  },
  {
   "cell_type": "code",
   "execution_count": 24,
   "metadata": {},
   "outputs": [
    {
     "data": {
      "text/plain": [
       "(230256, 6)"
      ]
     },
     "execution_count": 24,
     "metadata": {},
     "output_type": "execute_result"
    }
   ],
   "source": [
    "dec_merged.shape"
   ]
  },
  {
   "cell_type": "code",
   "execution_count": 25,
   "metadata": {},
   "outputs": [
    {
     "data": {
      "text/plain": [
       "Index(['lat', 'lon', 'year', 'month', 'precip_est', 'precip_obs'], dtype='object')"
      ]
     },
     "execution_count": 25,
     "metadata": {},
     "output_type": "execute_result"
    }
   ],
   "source": [
    "dec_merged.columns"
   ]
  },
  {
   "cell_type": "code",
   "execution_count": 26,
   "metadata": {},
   "outputs": [],
   "source": [
    "dec_merged.loc[:, 'bias_dec'] = dec_merged['precip_est'] - dec_merged['precip_obs']\n",
    "nov_merged.loc[:, 'bias_nov'] = nov_merged['precip_est'] - nov_merged['precip_obs']\n",
    "oct_merged.loc[:, 'bias_oct'] = oct_merged['precip_est'] - oct_merged['precip_obs']"
   ]
  },
  {
   "cell_type": "code",
   "execution_count": 27,
   "metadata": {},
   "outputs": [],
   "source": [
    "# dec_merged.to_csv('dec_merged.csv', index=False)\n",
    "# nov_merged.to_csv('nov_merged.csv', index=False)\n",
    "# oct_merged.to_csv('oct_merged.csv', index=False)"
   ]
  },
  {
   "cell_type": "code",
   "execution_count": 28,
   "metadata": {},
   "outputs": [
    {
     "data": {
      "text/plain": [
       "(230256, 230256)"
      ]
     },
     "execution_count": 28,
     "metadata": {},
     "output_type": "execute_result"
    }
   ],
   "source": [
    "len(nov_merged), len(est_nov)"
   ]
  },
  {
   "cell_type": "code",
   "execution_count": 29,
   "metadata": {},
   "outputs": [
    {
     "data": {
      "text/html": [
       "<div>\n",
       "<style scoped>\n",
       "    .dataframe tbody tr th:only-of-type {\n",
       "        vertical-align: middle;\n",
       "    }\n",
       "\n",
       "    .dataframe tbody tr th {\n",
       "        vertical-align: top;\n",
       "    }\n",
       "\n",
       "    .dataframe thead th {\n",
       "        text-align: right;\n",
       "    }\n",
       "</style>\n",
       "<table border=\"1\" class=\"dataframe\">\n",
       "  <thead>\n",
       "    <tr style=\"text-align: right;\">\n",
       "      <th></th>\n",
       "      <th>lat</th>\n",
       "      <th>lon</th>\n",
       "      <th>year</th>\n",
       "      <th>month</th>\n",
       "      <th>precip_est</th>\n",
       "      <th>precip_obs</th>\n",
       "      <th>bias_nov</th>\n",
       "    </tr>\n",
       "  </thead>\n",
       "  <tbody>\n",
       "    <tr>\n",
       "      <th>0</th>\n",
       "      <td>45.0</td>\n",
       "      <td>-20.0</td>\n",
       "      <td>1981</td>\n",
       "      <td>12</td>\n",
       "      <td>107.417970</td>\n",
       "      <td>131.149290</td>\n",
       "      <td>-23.731320</td>\n",
       "    </tr>\n",
       "    <tr>\n",
       "      <th>1</th>\n",
       "      <td>45.0</td>\n",
       "      <td>-19.0</td>\n",
       "      <td>1981</td>\n",
       "      <td>12</td>\n",
       "      <td>98.339840</td>\n",
       "      <td>126.678470</td>\n",
       "      <td>-28.338630</td>\n",
       "    </tr>\n",
       "    <tr>\n",
       "      <th>2</th>\n",
       "      <td>45.0</td>\n",
       "      <td>-18.0</td>\n",
       "      <td>1981</td>\n",
       "      <td>12</td>\n",
       "      <td>92.800780</td>\n",
       "      <td>122.924805</td>\n",
       "      <td>-30.124025</td>\n",
       "    </tr>\n",
       "    <tr>\n",
       "      <th>3</th>\n",
       "      <td>45.0</td>\n",
       "      <td>-17.0</td>\n",
       "      <td>1981</td>\n",
       "      <td>12</td>\n",
       "      <td>88.367190</td>\n",
       "      <td>139.038090</td>\n",
       "      <td>-50.670900</td>\n",
       "    </tr>\n",
       "    <tr>\n",
       "      <th>4</th>\n",
       "      <td>45.0</td>\n",
       "      <td>-16.0</td>\n",
       "      <td>1981</td>\n",
       "      <td>12</td>\n",
       "      <td>85.582030</td>\n",
       "      <td>123.603820</td>\n",
       "      <td>-38.021790</td>\n",
       "    </tr>\n",
       "    <tr>\n",
       "      <th>...</th>\n",
       "      <td>...</td>\n",
       "      <td>...</td>\n",
       "      <td>...</td>\n",
       "      <td>...</td>\n",
       "      <td>...</td>\n",
       "      <td>...</td>\n",
       "      <td>...</td>\n",
       "    </tr>\n",
       "    <tr>\n",
       "      <th>230251</th>\n",
       "      <td>20.0</td>\n",
       "      <td>16.0</td>\n",
       "      <td>2017</td>\n",
       "      <td>5</td>\n",
       "      <td>1.878309</td>\n",
       "      <td>0.118256</td>\n",
       "      <td>1.760054</td>\n",
       "    </tr>\n",
       "    <tr>\n",
       "      <th>230252</th>\n",
       "      <td>20.0</td>\n",
       "      <td>17.0</td>\n",
       "      <td>2017</td>\n",
       "      <td>5</td>\n",
       "      <td>1.065809</td>\n",
       "      <td>0.591278</td>\n",
       "      <td>0.474531</td>\n",
       "    </tr>\n",
       "    <tr>\n",
       "      <th>230253</th>\n",
       "      <td>20.0</td>\n",
       "      <td>18.0</td>\n",
       "      <td>2017</td>\n",
       "      <td>5</td>\n",
       "      <td>1.386122</td>\n",
       "      <td>0.591278</td>\n",
       "      <td>0.794844</td>\n",
       "    </tr>\n",
       "    <tr>\n",
       "      <th>230254</th>\n",
       "      <td>20.0</td>\n",
       "      <td>19.0</td>\n",
       "      <td>2017</td>\n",
       "      <td>5</td>\n",
       "      <td>1.241591</td>\n",
       "      <td>1.182556</td>\n",
       "      <td>0.059034</td>\n",
       "    </tr>\n",
       "    <tr>\n",
       "      <th>230255</th>\n",
       "      <td>20.0</td>\n",
       "      <td>20.0</td>\n",
       "      <td>2017</td>\n",
       "      <td>5</td>\n",
       "      <td>0.257215</td>\n",
       "      <td>0.354767</td>\n",
       "      <td>-0.097551</td>\n",
       "    </tr>\n",
       "  </tbody>\n",
       "</table>\n",
       "<p>230256 rows × 7 columns</p>\n",
       "</div>"
      ],
      "text/plain": [
       "         lat   lon  year  month  precip_est  precip_obs   bias_nov\n",
       "0       45.0 -20.0  1981     12  107.417970  131.149290 -23.731320\n",
       "1       45.0 -19.0  1981     12   98.339840  126.678470 -28.338630\n",
       "2       45.0 -18.0  1981     12   92.800780  122.924805 -30.124025\n",
       "3       45.0 -17.0  1981     12   88.367190  139.038090 -50.670900\n",
       "4       45.0 -16.0  1981     12   85.582030  123.603820 -38.021790\n",
       "...      ...   ...   ...    ...         ...         ...        ...\n",
       "230251  20.0  16.0  2017      5    1.878309    0.118256   1.760054\n",
       "230252  20.0  17.0  2017      5    1.065809    0.591278   0.474531\n",
       "230253  20.0  18.0  2017      5    1.386122    0.591278   0.794844\n",
       "230254  20.0  19.0  2017      5    1.241591    1.182556   0.059034\n",
       "230255  20.0  20.0  2017      5    0.257215    0.354767  -0.097551\n",
       "\n",
       "[230256 rows x 7 columns]"
      ]
     },
     "execution_count": 29,
     "metadata": {},
     "output_type": "execute_result"
    }
   ],
   "source": [
    "nov_merged"
   ]
  },
  {
   "cell_type": "markdown",
   "metadata": {},
   "source": [
    "## dataset prep"
   ]
  },
  {
   "cell_type": "code",
   "execution_count": 31,
   "metadata": {},
   "outputs": [
    {
     "data": {
      "text/plain": [
       "array([1994, 1995, 1998, 2003, 2008, 2012, 2013, 2017])"
      ]
     },
     "execution_count": 31,
     "metadata": {},
     "output_type": "execute_result"
    }
   ],
   "source": [
    "from sklearn.model_selection import train_test_split\n",
    "\n",
    "years = dec_merged['year'].unique()\n",
    "train_years, test_years = train_test_split(years, test_size=0.2, random_state=42)\n",
    "\n",
    "dec_train_test = dec_merged\n",
    "dec_train_test['is_train'] = dec_merged['year'].isin(train_years)\n",
    "\n",
    "dec_train_test[dec_train_test['is_train'] == False]['year'].unique()"
   ]
  },
  {
   "cell_type": "code",
   "execution_count": 32,
   "metadata": {},
   "outputs": [
    {
     "data": {
      "text/plain": [
       "array([1985, 1987, 1994, 1998, 2006, 2007, 2010, 2016])"
      ]
     },
     "execution_count": 32,
     "metadata": {},
     "output_type": "execute_result"
    }
   ],
   "source": [
    "years = nov_merged['year'].unique()\n",
    "train_years, test_years = train_test_split(years, test_size=0.2, random_state=42)\n",
    "\n",
    "nov_train_test = nov_merged\n",
    "nov_train_test['is_train'] = nov_merged['year'].isin(train_years)\n",
    "\n",
    "nov_train_test[nov_train_test['is_train'] == False]['year'].unique()"
   ]
  },
  {
   "cell_type": "code",
   "execution_count": 33,
   "metadata": {},
   "outputs": [
    {
     "data": {
      "text/plain": [
       "array([1985, 1987, 1994, 1998, 2006, 2007, 2010, 2016])"
      ]
     },
     "execution_count": 33,
     "metadata": {},
     "output_type": "execute_result"
    }
   ],
   "source": [
    "years = oct_merged['year'].unique()\n",
    "train_years, test_years = train_test_split(years, test_size=0.2, random_state=42)\n",
    "\n",
    "oct_train_test = oct_merged\n",
    "oct_train_test['is_train'] = oct_merged['year'].isin(train_years)\n",
    "\n",
    "oct_train_test[oct_train_test['is_train'] == False]['year'].unique()"
   ]
  },
  {
   "cell_type": "code",
   "execution_count": 34,
   "metadata": {},
   "outputs": [],
   "source": [
    "# dec_train_test.to_csv('train_test/dec_train_test.csv', index=False)\n",
    "# nov_train_test.to_csv('train_test/nov_train_test.csv', index=False)\n",
    "# oct_train_test.to_csv('train_test/oct_train_test.csv', index=False)"
   ]
  },
  {
   "cell_type": "code",
   "execution_count": 35,
   "metadata": {},
   "outputs": [],
   "source": [
    "import numpy as np\n",
    "\n",
    "RMSE_bias_dec = dec_merged.groupby(['month'], as_index=False)['bias_dec'].agg(\n",
    "    lambda x: np.sqrt((x**2).mean())\n",
    ")\n",
    "\n",
    "RMSE_bias_nov = nov_merged.groupby(['month'], as_index=False)['bias_nov'].agg(\n",
    "    lambda x: np.sqrt((x**2).mean())\n",
    ")\n",
    "RMSE_bias_nov = pd.concat([RMSE_bias_nov.iloc[-1:], RMSE_bias_nov.iloc[:-1]], ignore_index=True)\n",
    "\n",
    "RMSE_bias_oct = oct_merged.groupby(['month'], as_index=False)['bias_oct'].agg(\n",
    "    lambda x: np.sqrt((x**2).mean())\n",
    ")\n",
    "RMSE_bias_oct = pd.concat([RMSE_bias_oct.iloc[-2:], RMSE_bias_oct.iloc[:-2]], ignore_index=True)"
   ]
  },
  {
   "cell_type": "code",
   "execution_count": 36,
   "metadata": {},
   "outputs": [
    {
     "data": {
      "text/html": [
       "<div>\n",
       "<style scoped>\n",
       "    .dataframe tbody tr th:only-of-type {\n",
       "        vertical-align: middle;\n",
       "    }\n",
       "\n",
       "    .dataframe tbody tr th {\n",
       "        vertical-align: top;\n",
       "    }\n",
       "\n",
       "    .dataframe thead th {\n",
       "        text-align: right;\n",
       "    }\n",
       "</style>\n",
       "<table border=\"1\" class=\"dataframe\">\n",
       "  <thead>\n",
       "    <tr style=\"text-align: right;\">\n",
       "      <th></th>\n",
       "      <th>month</th>\n",
       "      <th>bias_dec</th>\n",
       "    </tr>\n",
       "  </thead>\n",
       "  <tbody>\n",
       "    <tr>\n",
       "      <th>0</th>\n",
       "      <td>1</td>\n",
       "      <td>36.831786</td>\n",
       "    </tr>\n",
       "    <tr>\n",
       "      <th>1</th>\n",
       "      <td>2</td>\n",
       "      <td>31.407774</td>\n",
       "    </tr>\n",
       "    <tr>\n",
       "      <th>2</th>\n",
       "      <td>3</td>\n",
       "      <td>28.715006</td>\n",
       "    </tr>\n",
       "    <tr>\n",
       "      <th>3</th>\n",
       "      <td>4</td>\n",
       "      <td>25.965685</td>\n",
       "    </tr>\n",
       "    <tr>\n",
       "      <th>4</th>\n",
       "      <td>5</td>\n",
       "      <td>23.597865</td>\n",
       "    </tr>\n",
       "    <tr>\n",
       "      <th>5</th>\n",
       "      <td>6</td>\n",
       "      <td>19.564068</td>\n",
       "    </tr>\n",
       "  </tbody>\n",
       "</table>\n",
       "</div>"
      ],
      "text/plain": [
       "   month   bias_dec\n",
       "0      1  36.831786\n",
       "1      2  31.407774\n",
       "2      3  28.715006\n",
       "3      4  25.965685\n",
       "4      5  23.597865\n",
       "5      6  19.564068"
      ]
     },
     "execution_count": 36,
     "metadata": {},
     "output_type": "execute_result"
    }
   ],
   "source": [
    "RMSE_bias_dec"
   ]
  },
  {
   "cell_type": "code",
   "execution_count": 37,
   "metadata": {},
   "outputs": [
    {
     "data": {
      "text/html": [
       "<div>\n",
       "<style scoped>\n",
       "    .dataframe tbody tr th:only-of-type {\n",
       "        vertical-align: middle;\n",
       "    }\n",
       "\n",
       "    .dataframe tbody tr th {\n",
       "        vertical-align: top;\n",
       "    }\n",
       "\n",
       "    .dataframe thead th {\n",
       "        text-align: right;\n",
       "    }\n",
       "</style>\n",
       "<table border=\"1\" class=\"dataframe\">\n",
       "  <thead>\n",
       "    <tr style=\"text-align: right;\">\n",
       "      <th></th>\n",
       "      <th>month</th>\n",
       "      <th>bias_nov</th>\n",
       "    </tr>\n",
       "  </thead>\n",
       "  <tbody>\n",
       "    <tr>\n",
       "      <th>0</th>\n",
       "      <td>12</td>\n",
       "      <td>39.586934</td>\n",
       "    </tr>\n",
       "    <tr>\n",
       "      <th>1</th>\n",
       "      <td>1</td>\n",
       "      <td>34.189656</td>\n",
       "    </tr>\n",
       "    <tr>\n",
       "      <th>2</th>\n",
       "      <td>2</td>\n",
       "      <td>31.543403</td>\n",
       "    </tr>\n",
       "    <tr>\n",
       "      <th>3</th>\n",
       "      <td>3</td>\n",
       "      <td>29.215875</td>\n",
       "    </tr>\n",
       "    <tr>\n",
       "      <th>4</th>\n",
       "      <td>4</td>\n",
       "      <td>26.768828</td>\n",
       "    </tr>\n",
       "    <tr>\n",
       "      <th>5</th>\n",
       "      <td>5</td>\n",
       "      <td>23.777098</td>\n",
       "    </tr>\n",
       "  </tbody>\n",
       "</table>\n",
       "</div>"
      ],
      "text/plain": [
       "   month   bias_nov\n",
       "0     12  39.586934\n",
       "1      1  34.189656\n",
       "2      2  31.543403\n",
       "3      3  29.215875\n",
       "4      4  26.768828\n",
       "5      5  23.777098"
      ]
     },
     "execution_count": 37,
     "metadata": {},
     "output_type": "execute_result"
    }
   ],
   "source": [
    "RMSE_bias_nov"
   ]
  },
  {
   "cell_type": "code",
   "execution_count": 38,
   "metadata": {},
   "outputs": [
    {
     "data": {
      "text/html": [
       "<div>\n",
       "<style scoped>\n",
       "    .dataframe tbody tr th:only-of-type {\n",
       "        vertical-align: middle;\n",
       "    }\n",
       "\n",
       "    .dataframe tbody tr th {\n",
       "        vertical-align: top;\n",
       "    }\n",
       "\n",
       "    .dataframe thead th {\n",
       "        text-align: right;\n",
       "    }\n",
       "</style>\n",
       "<table border=\"1\" class=\"dataframe\">\n",
       "  <thead>\n",
       "    <tr style=\"text-align: right;\">\n",
       "      <th></th>\n",
       "      <th>month</th>\n",
       "      <th>bias_oct</th>\n",
       "    </tr>\n",
       "  </thead>\n",
       "  <tbody>\n",
       "    <tr>\n",
       "      <th>0</th>\n",
       "      <td>11</td>\n",
       "      <td>43.385900</td>\n",
       "    </tr>\n",
       "    <tr>\n",
       "      <th>1</th>\n",
       "      <td>12</td>\n",
       "      <td>36.161627</td>\n",
       "    </tr>\n",
       "    <tr>\n",
       "      <th>2</th>\n",
       "      <td>1</td>\n",
       "      <td>34.059735</td>\n",
       "    </tr>\n",
       "    <tr>\n",
       "      <th>3</th>\n",
       "      <td>2</td>\n",
       "      <td>32.503606</td>\n",
       "    </tr>\n",
       "    <tr>\n",
       "      <th>4</th>\n",
       "      <td>3</td>\n",
       "      <td>29.698488</td>\n",
       "    </tr>\n",
       "    <tr>\n",
       "      <th>5</th>\n",
       "      <td>4</td>\n",
       "      <td>26.693787</td>\n",
       "    </tr>\n",
       "  </tbody>\n",
       "</table>\n",
       "</div>"
      ],
      "text/plain": [
       "   month   bias_oct\n",
       "0     11  43.385900\n",
       "1     12  36.161627\n",
       "2      1  34.059735\n",
       "3      2  32.503606\n",
       "4      3  29.698488\n",
       "5      4  26.693787"
      ]
     },
     "execution_count": 38,
     "metadata": {},
     "output_type": "execute_result"
    }
   ],
   "source": [
    "RMSE_bias_oct"
   ]
  },
  {
   "cell_type": "code",
   "execution_count": 39,
   "metadata": {},
   "outputs": [],
   "source": [
    "RMSE_bias_nov = RMSE_bias_nov.drop(['month'], axis=1)\n",
    "RMSE_bias_oct = RMSE_bias_oct.drop(['month'], axis=1)"
   ]
  },
  {
   "cell_type": "code",
   "execution_count": 40,
   "metadata": {},
   "outputs": [],
   "source": [
    "RMSE_bias = pd.concat([RMSE_bias_dec, RMSE_bias_nov, RMSE_bias_oct], ignore_index=True, axis=1)\n",
    "\n",
    "RMSE_bias.columns = ['month', 'RMSE_dec', 'RMSE_nov', 'RMSE_oct']"
   ]
  },
  {
   "cell_type": "code",
   "execution_count": 41,
   "metadata": {},
   "outputs": [
    {
     "data": {
      "text/html": [
       "<div>\n",
       "<style scoped>\n",
       "    .dataframe tbody tr th:only-of-type {\n",
       "        vertical-align: middle;\n",
       "    }\n",
       "\n",
       "    .dataframe tbody tr th {\n",
       "        vertical-align: top;\n",
       "    }\n",
       "\n",
       "    .dataframe thead th {\n",
       "        text-align: right;\n",
       "    }\n",
       "</style>\n",
       "<table border=\"1\" class=\"dataframe\">\n",
       "  <thead>\n",
       "    <tr style=\"text-align: right;\">\n",
       "      <th></th>\n",
       "      <th>month</th>\n",
       "      <th>RMSE_dec</th>\n",
       "      <th>RMSE_nov</th>\n",
       "      <th>RMSE_oct</th>\n",
       "    </tr>\n",
       "  </thead>\n",
       "  <tbody>\n",
       "    <tr>\n",
       "      <th>0</th>\n",
       "      <td>1</td>\n",
       "      <td>36.831786</td>\n",
       "      <td>39.586934</td>\n",
       "      <td>43.385900</td>\n",
       "    </tr>\n",
       "    <tr>\n",
       "      <th>1</th>\n",
       "      <td>2</td>\n",
       "      <td>31.407774</td>\n",
       "      <td>34.189656</td>\n",
       "      <td>36.161627</td>\n",
       "    </tr>\n",
       "    <tr>\n",
       "      <th>2</th>\n",
       "      <td>3</td>\n",
       "      <td>28.715006</td>\n",
       "      <td>31.543403</td>\n",
       "      <td>34.059735</td>\n",
       "    </tr>\n",
       "    <tr>\n",
       "      <th>3</th>\n",
       "      <td>4</td>\n",
       "      <td>25.965685</td>\n",
       "      <td>29.215875</td>\n",
       "      <td>32.503606</td>\n",
       "    </tr>\n",
       "    <tr>\n",
       "      <th>4</th>\n",
       "      <td>5</td>\n",
       "      <td>23.597865</td>\n",
       "      <td>26.768828</td>\n",
       "      <td>29.698488</td>\n",
       "    </tr>\n",
       "    <tr>\n",
       "      <th>5</th>\n",
       "      <td>6</td>\n",
       "      <td>19.564068</td>\n",
       "      <td>23.777098</td>\n",
       "      <td>26.693787</td>\n",
       "    </tr>\n",
       "  </tbody>\n",
       "</table>\n",
       "</div>"
      ],
      "text/plain": [
       "   month   RMSE_dec   RMSE_nov   RMSE_oct\n",
       "0      1  36.831786  39.586934  43.385900\n",
       "1      2  31.407774  34.189656  36.161627\n",
       "2      3  28.715006  31.543403  34.059735\n",
       "3      4  25.965685  29.215875  32.503606\n",
       "4      5  23.597865  26.768828  29.698488\n",
       "5      6  19.564068  23.777098  26.693787"
      ]
     },
     "execution_count": 41,
     "metadata": {},
     "output_type": "execute_result"
    }
   ],
   "source": [
    "RMSE_bias\n",
    "#hey"
   ]
  },
  {
   "cell_type": "code",
   "execution_count": 42,
   "metadata": {},
   "outputs": [],
   "source": [
    "# RMSE_bias.to_csv('RMSE_bias.csv', index=False)"
   ]
  },
  {
   "cell_type": "code",
   "execution_count": 43,
   "metadata": {},
   "outputs": [
    {
     "data": {
      "image/png": "[encoded data removed]",
      "text/plain": [
       "<Figure size 1000x500 with 2 Axes>"
      ]
     },
     "metadata": {},
     "output_type": "display_data"
    }
   ],
   "source": [
    "import pandas as pd\n",
    "import seaborn as sns\n",
    "import matplotlib.pyplot as plt\n",
    "\n",
    "# Assuming 'df' is your DataFrame\n",
    "# Your actual DataFrame loading or preparation code here\n",
    "df = RMSE_bias\n",
    "\n",
    "df.set_index('month', inplace=True)\n",
    "\n",
    "# Creating the heatmap\n",
    "plt.figure(figsize=(10, 5))  # Adjust the figure size as necessary\n",
    "# sns.heatmap(df, annot=True, fmt=\".2f\", cmap='viridis', linewidths=.5)\n",
    "sns.heatmap(df, cmap='viridis', linewidths=.5)\n",
    "\n",
    "plt.title('RMSE Measurements Over Months')\n",
    "plt.xlabel('Measurement Type')\n",
    "plt.ylabel('Month')\n",
    "plt.tight_layout()"
   ]
  }
 ],
 "metadata": {
  "kernelspec": {
   "display_name": "Python 3",
   "language": "python",
   "name": "python3"
  },
  "language_info": {
   "codemirror_mode": {
    "name": "ipython",
    "version": 3
   },
   "file_extension": ".py",
   "mimetype": "text/x-python",
   "name": "python",
   "nbconvert_exporter": "python",
   "pygments_lexer": "ipython3",
   "version": "3.10.0"
  }
 },
 "nbformat": 4,
 "nbformat_minor": 2
}
